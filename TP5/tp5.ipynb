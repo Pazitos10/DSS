{
 "cells": [
  {
   "cell_type": "markdown",
   "metadata": {},
   "source": [
    "### 1. Aprendizaje Automático"
   ]
  },
  {
   "cell_type": "markdown",
   "metadata": {},
   "source": [
    "##### 1.1. Preprocesamiento de datos\n",
    "\n",
    "##### 1.1.1. \n",
    "A la hora de preparar los datos antes de ser entrenados existen tres acciones básicas a realizar, explique en que consiste cada una de las siguientes y como se implementarían en Python: Mean subtraction, Normalization, Scaling.\n",
    "\n",
    "Aplicar estas tres funciones sobre un dataset a elegir de scikit-learn"
   ]
  },
  {
   "cell_type": "markdown",
   "metadata": {},
   "source": [
    "#### a) Mean Substraction o Mean Removal \n",
    "#### [Teoría]: \n",
    " \n",
    "La intención de quitar la media al momento de preparar diferentes datos para ser utilizados a futuro, es lograr de algún modo una estandarización de dichos datos para que puedan ser comparados entre sí.\n",
    "\n",
    "Por ejemplo:\n",
    "\n",
    "Si pensamos en la medición de temperaturas, los valores numéricos de los promedios de temperatura dependen de que escala se utilice (Fahrenheit, Celsius o Kelvin). La elección de un punto central (es decir, un cero) para nuestras mediciones, estará ligada a la escala usada.\n",
    "\n",
    "Pero, si eliminamos la media, quitamos la influencia de dicha elección. Aún así, la unidad de medida sigue estando visible de algún modo en los datos, puesto que la nocion de \"1 grado de temperatura\" es diferente en las diferentes escalas. La division por σ remueve las unidades y obtenemos una cantidad sin unidad (\"z-score\") que es independiente de la escala de temperatura utilizada. (Teniendo en cuenta que la escala es linear y que el sentido de \"más caliente\" representa una \"mayor temperatura\").\n",
    "\n",
    "A gran escala, la idea es permitir que diferentes conjuntos de datos sean comparables."
   ]
  },
  {
   "cell_type": "markdown",
   "metadata": {},
   "source": [
    "#### [Aplicación]:"
   ]
  },
  {
   "cell_type": "code",
   "execution_count": 2,
   "metadata": {
    "collapsed": false,
    "scrolled": false
   },
   "outputs": [
    {
     "name": "stdout",
     "output_type": "stream",
     "text": [
      "Datos: \n",
      "[[ 5.1  3.5  1.4  0.2]\n",
      " [ 4.9  3.   1.4  0.2]\n",
      " [ 4.7  3.2  1.3  0.2]\n",
      " [ 4.6  3.1  1.5  0.2]\n",
      " [ 5.   3.6  1.4  0.2]\n",
      " [ 5.4  3.9  1.7  0.4]\n",
      " [ 4.6  3.4  1.4  0.3]\n",
      " [ 5.   3.4  1.5  0.2]\n",
      " [ 4.4  2.9  1.4  0.2]\n",
      " [ 4.9  3.1  1.5  0.1]]\n",
      "...\n"
     ]
    },
    {
     "data": {
      "image/png": "[encoded data removed]",
      "text/plain": [
       "<matplotlib.figure.Figure at 0x7f1b54358410>"
      ]
     },
     "metadata": {},
     "output_type": "display_data"
    }
   ],
   "source": [
    "from sklearn import preprocessing\n",
    "from sklearn import datasets\n",
    "import numpy as np\n",
    "% matplotlib inline\n",
    "import matplotlib.pyplot as plt\n",
    "\n",
    "def graficar(x, y):\n",
    "    # get the product class \n",
    "    product_class = np.unique(Y)\n",
    "    colors = plt.get_cmap(\"hsv\")\n",
    "    plt.figure(figsize=(10, 4))\n",
    "    for i, p in enumerate(product_class):\n",
    "        mask = (y == p)\n",
    "        plt.scatter(x[mask, 0], x[mask, 1], \n",
    "                    c=colors(1. * i / 11), label=p, alpha=0.2)\n",
    "    plt.legend(loc=\"best\")\n",
    "\n",
    "iris = datasets.load_iris()\n",
    "X = iris.data\n",
    "Y = iris.target\n",
    "print \"Datos: \\n\", X[:10]\n",
    "print \"...\"\n",
    "graficar(X, Y)"
   ]
  },
  {
   "cell_type": "code",
   "execution_count": 3,
   "metadata": {
    "collapsed": false
   },
   "outputs": [
    {
     "name": "stdout",
     "output_type": "stream",
     "text": [
      "Data w/ mean removal applied (total: 150):\n",
      " [[-0.90068117  1.03205722 -1.3412724  -1.31297673]\n",
      " [-1.14301691 -0.1249576  -1.3412724  -1.31297673]\n",
      " [-1.38535265  0.33784833 -1.39813811 -1.31297673]\n",
      " [-1.50652052  0.10644536 -1.2844067  -1.31297673]\n",
      " [-1.02184904  1.26346019 -1.3412724  -1.31297673]\n",
      " [-0.53717756  1.95766909 -1.17067529 -1.05003079]\n",
      " [-1.50652052  0.80065426 -1.3412724  -1.18150376]\n",
      " [-1.02184904  0.80065426 -1.2844067  -1.31297673]\n",
      " [-1.74885626 -0.35636057 -1.3412724  -1.31297673]\n",
      " [-1.14301691  0.10644536 -1.2844067  -1.4444497 ]]\n",
      "...\n"
     ]
    },
    {
     "data": {
      "image/png": "[encoded data removed]",
      "text/plain": [
       "<matplotlib.figure.Figure at 0x7f1b600d6ad0>"
      ]
     },
     "metadata": {},
     "output_type": "display_data"
    }
   ],
   "source": [
    "scaler = preprocessing.StandardScaler()\n",
    "X_scaled = scaler.fit_transform(X)\n",
    "mean_ = scaler.mean_\n",
    "std_ = scaler.std_\n",
    "print \"Data w/ mean removal applied (total: %d):\\n %s\" % (len(X_scaled), X_scaled[:10])\n",
    "print \"...\"\n",
    "graficar(X_scaled, Y)"
   ]
  },
  {
   "cell_type": "markdown",
   "metadata": {},
   "source": [
    "#### b) Normalización:\n",
    "#### [Teoría]:\n",
    "\n",
    "En estadística y aplicaciones de estadística, la normalización puede tener varios significados. En los casos más simples, la normalización se refiera a el ajuste de valores medidos en diferentes escalas a una escala común, a menudo antes de trabajar con promedios.\n",
    "\n",
    "En casos más complicados, la normalización puede referirse a ajustes más sofisticados donde la intención es \"alinear\" las diferentes distribuciones de probabilidad que poseen los datos.\n",
    "\n",
    "Un enfoque distinto es la normalización cuantil, donde los cuantiles de diferentes mediciones, son llevados a una forma común.\n",
    "\n",
    "En otro uso estadístico, el proceso de normalización se refiere a la creación de versiones escaladas y cambiadas de las estadísticas, donde la intención es que dichos valores normalizados permitan su comparación con otros valores (también normalizados), pertenecientes a otros conjuntos de datos, de modo que pueda ser posible eliminar ciertas influencias externas (por ejemplo: unidades de medida)."
   ]
  },
  {
   "cell_type": "markdown",
   "metadata": {},
   "source": [
    "#### [Aplicación:]"
   ]
  },
  {
   "cell_type": "code",
   "execution_count": 6,
   "metadata": {
    "collapsed": false
   },
   "outputs": [
    {
     "name": "stdout",
     "output_type": "stream",
     "text": [
      "Datos normalizados (total: 150):\n",
      " [[ 0.80377277  0.55160877  0.22064351  0.0315205 ]\n",
      " [ 0.82813287  0.50702013  0.23660939  0.03380134]\n",
      " [ 0.80533308  0.54831188  0.2227517   0.03426949]\n",
      " [ 0.80003025  0.53915082  0.26087943  0.03478392]\n",
      " [ 0.790965    0.5694948   0.2214702   0.0316386 ]\n",
      " [ 0.78417499  0.5663486   0.2468699   0.05808704]\n",
      " [ 0.78010936  0.57660257  0.23742459  0.0508767 ]\n",
      " [ 0.80218492  0.54548574  0.24065548  0.0320874 ]\n",
      " [ 0.80642366  0.5315065   0.25658935  0.03665562]\n",
      " [ 0.81803119  0.51752994  0.25041771  0.01669451]]\n",
      "...\n"
     ]
    },
    {
     "data": {
      "image/png": "[encoded data removed]",
      "text/plain": [
       "<matplotlib.figure.Figure at 0x7f1b53c9d510>"
      ]
     },
     "metadata": {},
     "output_type": "display_data"
    }
   ],
   "source": [
    "normalizer = preprocessing.Normalizer(norm='l2')\n",
    "X_normalized = normalizer.fit_transform(X)\n",
    "print \"Datos normalizados (total: %d):\\n %s\" % (len(X_normalized), X_normalized[:10])\n",
    "print \"...\"\n",
    "graficar(X_normalized, Y)"
   ]
  },
  {
   "cell_type": "markdown",
   "metadata": {},
   "source": [
    "#### c) Scaling:\n",
    "#### [Teoría]:\n",
    "\n",
    "\n",
    "Típicamente, en lo referente a estadística, la acción de escalar datos tiene que ver con transformar linealmente a los valores para poder trabajar con ellos. Por ejemplo: llevando todos los valores del conjunto de datos a una escala propiamente dicha, cuyos valores esten comprendidos entre 0 y 1, o entre -1 y 1.\n",
    "\n",
    "La normalización, en cambio, puede involucrar tanto el hecho de aplicar una transformación para que los datos estén distribuidos normalmente, o bien poner los valores en una escala común."
   ]
  },
  {
   "cell_type": "markdown",
   "metadata": {},
   "source": [
    "##### [Aplicación]:"
   ]
  },
  {
   "cell_type": "code",
   "execution_count": 7,
   "metadata": {
    "collapsed": false
   },
   "outputs": [
    {
     "name": "stdout",
     "output_type": "stream",
     "text": [
      "Datos escalados con un rango 0..1 (total: 150): \n",
      " [[ 0.22222222  0.625       0.06779661  0.04166667]\n",
      " [ 0.16666667  0.41666667  0.06779661  0.04166667]\n",
      " [ 0.11111111  0.5         0.05084746  0.04166667]\n",
      " [ 0.08333333  0.45833333  0.08474576  0.04166667]\n",
      " [ 0.19444444  0.66666667  0.06779661  0.04166667]\n",
      " [ 0.30555556  0.79166667  0.11864407  0.125     ]\n",
      " [ 0.08333333  0.58333333  0.06779661  0.08333333]\n",
      " [ 0.19444444  0.58333333  0.08474576  0.04166667]\n",
      " [ 0.02777778  0.375       0.06779661  0.04166667]\n",
      " [ 0.16666667  0.45833333  0.08474576  0.        ]]\n",
      "...\n"
     ]
    },
    {
     "data": {
      "image/png": "[encoded data removed]",
      "text/plain": [
       "<matplotlib.figure.Figure at 0x7f1b79b4c950>"
      ]
     },
     "metadata": {},
     "output_type": "display_data"
    }
   ],
   "source": [
    "min_max_scaler = preprocessing.MinMaxScaler()\n",
    "X_range_scaled = min_max_scaler.fit_transform(X)\n",
    "print \"Datos escalados con un rango 0..1 (total: %d): \\n %s\" % (len(X_range_scaled), X_range_scaled[:10])\n",
    "print \"...\"\n",
    "graficar(X_range_scaled, Y)"
   ]
  },
  {
   "cell_type": "markdown",
   "metadata": {},
   "source": [
    "#### 1.1.2. Cuando trabajamos con datos de muchas dimensiones, suele ser necesario reducir esta dimensionalidad sin perder mucha información de nuestros datos, una opción para realizar esto es aplicar PCA (principal component analysis) sobre los mismos."
   ]
  },
  {
   "cell_type": "markdown",
   "metadata": {},
   "source": [
    "#### a) Aplique PCA sobre el dataset otto(ver ipynb con links a dataset)"
   ]
  },
  {
   "cell_type": "code",
   "execution_count": null,
   "metadata": {
    "collapsed": false
   },
   "outputs": [],
   "source": []
  },
  {
   "cell_type": "markdown",
   "metadata": {},
   "source": [
    "#### b) Cuantos componentes se deben usar para explicar la variabilidad del 70 % y 80 % de los datos."
   ]
  },
  {
   "cell_type": "code",
   "execution_count": null,
   "metadata": {
    "collapsed": true
   },
   "outputs": [],
   "source": []
  },
  {
   "cell_type": "markdown",
   "metadata": {},
   "source": [
    "#### c) Grafique los primeros dos PCAs"
   ]
  },
  {
   "cell_type": "code",
   "execution_count": null,
   "metadata": {
    "collapsed": true
   },
   "outputs": [],
   "source": []
  },
  {
   "cell_type": "markdown",
   "metadata": {
    "collapsed": true
   },
   "source": [
    "#### 1.2. Introducción a aprendizaje automático\n",
    "Dentro del aprendizaje automático, contamos con varias áreas de aplicación, entre ellas podemos encontrar: clasificación, regresiones, clustering y reducción de dimensiones. \n",
    "\n",
    "Explique que problemas resuelven los métodos que se encuentran dentro de estas áreas, explique un método dentro de cada una de ellas y de una posible aplicación.\n",
    "\n",
    "-------------------------------------------------------------------------------------------\n",
    "\n",
    "Los métodos que se encuentran dentro de esas áreas resuelven los siguientes problemas:\n",
    "- Clasificación: Identificar a cuál categoría pertenece un objeto.\n",
    "- Regresión: Predecir un valor contínuo asociado a un objeto.\n",
    "- Clustering: Agrupación automática de objetos similares en conjuntos.\n",
    "- Reducción de dimensionalidad: Reducir el número de variables al azar a considerar.\n",
    "\n",
    "#### Métodos para clasificación y regresión:\n",
    "- Modelos lineales generalizados (regresión: bayesiana, logística, polinomial, entre otros).\n",
    "- Modelos lineales y cuadráticos para análisis discriminante.\n",
    "- Máquinas de vectores de soporte. (clasificación, regresión, formulación matemática, estimación de densidad, complejidad, entre otros).\n",
    "- Stochastic Gradient Descent (Clasificación, regresión, complejidad, entre otros).\n",
    "- Vecinos más cercanos (Clasificación, regresión, entre otros).\n",
    "- Procesos gausseanos (Formulacion matemática, modelos de correlación, modelos de regresión).\n",
    "- Descomposicion cruzada\n",
    "- Naive Bayes (Gauss Naive Bayes, Multinomial Naive Bayes, Bernoulli Naive Bayes, entre otros).\n",
    "- Arboles de decisión (Clasificación, regresión, problemas con múltiples resultados, complejidad, entre otros).\n",
    "Aplicación: \n",
    "- Clasificacion: El uso de SVM's para determinar a que número del 0 al 9, corresponde un digito manuscrito y proporcinado como entrada.\n",
    "- Regresión: Predicción del valor de una casa en función de su superficie útil, número de habitaciones, cuartos de baños, etc\n",
    "\n",
    "#### Métodos para clustering:\n",
    "- K-means\n",
    "- Affinity propagation\n",
    "- Mean-shift\n",
    "- Spectral clustering\n",
    "- Agglomerative clustering\n",
    "- Entre otros\n",
    "\n",
    "Aplicación: \n",
    "Las técnicas de agrupamiento encuentran aplicación en diversos ámbitos.\n",
    "- En biología para clasificar animales y plantas.\n",
    "- En medicina para identificar enfermedades.\n",
    "- En marketing para identificar personas con hábitos de compras similares.\n",
    "- En teoría de la señal pueden servir para eliminar ruidos.\n",
    "- En biometría para identificación del locutor o de caras.\n",
    "\n",
    "#### Métodos para reducción de dimensionalidad:\n",
    "- Exact PCA and probabilistic interpretation\n",
    "- Incremental PCA\n",
    "- Approximate PCA\n",
    "- Kernel PCA\n",
    "- SparcePCA\n",
    "- MiniBatchSparcePCA\n",
    "- Dictionary Learning\n",
    "- Factor Analysis\n",
    "- Independent Component Analysis (ICA)\n",
    "- Entre otros\n",
    "\n",
    "Aplicación:\n",
    "\n",
    "Una análisis de 11 indicadores socieconómicos de 96 países, reveló que los resultados podían explicarse en alto grado a partir de sólo dos componentes principales, el primero de ellos tenía que ver con el nivel de PIB total del país y el segundo con el índice de ruralidad.\n",
    "\n",
    "-------------------------------------------------------------------------------------------\n",
    "\n",
    "¿La cantidad de datos disponibles para entrenamiento pueden condicionar la elección de algún método sobre otro? ¿Y el tipo de dato? \n",
    "\n",
    "ver: supervisado,  no supervisado\n",
    "\n",
    "\n",
    "-------------------------------------------------------------------------------------------\n",
    "En la implementación, ¿Cuál es el pipe utilizado para analizar datos con una SVM? Explique parámetros y función de cada paso.\n",
    "\n",
    "Un pipeline sencillo puede ser el siguiente:\n",
    "\n",
    "```python\n",
    "from sklearn.pipline import make_pipeline\n",
    "from sklearn.preprocessing import StandardScaler\n",
    "from sklearn.svm import SVC\n",
    "\n",
    "pipe = make_pipeline(StandardScaler(), SVC())\n",
    "pipe.fit(X_train, y_train)\n",
    "pipe.predict(X_test)\n",
    "```\n",
    "En donde, por medio de la utilizacion de una funcion particular \"make_pipeline()\", se le indica con que método debe estandarizar los valores y con que algoritmo se va a trabajar, en este caso un \"SVC()\" (Support Vector Classifier), esto es, una SVM específica para problemas de clasificación.\n",
    "Luego se le indica que entrene con un subconjunto de los datos originales y que prediga los resultados de un subconjunto de datos de prueba.\n",
    "\n",
    "A su vez, hay pasos anteriores a esta utilización, como por ejemplo la división del conjunto de valores que se puede realizar como sigue:\n",
    "\n",
    "```python\n",
    "from sklearn.datasets import load_digits\n",
    "from sklearn.cross_validation import train_test_split\n",
    "\n",
    "digits = load_digits()\n",
    "X, y = digits.data, digits.target\n",
    "X_train, X_test, y_train, y_test = train_test_split(X, y, test_size=0.2, random_state=0)\n",
    "```\n",
    "En donde la función \"train_test_split()\", recibe como parámetros los datos originales (Tanto los valores originales como las clases a las que estos corresponden), el tamaño en porcentaje del conjunto de prueba resultante y el valor random_state que sirve de semilla para generar un muestreo al azar que le indica al algoritmo como hacer la división"
   ]
  },
  {
   "cell_type": "code",
   "execution_count": null,
   "metadata": {
    "collapsed": true
   },
   "outputs": [],
   "source": []
  }
 ],
 "metadata": {
  "kernelspec": {
   "display_name": "Python 2",
   "language": "python2",
   "name": "python2"
  },
  "language_info": {
   "codemirror_mode": {
    "name": "ipython",
    "version": 2
   },
   "file_extension": ".py",
   "mimetype": "text/x-python",
   "name": "python",
   "nbconvert_exporter": "python",
   "pygments_lexer": "ipython2",
   "version": "2.7.10"
  }
 },
 "nbformat": 4,
 "nbformat_minor": 0
}
