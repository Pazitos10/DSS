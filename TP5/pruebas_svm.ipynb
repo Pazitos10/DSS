{
 "cells": [
  {
   "cell_type": "code",
   "execution_count": 1,
   "metadata": {
    "collapsed": false
   },
   "outputs": [
    {
     "name": "stdout",
     "output_type": "stream",
     "text": [
      "[[  7.4000001    0.27000001   0.47999999 ...,   0.49000001  11.60000038\n",
      "    6.        ]\n",
      " [  6.9000001    0.23999999   0.34999999 ...,   0.44        10.           6.        ]\n",
      " [  7.0999999    0.43000001   0.61000001 ...,   0.44999999   8.69999981\n",
      "    5.        ]\n",
      " ..., \n",
      " [  7.30000019   0.28         0.43000001 ...,   0.41999999  12.80000019\n",
      "    5.        ]\n",
      " [  5.80000019   0.27000001   0.2        ...,   0.37        10.19999981\n",
      "    5.        ]\n",
      " [  8.60000038   0.26499999   0.36000001 ...,   0.36000001  11.39999962\n",
      "    7.        ]]\n"
     ]
    },
    {
     "name": "stderr",
     "output_type": "stream",
     "text": [
      "/home/bruno/.virtualenvs/dss/lib/python2.7/site-packages/sklearn/cross_validation.py:417: Warning: The least populated class in y has only 1 members, which is too few. The minimum number of labels for any class cannot be less than n_folds=3.\n",
      "  % (min_labels, self.n_folds)), Warning)\n"
     ]
    },
    {
     "data": {
      "text/plain": [
       "GridSearchCV(cv=None, error_score='raise',\n",
       "       estimator=SVC(C=1.0, cache_size=200, class_weight=None, coef0=0.0, degree=3, gamma=0.0,\n",
       "  kernel='rbf', max_iter=-1, probability=False, random_state=None,\n",
       "  shrinking=True, tol=0.001, verbose=False),\n",
       "       fit_params={}, iid=True, loss_func=None, n_jobs=1,\n",
       "       param_grid=[{'kernel': ['linear'], 'C': [1, 10, 100, 1000], 'gamma': [0.001, 0.0001]}],\n",
       "       pre_dispatch='2*n_jobs', refit=True, score_func=None, scoring=None,\n",
       "       verbose=0)"
      ]
     },
     "execution_count": 1,
     "metadata": {},
     "output_type": "execute_result"
    }
   ],
   "source": [
    "import pandas as pd\n",
    "from sklearn.cross_validation import train_test_split\n",
    "from sklearn import svm, grid_search\n",
    "import numpy as np\n",
    "\n",
    "white_wine_data = pd.read_csv('data/1.4/winequality-white.csv')\n",
    "\n",
    "#y = df['target'].values.astype(np.int32)\n",
    "#xs = df[df.columns[1:-1]].values.astype(np.float32)\n",
    "\n",
    "X = white_wine_data[1:-1].values.astype(np.float32)[:100]\n",
    "y = white_wine_data['quality'].values.astype(np.float32)[:100]\n",
    "\n",
    "X_train, X_test, y_train, y_test = train_test_split(X, y, test_size=0.05) \n",
    "\n",
    "param_grid = [\n",
    "  {'C': [1, 10, 100, 1000], 'gamma': [0.001, 0.0001], 'kernel': ['linear']},\n",
    " ]\n",
    "\n",
    "\n",
    "print X_train\n",
    "\n",
    "#svc = svm.SVC()\n",
    "#clf = grid_search.GridSearchCV(svc, param_grid)\n",
    "#clf.fit(X_train, y_train)"
   ]
  },
  {
   "cell_type": "code",
   "execution_count": 2,
   "metadata": {
    "collapsed": false
   },
   "outputs": [
    {
     "data": {
      "text/plain": [
       "[mean: 0.53684, std: 0.01011, params: {'kernel': 'linear', 'C': 1, 'gamma': 0.001},\n",
       " mean: 0.53684, std: 0.01011, params: {'kernel': 'linear', 'C': 1, 'gamma': 0.0001},\n",
       " mean: 0.47368, std: 0.04064, params: {'kernel': 'linear', 'C': 10, 'gamma': 0.001},\n",
       " mean: 0.47368, std: 0.04064, params: {'kernel': 'linear', 'C': 10, 'gamma': 0.0001},\n",
       " mean: 0.47368, std: 0.04064, params: {'kernel': 'linear', 'C': 100, 'gamma': 0.001},\n",
       " mean: 0.47368, std: 0.04064, params: {'kernel': 'linear', 'C': 100, 'gamma': 0.0001},\n",
       " mean: 0.46316, std: 0.08096, params: {'kernel': 'linear', 'C': 1000, 'gamma': 0.001},\n",
       " mean: 0.46316, std: 0.08096, params: {'kernel': 'linear', 'C': 1000, 'gamma': 0.0001}]"
      ]
     },
     "execution_count": 2,
     "metadata": {},
     "output_type": "execute_result"
    }
   ],
   "source": [
    "#clf.grid_scores_"
   ]
  },
  {
   "cell_type": "code",
   "execution_count": 5,
   "metadata": {
    "collapsed": false
   },
   "outputs": [
    {
     "data": {
      "text/plain": [
       "SVC(C=1, cache_size=200, class_weight=None, coef0=0.0, degree=3, gamma=0.001,\n",
       "  kernel='linear', max_iter=-1, probability=False, random_state=None,\n",
       "  shrinking=True, tol=0.001, verbose=False)"
      ]
     },
     "execution_count": 5,
     "metadata": {},
     "output_type": "execute_result"
    }
   ],
   "source": [
    "#Elegimos los parametros del score basados en menor desvio. \n",
    "clasificador = svm.SVC(kernel='linear', C=1, gamma=0.001)\n",
    "clasificador.fit(X_train, y_train)"
   ]
  },
  {
   "cell_type": "code",
   "execution_count": 9,
   "metadata": {
    "collapsed": false
   },
   "outputs": [
    {
     "name": "stdout",
     "output_type": "stream",
     "text": [
      "[  7.19999981e+00   3.89999986e-01   6.29999995e-01   1.10000000e+01\n",
      "   4.39999998e-02   5.50000000e+01   1.56000000e+02   9.97399986e-01\n",
      "   3.08999991e+00   4.39999998e-01   8.69999981e+00   6.00000000e+00]\n",
      "[ 6.] 6.0\n"
     ]
    }
   ],
   "source": [
    "print X_test[1]\n",
    "res = clasificador.predict(X_test[1])\n",
    "print res, y_test[1]"
   ]
  }
 ],
 "metadata": {
  "kernelspec": {
   "display_name": "Python 2",
   "language": "python2",
   "name": "python2"
  },
  "language_info": {
   "codemirror_mode": {
    "name": "ipython",
    "version": 2
   },
   "file_extension": ".py",
   "mimetype": "text/x-python",
   "name": "python",
   "nbconvert_exporter": "python",
   "pygments_lexer": "ipython2",
   "version": "2.7.10"
  }
 },
 "nbformat": 4,
 "nbformat_minor": 0
}
