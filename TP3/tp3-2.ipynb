{
 "cells": [
  {
   "cell_type": "markdown",
   "metadata": {},
   "source": [
    "### 2.a)\n",
    "\n",
    "### b)\n",
    "\n",
    "Para aumentar el limite de conexiones se modifico el parametro max_connections con un valor igual a 500 en el postgresql.conf\n",
    "\n",
    "### c)\n",
    "\n",
    "Para aumentar los límites de: shared_buffers, work_mem, maintenance_work_mem, temp_buffers y effective_cache_size se modificaron los parámetros de la siguiente manera en postgresql.conf:\n",
    "\n",
    "* shared_buffers = 512MB\n",
    "* work_mem = 512MB\n",
    "* maintenance_work_mem = 512MB\n",
    "* temp_buffers = 512MB\n",
    "* effective_cache_size = 512MB\n",
    "\n",
    "\n",
    "### d) Autovacuum\n",
    "\n",
    "Autovacuum hace un analisis del estado de cada tabla (basandose en las estadísticas de uso), si considera que debe hacerse un vacuum a una tabla, es decir, eliminacion de aquellas tuplas que fueron marcadas para ser borradas, entonces se hace; si considera que debe hacer un ANALYZE, se hace.  Si considera que no debe hacerse ninguna de las dos cosas, no se hace nada. \n",
    "\n",
    "Tomando todo esto en cuenta en el caso de nuestro Data Warehouse no es recomendable el uso del mismo debido a la poca utilización que se haría de ésta funcionalidad ya que mayormente estaríamos realizando INSERTs. \n",
    "Sin embargo si queremos mantener el uso de autovacuum, lo recomendable en éste caso donde sólo contamos con INSERTs en nuestro DW, es hacer vacuum cada mil millones de transacciones, esto es, con una muy baja frecuencia.\n",
    "\n",
    "Para la configuración de autovacuum en postgres se debe habilitar en el archivo postgresql.conf y modificar los parametros a gusto o necesidad de cada caso.\n",
    "\n",
    "### e) Tablespace\n",
    "\n",
    "Permite a los administradores definir los lugares, en el sistema de archivos, donde los archivos de la base de datos se pueden almacenar. Una vez creado, un Tablespace puede ser referenciado por su nombre a la hora de crear objetos de base de datos. \n",
    "Mediante el uso de Tablespace, un administrador puede controlar la estructura del disco de instalación de PostgreSQL. \n",
    "#### Beneficios:\n",
    "\n",
    "* En primer lugar, si la partición o volumen en el que el grupo se ha inicializado se queda sin espacio y no puede extenderse, un espacio de Tablespace se pueden crear en una partición diferente y se utiliza hasta que el sistema puede ser reconfigurado. \n",
    "* En segundo lugar, permitir a un administrador el uso acerca del conocimiento de los patrones de uso de objetos de base de datos para optimizar el rendimiento. Por ejemplo, un índice que es muy usado puede ser colocado en una forma muy rápida, altamente disponible en disco, como un costoso dispositivo de estado sólido. Al mismo tiempo, una tabla para almacenar datos que rara vez se utiliza o los resultados no son críticos podrían estar almacenados en un sistema de disco menos costoso o más lento. \n",
    "\n",
    "### f) Funciones de Ventana\n",
    "\n",
    "Son utiles cuando se necesitan realizar cierto tipo de consultas en donde queremos aplicar una función agregada a una partición o subconjunto de filas, desde cada fila que forma parte de un resultado. Las \"funciones ventana\" son similares hasta cierto punto a las típicas funciones agregadas pero con muchas mas posibilidades.\n",
    "\n",
    "![caption](image/windowFunction.png)\n",
    "\n",
    "### Implementación en SQL\n",
    "\n",
    "#### Cláusula para definir una Ventana\n",
    "WINDOW nombre_de_la_ventana AS (definicion_de_la_ventana) [, ...]\n",
    "\n",
    "#### Definición de Ventana\n",
    "[nombre_de_una_ventana_existente]\n",
    "\n",
    "[PARTITION BY expresion [, ...]]\n",
    "\n",
    "[ORDER BY expression [ASC|DESC|USING operator][NULLS{FIRST|LAST}][, ...]]\n",
    "\n",
    "[clausula_frame]\n",
    "\n",
    "#### Ejemplo \n",
    "\n",
    "![caption](image/ejemploVentana.png)\n",
    "\n",
    "\n",
    "### g)\n",
    "\n",
    "Es necesaria una política de caducidad ya que de lo contrario no se puede planificar el Data Warehouse, una buena planificacion nos permite establecer los requisitos de almacenamiento y proyectar cómo se ejecutarán las consultas cuando la base de datos este llena"
   ]
  },
  {
   "cell_type": "code",
   "execution_count": null,
   "metadata": {
    "collapsed": true
   },
   "outputs": [],
   "source": []
  }
 ],
 "metadata": {
  "kernelspec": {
   "display_name": "Python 2",
   "language": "python",
   "name": "python2"
  },
  "language_info": {
   "codemirror_mode": {
    "name": "ipython",
    "version": 2
   },
   "file_extension": ".py",
   "mimetype": "text/x-python",
   "name": "python",
   "nbconvert_exporter": "python",
   "pygments_lexer": "ipython2",
   "version": "2.7.9"
  }
 },
 "nbformat": 4,
 "nbformat_minor": 0
}
