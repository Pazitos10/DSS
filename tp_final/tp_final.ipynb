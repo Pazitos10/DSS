{
 "cells": [
  {
   "cell_type": "code",
   "execution_count": 1,
   "metadata": {
    "collapsed": true
   },
   "outputs": [],
   "source": [
    "% matplotlib inline\n",
    "from sklearn import preprocessing\n",
    "from sklearn.cross_validation import train_test_split\n",
    "import pandas as pd\n",
    "from sklearn.ensemble import ExtraTreesClassifier\n",
    "from sklearn.metrics import classification_report, confusion_matrix\n",
    "from sklearn.grid_search import GridSearchCV\n",
    "import numpy as np\n",
    "import matplotlib.pyplot as plt\n",
    "from sklearn.decomposition import PCA\n",
    "from sklearn.dummy import DummyClassifier\n",
    "\n",
    "def plot_matrix(clf, X_test, y_test):\n",
    "    \"\"\"Plot Confussion Matrix from a given classifier\"\"\"\n",
    "    plt.clf()\n",
    "    plt.imshow(confusion_matrix(y_test, clf.predict(X_test)),\n",
    "               interpolation='nearest', cmap=plt.cm.binary)\n",
    "    plt.colorbar()\n",
    "    plt.xlabel(\"true label\")\n",
    "    plt.ylabel(\"predicted label\")\n",
    "    plt.show()\n",
    "\n",
    "def get_n_comp_expl_var(variance):\n",
    "    \"\"\"Returns PCA components needed to explain given percentage of variance\"\"\"\n",
    "    for i in range(100):\n",
    "        pca = PCA(n_components=i)\n",
    "        pca.fit(X)\n",
    "        suma = pca.explained_variance_ratio_.sum()\n",
    "        if suma >= variance:\n",
    "            return i, pca\n"
   ]
  },
  {
   "cell_type": "code",
   "execution_count": 2,
   "metadata": {
    "collapsed": false
   },
   "outputs": [],
   "source": [
    "df = pd.read_csv('../TP5/data/train.csv')\n",
    "\n",
    "X = df.ix[:,1:-1].values\n",
    "y = df['target']\n",
    "\n",
    "le = preprocessing.LabelEncoder()\n",
    "y_encoded = le.fit_transform(y)\n",
    "\n",
    "X_train, X_test, y_train, y_test = train_test_split(X, y_encoded, test_size=0.25)"
   ]
  },
  {
   "cell_type": "markdown",
   "metadata": {},
   "source": [
    "#### Establecemos un baseline con un DummyClassifier (performance pobre)"
   ]
  },
  {
   "cell_type": "code",
   "execution_count": 3,
   "metadata": {
    "collapsed": false
   },
   "outputs": [
    {
     "name": "stdout",
     "output_type": "stream",
     "text": [
      "             precision    recall  f1-score   support\n",
      "\n",
      "          0       0.00      0.00      0.00       448\n",
      "          1       0.26      1.00      0.42      4058\n",
      "          2       0.00      0.00      0.00      1946\n",
      "          3       0.00      0.00      0.00       634\n",
      "          4       0.00      0.00      0.00       690\n",
      "          5       0.00      0.00      0.00      3612\n",
      "          6       0.00      0.00      0.00       699\n",
      "          7       0.00      0.00      0.00      2182\n",
      "          8       0.00      0.00      0.00      1201\n",
      "\n",
      "avg / total       0.07      0.26      0.11     15470\n",
      "\n",
      "0.262314156432\n"
     ]
    },
    {
     "name": "stderr",
     "output_type": "stream",
     "text": [
      "/home/bruno/.virtualenvs/dss/lib/python2.7/site-packages/sklearn/metrics/classification.py:958: UndefinedMetricWarning: Precision and F-score are ill-defined and being set to 0.0 in labels with no predicted samples.\n",
      "  'precision', 'predicted', average, warn_for)\n"
     ]
    },
    {
     "data": {
      "image/png": "[encoded data removed]",
      "text/plain": [
       "<matplotlib.figure.Figure at 0x7f623cfeffd0>"
      ]
     },
     "metadata": {},
     "output_type": "display_data"
    }
   ],
   "source": [
    "dummy = DummyClassifier(strategy='most_frequent',random_state=0).fit(X_train, y_train)\n",
    "y_pred_dummy = dummy.predict(X_test)\n",
    "print classification_report(y_test, y_pred_dummy)\n",
    "print dummy.score(X_test, y_test)\n",
    "plot_matrix(dummy, X_test, y_test)"
   ]
  },
  {
   "cell_type": "markdown",
   "metadata": {},
   "source": [
    "#### Probamos un Árbol (ETC) sin personalizar parámetros"
   ]
  },
  {
   "cell_type": "code",
   "execution_count": null,
   "metadata": {
    "collapsed": false
   },
   "outputs": [],
   "source": [
    "etc_1 = ExtraTreesClassifier(n_estimators=100, max_features=0.2, n_jobs=2)\n",
    "etc_1.fit(X_train, y_train)\n",
    "y_pred_etc_1 = etc_1.predict(X_test) "
   ]
  },
  {
   "cell_type": "code",
   "execution_count": null,
   "metadata": {
    "collapsed": false
   },
   "outputs": [],
   "source": [
    "print classification_report(y_test, y_pred_etc_1)\n",
    "print etc_1.score(X_test, y_test)\n",
    "plot_matrix(etc_1, X_test, y_test)"
   ]
  },
  {
   "cell_type": "markdown",
   "metadata": {},
   "source": [
    "#### Hacemos un GridSearch para buscar los mejores parámetros para nuestro clasificador"
   ]
  },
  {
   "cell_type": "code",
   "execution_count": null,
   "metadata": {
    "collapsed": false
   },
   "outputs": [],
   "source": [
    "parameters = {'max_features':np.arange(0.02,0.5,0.1), 'n_estimators':[100,400]}\n",
    "#clf = ExtraTreesClassifier()\n",
    "#clf = GridSearchCV(clf, parameters)\n",
    "#clf.fit(X_train, y_train)\n",
    "#print clf.best_score_\n",
    "#print clf.best_params_"
   ]
  },
  {
   "cell_type": "markdown",
   "metadata": {},
   "source": [
    "#### Creamos un clasificador con los parámetros indicados por el GridSearch \n",
    "#### {'max_features': 0.42000000000000004, 'n_estimators': 400}"
   ]
  },
  {
   "cell_type": "code",
   "execution_count": null,
   "metadata": {
    "collapsed": false
   },
   "outputs": [],
   "source": [
    "#This one takes a while\n",
    "#etc_2 = ExtraTreesClassifier(max_features=0.42, n_estimators=400, n_jobs=2) # score = 0.82 - Mas tiempo de proc.\n",
    "etc_2 = ExtraTreesClassifier(max_features=0.42, n_estimators=100, n_jobs=2) # score = 0.81 - Menos tiempo de proc.\n",
    "etc_2.fit(X_train, y_train)\n",
    "y_pred_etc_2 = etc_2.predict(X_test)"
   ]
  },
  {
   "cell_type": "code",
   "execution_count": null,
   "metadata": {
    "collapsed": false
   },
   "outputs": [],
   "source": [
    "print classification_report(y_pred_etc_2, y_test)\n",
    "print etc_2.score(X_test, y_test)\n",
    "plot_matrix(etc_2, X_test, y_test)"
   ]
  },
  {
   "cell_type": "markdown",
   "metadata": {},
   "source": [
    "#### Features más relevantes"
   ]
  },
  {
   "cell_type": "code",
   "execution_count": 15,
   "metadata": {
    "collapsed": false
   },
   "outputs": [
    {
     "data": {
      "image/png": "[encoded data removed]",
      "text/plain": [
       "<matplotlib.figure.Figure at 0x7f620c725e90>"
      ]
     },
     "metadata": {},
     "output_type": "display_data"
    },
    {
     "name": "stdout",
     "output_type": "stream",
     "text": [
      "0.074272115381 feat_2\n",
      "0.0464276170379 feat_1\n",
      "0.0464203119384 feat_5\n",
      "0.0447493900466 feat_13\n",
      "0.043740813392 feat_7\n",
      "0.0388520653283 feat_17\n",
      "0.0376498647213 feat_6\n",
      "0.031593454276 feat_8\n",
      "0.0307817396893 feat_3\n",
      "0.0285678556909 feat_35\n",
      "0.0278829785871 feat_11\n",
      "0.027290805223 feat_12\n",
      "0.0263674417525 feat_14\n",
      "0.0259023858209 feat_9\n",
      "0.0254801306576 feat_10\n",
      "0.0242927347117 feat_16\n",
      "0.0239006100058 feat_15\n",
      "0.0238615929963 feat_4\n",
      "0.0231991338905 feat_18\n",
      "0.0221495711354 feat_19\n",
      "0.0189576078344 feat_21\n",
      "0.01796515836 feat_33\n",
      "0.0176530045604 feat_43\n",
      "0.0164456134212 feat_20\n",
      "0.0158815800632 feat_31\n",
      "0.0154537385786 feat_24\n",
      "0.014864496117 feat_39\n",
      "0.0146935491763 feat_22\n",
      "0.0146187131672 feat_32\n",
      "0.0141149400896 feat_36\n",
      "0.0141037389955 feat_28\n",
      "0.0138103096893 feat_34\n",
      "0.01317542405 feat_23\n",
      "0.0130935416716 feat_37\n",
      "0.0130430054684 feat_29\n",
      "0.0129979575045 feat_38\n",
      "0.0129142135368 feat_42\n",
      "0.0128621271748 feat_25\n",
      "0.012735939651 feat_30\n",
      "0.0122103098188 feat_41\n",
      "0.0117188962375 feat_26\n",
      "0.0117076965726 feat_27\n",
      "0.0115958259789 feat_40\n",
      "             precision    recall  f1-score   support\n",
      "\n",
      "          0       0.40      0.67      0.50       283\n",
      "          1       0.88      0.69      0.77      5137\n",
      "          2       0.44      0.59      0.50      1438\n",
      "          3       0.28      0.86      0.42       233\n",
      "          4       0.97      0.97      0.97       662\n",
      "          5       0.95      0.94      0.94      3604\n",
      "          6       0.60      0.75      0.67       552\n",
      "          7       0.93      0.86      0.89      2241\n",
      "          8       0.86      0.85      0.85      1320\n",
      "\n",
      "avg / total       0.84      0.79      0.81     15470\n",
      "\n",
      "0.793148028442\n"
     ]
    },
    {
     "data": {
      "image/png": "[encoded data removed]",
      "text/plain": [
       "<matplotlib.figure.Figure at 0x7f620adc9890>"
      ]
     },
     "metadata": {},
     "output_type": "display_data"
    }
   ],
   "source": [
    "#n_components = 27 #explicamos el 80% de la variabilidad\n",
    "n_components = 43 #explicamos el 90% de la variabilidad\n",
    "pca = PCA(n_components=n_components)\n",
    "pca.fit(X)\n",
    "X_pca = pca.transform(X)\n",
    "\n",
    "X_pca_scaler = preprocessing.MinMaxScaler()\n",
    "X_pca_scaled = X_pca_scaler.fit_transform(X_pca)\n",
    "\n",
    "X_train, X_test, y_train, y_test = train_test_split(X_pca_scaled.astype(np.float32), \n",
    "                                                    y_encoded, test_size=0.25)\n",
    "\n",
    "etc_3 = ExtraTreesClassifier(max_features=0.42, n_estimators=400, n_jobs=2)\n",
    "etc_3.fit(X_train, y_train)\n",
    "y_pred_etc_3 = etc_3.predict(X_test)\n",
    "\n",
    "importances = etc_3.feature_importances_\n",
    "\n",
    "text = map(lambda i: df.columns[1:-1][i], range(n_components))\n",
    "plt.figure(figsize=(20, 6))\n",
    "plt.bar(range(n_components), height=importances,  width=1.)\n",
    "plt.xticks(np.arange(0.5, n_components, 1.), text, rotation=90)\n",
    "plt.xlim((0, n_components))\n",
    "plt.show()\n",
    "\n",
    "indices = np.argsort(importances)[::-1]\n",
    "for i in range(n_components):\n",
    "    print importances[indices[i]], df.columns[1:-1][indices[i]]\n",
    "    \n",
    "print classification_report(y_pred_etc_3, y_test)\n",
    "print etc_3.score(X_test, y_test) #100 estimadores = 0.78 - 400 estimadores = 0.79\n",
    "plot_matrix(etc_3, X_test, y_test)"
   ]
  },
  {
   "cell_type": "markdown",
   "metadata": {},
   "source": [
    "#### Nos quedamos con las que explican el 90% de la variabilidad para analizarlas mejor"
   ]
  },
  {
   "cell_type": "code",
   "execution_count": 16,
   "metadata": {
    "collapsed": false
   },
   "outputs": [
    {
     "name": "stdout",
     "output_type": "stream",
     "text": [
      "Index([u'feat_2', u'feat_1', u'feat_5', u'feat_13', u'feat_7', u'feat_17',\n",
      "       u'feat_6', u'feat_8', u'feat_3', u'feat_35', u'feat_11', u'feat_12',\n",
      "       u'feat_14', u'feat_9', u'feat_10', u'feat_16', u'feat_15', u'feat_4',\n",
      "       u'feat_18', u'feat_19', u'feat_21', u'feat_33', u'feat_43', u'feat_20',\n",
      "       u'feat_31', u'feat_24', u'feat_39', u'feat_22', u'feat_32', u'feat_36',\n",
      "       u'feat_28', u'feat_34', u'feat_23', u'feat_37', u'feat_29', u'feat_38',\n",
      "       u'feat_42', u'feat_25', u'feat_30', u'feat_41', u'feat_26', u'feat_27',\n",
      "       u'feat_40'],\n",
      "      dtype='object')\n"
     ]
    }
   ],
   "source": [
    "new_X_idx = []\n",
    "for i in range(n_components):\n",
    "    new_X_idx.append(df.columns[1:-1][indices[i]])\n",
    "\n",
    "new_X = df[new_X_idx]\n",
    "print new_X.columns"
   ]
  },
  {
   "cell_type": "markdown",
   "metadata": {},
   "source": [
    "#### Estandarizamos y normalizamos los datos"
   ]
  },
  {
   "cell_type": "code",
   "execution_count": 17,
   "metadata": {
    "collapsed": false
   },
   "outputs": [],
   "source": [
    "X_scaler = preprocessing.MinMaxScaler()\n",
    "#y_scaler = preprocessing.StandardScaler()\n",
    "\n",
    "new_X_scaled = X_scaler.fit_transform(new_X.values.astype(np.float32))\n",
    "#new_y_scaled = y_scaler.fit_transform(y_encoded)"
   ]
  },
  {
   "cell_type": "markdown",
   "metadata": {},
   "source": [
    "#### Dividimos nuevamente los datos"
   ]
  },
  {
   "cell_type": "code",
   "execution_count": 18,
   "metadata": {
    "collapsed": true
   },
   "outputs": [],
   "source": [
    "X_train, X_test, y_train, y_test = train_test_split(new_X_scaled, y_encoded.astype(np.int32), test_size=0.25)"
   ]
  },
  {
   "cell_type": "markdown",
   "metadata": {},
   "source": [
    "#### Creamos un nuevo Clasificador (usando los parametros de GridSearch)"
   ]
  },
  {
   "cell_type": "code",
   "execution_count": 19,
   "metadata": {
    "collapsed": true
   },
   "outputs": [],
   "source": [
    "etc_4 = ExtraTreesClassifier(max_features=0.42, n_estimators=400, n_jobs=2)\n",
    "etc_4.fit(X_train, y_train)\n",
    "y_pred_etc_4 = etc_4.predict(X_test)"
   ]
  },
  {
   "cell_type": "markdown",
   "metadata": {},
   "source": [
    "#### Analizamos su performance"
   ]
  },
  {
   "cell_type": "code",
   "execution_count": 20,
   "metadata": {
    "collapsed": false
   },
   "outputs": [
    {
     "name": "stdout",
     "output_type": "stream",
     "text": [
      "             precision    recall  f1-score   support\n",
      "\n",
      "          0       0.32      0.65      0.43       229\n",
      "          1       0.83      0.69      0.76      4863\n",
      "          2       0.46      0.55      0.50      1581\n",
      "          3       0.40      0.68      0.50       392\n",
      "          4       0.95      0.96      0.95       660\n",
      "          5       0.93      0.88      0.90      3664\n",
      "          6       0.48      0.74      0.58       478\n",
      "          7       0.86      0.80      0.83      2387\n",
      "          8       0.78      0.81      0.79      1216\n",
      "\n",
      "avg / total       0.79      0.76      0.77     15470\n",
      "\n",
      "0.760892049127\n"
     ]
    },
    {
     "data": {
      "image/png": "[encoded data removed]",
      "text/plain": [
       "<matplotlib.figure.Figure at 0x7f620ace7110>"
      ]
     },
     "metadata": {},
     "output_type": "display_data"
    }
   ],
   "source": [
    "print classification_report(y_pred_etc_4, y_test)\n",
    "print etc_4.score(X_test, y_test) #100 estimadores = 0.76 - 400 estimadores = 0.76\n",
    "plot_matrix(etc_4, X_test, y_test)"
   ]
  }
 ],
 "metadata": {
  "kernelspec": {
   "display_name": "Python 2",
   "language": "python2",
   "name": "python2"
  },
  "language_info": {
   "codemirror_mode": {
    "name": "ipython",
    "version": 2
   },
   "file_extension": ".py",
   "mimetype": "text/x-python",
   "name": "python",
   "nbconvert_exporter": "python",
   "pygments_lexer": "ipython2",
   "version": "2.7.10"
  }
 },
 "nbformat": 4,
 "nbformat_minor": 0
}
