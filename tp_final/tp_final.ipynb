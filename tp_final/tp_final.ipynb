{
 "cells": [
  {
   "cell_type": "code",
   "execution_count": 1,
   "metadata": {
    "collapsed": true
   },
   "outputs": [],
   "source": [
    "% matplotlib inline\n",
    "from sklearn import preprocessing\n",
    "from sklearn.cross_validation import train_test_split\n",
    "import pandas as pd\n",
    "from sklearn.ensemble import ExtraTreesClassifier\n",
    "from sklearn.metrics import classification_report, confusion_matrix\n",
    "from sklearn.grid_search import GridSearchCV\n",
    "import numpy as np\n",
    "import matplotlib.pyplot as plt\n",
    "\n",
    "def plot_matrix(clf, X_test, y_test):\n",
    "    \"\"\"Plot Confussion Matrix from a given classifier\"\"\"\n",
    "    plt.clf()\n",
    "    plt.imshow(confusion_matrix(y_test, clf.predict(X_test)),\n",
    "               interpolation='nearest', cmap=plt.cm.binary)\n",
    "    plt.colorbar()\n",
    "    plt.xlabel(\"true label\")\n",
    "    plt.ylabel(\"predicted label\")\n",
    "    plt.show()\n",
    "\n",
    "def get_n_comp_expl_var(variance):\n",
    "    \"\"\"Returns PCA components needed to explain given percentage of variance\"\"\"\n",
    "    for i in range(100):\n",
    "        pca = PCA(n_components=i)\n",
    "        pca.fit(X)\n",
    "        suma = pca.explained_variance_ratio_.sum()\n",
    "        if suma >= variance:\n",
    "            return i, pca\n"
   ]
  },
  {
   "cell_type": "code",
   "execution_count": 2,
   "metadata": {
    "collapsed": false
   },
   "outputs": [],
   "source": [
    "df = pd.read_csv('../TP5/data/train.csv')\n",
    "\n",
    "X = df.ix[:,1:-1].values\n",
    "y = df['target']\n",
    "\n",
    "le = preprocessing.LabelEncoder()\n",
    "y_encoded = le.fit_transform(y)\n",
    "\n",
    "X_train, X_test, y_train, y_test = train_test_split(X, y_encoded, test_size=0.25)"
   ]
  },
  {
   "cell_type": "markdown",
   "metadata": {},
   "source": [
    "#### Establecemos un baseline con un DummyClassifier (performance pobre)"
   ]
  },
  {
   "cell_type": "code",
   "execution_count": 3,
   "metadata": {
    "collapsed": false
   },
   "outputs": [
    {
     "name": "stdout",
     "output_type": "stream",
     "text": [
      "             precision    recall  f1-score   support\n",
      "\n",
      "          0       0.00      0.00      0.00       478\n",
      "          1       0.26      1.00      0.42      4098\n",
      "          2       0.00      0.00      0.00      1988\n",
      "          3       0.00      0.00      0.00       673\n",
      "          4       0.00      0.00      0.00       663\n",
      "          5       0.00      0.00      0.00      3464\n",
      "          6       0.00      0.00      0.00       650\n",
      "          7       0.00      0.00      0.00      2197\n",
      "          8       0.00      0.00      0.00      1259\n",
      "\n",
      "avg / total       0.07      0.26      0.11     15470\n",
      "\n",
      "0.264899806076\n"
     ]
    },
    {
     "name": "stderr",
     "output_type": "stream",
     "text": [
      "/home/bruno/.virtualenvs/dss/lib/python2.7/site-packages/sklearn/metrics/classification.py:958: UndefinedMetricWarning: Precision and F-score are ill-defined and being set to 0.0 in labels with no predicted samples.\n",
      "  'precision', 'predicted', average, warn_for)\n"
     ]
    },
    {
     "data": {
      "image/png": "[encoded data removed]",
      "text/plain": [
       "<matplotlib.figure.Figure at 0x7ff84e206e90>"
      ]
     },
     "metadata": {},
     "output_type": "display_data"
    }
   ],
   "source": [
    "from sklearn.dummy import DummyClassifier\n",
    "dummy = DummyClassifier(strategy='most_frequent',random_state=0).fit(X_train, y_train)\n",
    "y_pred_dummy = dummy.predict(X_test)\n",
    "print classification_report(y_test, y_pred_dummy)\n",
    "print dummy.score(X_test, y_test)\n",
    "plot_matrix(dummy, X_test, y_test)"
   ]
  },
  {
   "cell_type": "markdown",
   "metadata": {},
   "source": [
    "#### Probamos un Árbol (ETC) sin personalizar parámetros"
   ]
  },
  {
   "cell_type": "code",
   "execution_count": 4,
   "metadata": {
    "collapsed": false
   },
   "outputs": [],
   "source": [
    "etc_1 = ExtraTreesClassifier(n_estimators=100, max_features=0.2, n_jobs=2)\n",
    "etc_1.fit(X_train, y_train)\n",
    "y_pred_etc_1 = etc_1.predict(X_test) "
   ]
  },
  {
   "cell_type": "code",
   "execution_count": 5,
   "metadata": {
    "collapsed": false
   },
   "outputs": [
    {
     "name": "stdout",
     "output_type": "stream",
     "text": [
      "             precision    recall  f1-score   support\n",
      "\n",
      "          0       0.80      0.42      0.55       478\n",
      "          1       0.73      0.89      0.80      4098\n",
      "          2       0.64      0.51      0.57      1988\n",
      "          3       0.86      0.50      0.63       673\n",
      "          4       0.97      0.96      0.96       663\n",
      "          5       0.93      0.95      0.94      3464\n",
      "          6       0.79      0.58      0.67       650\n",
      "          7       0.88      0.94      0.91      2197\n",
      "          8       0.88      0.88      0.88      1259\n",
      "\n",
      "avg / total       0.82      0.82      0.81     15470\n",
      "\n",
      "0.818228829994\n"
     ]
    },
    {
     "data": {
      "image/png": "[encoded data removed]",
      "text/plain": [
       "<matplotlib.figure.Figure at 0x7ff81f2eda90>"
      ]
     },
     "metadata": {},
     "output_type": "display_data"
    }
   ],
   "source": [
    "print classification_report(y_test, y_pred_etc_1)\n",
    "print etc_1.score(X_test, y_test)\n",
    "plot_matrix(etc_1, X_test, y_test)"
   ]
  },
  {
   "cell_type": "markdown",
   "metadata": {},
   "source": [
    "#### Hacemos un GridSearch para buscar los mejores parámetros para nuestro clasificador"
   ]
  },
  {
   "cell_type": "code",
   "execution_count": null,
   "metadata": {
    "collapsed": false
   },
   "outputs": [],
   "source": [
    "parameters = {'max_features':np.arange(0.02,0.5,0.1), 'n_estimators':[100,400]}\n",
    "#clf = ExtraTreesClassifier()\n",
    "#clf = GridSearchCV(clf, parameters)\n",
    "#clf.fit(X_train, y_train)\n",
    "#print clf.best_score_\n",
    "#print clf.best_params_"
   ]
  },
  {
   "cell_type": "markdown",
   "metadata": {},
   "source": [
    "#### Creamos un clasificador con los parámetros indicados por el GridSearch \n",
    "#### {'max_features': 0.42000000000000004, 'n_estimators': 400}"
   ]
  },
  {
   "cell_type": "code",
   "execution_count": 6,
   "metadata": {
    "collapsed": false
   },
   "outputs": [],
   "source": [
    "#This one takes a while\n",
    "etc_2 = ExtraTreesClassifier(max_features=0.42, n_estimators=400, n_jobs=2)\n",
    "etc_2.fit(X_train, y_train)\n",
    "y_pred_etc_2 = etc_2.predict(X_test)"
   ]
  },
  {
   "cell_type": "code",
   "execution_count": 7,
   "metadata": {
    "collapsed": false
   },
   "outputs": [
    {
     "name": "stdout",
     "output_type": "stream",
     "text": [
      "             precision    recall  f1-score   support\n",
      "\n",
      "          0       0.46      0.80      0.59       278\n",
      "          1       0.88      0.74      0.80      4861\n",
      "          2       0.52      0.64      0.58      1622\n",
      "          3       0.53      0.85      0.65       423\n",
      "          4       0.96      0.97      0.96       657\n",
      "          5       0.95      0.94      0.95      3510\n",
      "          6       0.63      0.78      0.70       525\n",
      "          7       0.94      0.89      0.91      2317\n",
      "          8       0.89      0.88      0.88      1277\n",
      "\n",
      "avg / total       0.85      0.83      0.83     15470\n",
      "\n",
      "0.82501616031\n"
     ]
    },
    {
     "data": {
      "image/png": "[encoded data removed]",
      "text/plain": [
       "<matplotlib.figure.Figure at 0x7ff81f27a5d0>"
      ]
     },
     "metadata": {},
     "output_type": "display_data"
    }
   ],
   "source": [
    "print classification_report(y_pred_etc_2, y_test)\n",
    "print etc_2.score(X_test, y_test)\n",
    "plot_matrix(etc_2, X_test, y_test)"
   ]
  },
  {
   "cell_type": "markdown",
   "metadata": {},
   "source": [
    "#### Features más relevantes"
   ]
  },
  {
   "cell_type": "code",
   "execution_count": 14,
   "metadata": {
    "collapsed": false
   },
   "outputs": [
    {
     "data": {
      "image/png": "[encoded data removed]",
      "text/plain": [
       "<matplotlib.figure.Figure at 0x7ff81d97f510>"
      ]
     },
     "metadata": {},
     "output_type": "display_data"
    },
    {
     "name": "stdout",
     "output_type": "stream",
     "text": [
      "0.0898746029939 feat_2\n",
      "0.0545606444167 feat_1\n",
      "0.0543994179022 feat_5\n",
      "0.0539211720149 feat_7\n",
      "0.0503313296392 feat_13\n",
      "0.0480318398893 feat_17\n",
      "0.0459193968904 feat_6\n",
      "0.0399755769408 feat_8\n",
      "0.0392000647694 feat_11\n",
      "0.0375664282101 feat_3\n",
      "0.035915213671 feat_9\n",
      "0.0353462593124 feat_12\n",
      "0.034824083545 feat_14\n",
      "0.034764875421 feat_15\n",
      "0.0330965965148 feat_10\n",
      "0.0328433891323 feat_16\n",
      "0.0324032689937 feat_18\n",
      "0.031437273753 feat_4\n",
      "0.0307429615583 feat_19\n",
      "0.0280446831908 feat_21\n",
      "0.0249525014036 feat_24\n",
      "0.023897908894 feat_22\n",
      "0.0236385711199 feat_20\n",
      "0.0218713487127 feat_23\n",
      "0.0218329833327 feat_25\n",
      "0.0204279882968 feat_27\n",
      "0.0201796194813 feat_26\n"
     ]
    }
   ],
   "source": [
    "from sklearn import decomposition\n",
    "\n",
    "n_components = 27 #con 27 componentes explicamos el 80% de la variabilidad\n",
    "pca = decomposition.PCA(n_components=n_components)\n",
    "pca.fit(X)\n",
    "X_pca = pca.transform(X)\n",
    "\n",
    "\n",
    "X_train, X_test, y_train, y_test = train_test_split(X_pca, y_encoded, test_size=0.25)\n",
    "\n",
    "etc_3 = ExtraTreesClassifier(max_features=0.42, n_estimators=400, n_jobs=2)\n",
    "etc_3.fit(X_train, y_train)\n",
    "y_pred_etc_3 = etc_3.predict(X_test)\n",
    "\n",
    "importances = etc_3.feature_importances_\n",
    "\n",
    "text = map(lambda i: df.columns[1:-1][i], range(n_components))\n",
    "plt.figure(figsize=(n_components, 6))\n",
    "plt.bar(range(n_components), height=importances,  width=1.)\n",
    "plt.xticks(np.arange(0.5, n_components, 1.), text, rotation=90)\n",
    "plt.xlim((0, n_components))\n",
    "plt.show()\n",
    "\n",
    "indices = np.argsort(importances)[::-1]\n",
    "for i in range(n_components):\n",
    "    print importances[indices[i]], df.columns[1:-1][indices[i]]"
   ]
  },
  {
   "cell_type": "markdown",
   "metadata": {},
   "source": [
    "#### Nos quedamos con las que explican el 80% de la variabilidad para analizarlas mejor"
   ]
  },
  {
   "cell_type": "code",
   "execution_count": 15,
   "metadata": {
    "collapsed": false
   },
   "outputs": [
    {
     "name": "stdout",
     "output_type": "stream",
     "text": [
      "Index([u'feat_2', u'feat_1', u'feat_5', u'feat_7', u'feat_13', u'feat_17',\n",
      "       u'feat_6', u'feat_8', u'feat_11', u'feat_3', u'feat_9', u'feat_12',\n",
      "       u'feat_14', u'feat_15', u'feat_10', u'feat_16', u'feat_18', u'feat_4',\n",
      "       u'feat_19', u'feat_21', u'feat_24', u'feat_22', u'feat_20', u'feat_23',\n",
      "       u'feat_25', u'feat_27', u'feat_26'],\n",
      "      dtype='object')\n"
     ]
    }
   ],
   "source": [
    "new_X_idx = []\n",
    "for i in range(n_components):\n",
    "    new_X_idx.append(df.columns[1:-1][indices[i]])\n",
    "\n",
    "new_X = df[new_X_idx]\n",
    "print new_X.columns"
   ]
  },
  {
   "cell_type": "markdown",
   "metadata": {},
   "source": [
    "#### Estandarizamos y normalizamos los datos"
   ]
  },
  {
   "cell_type": "code",
   "execution_count": 16,
   "metadata": {
    "collapsed": false
   },
   "outputs": [],
   "source": [
    "X_scaler = preprocessing.MinMaxScaler()\n",
    "#y_scaler = preprocessing.StandardScaler()\n",
    "\n",
    "new_X_scaled = X_scaler.fit_transform(new_X.values.astype(np.float32))\n",
    "#new_y_scaled = y_scaler.fit_transform(y_encoded)"
   ]
  },
  {
   "cell_type": "markdown",
   "metadata": {},
   "source": [
    "#### Dividimos nuevamente los datos"
   ]
  },
  {
   "cell_type": "code",
   "execution_count": 17,
   "metadata": {
    "collapsed": true
   },
   "outputs": [],
   "source": [
    "X_train, X_test, y_train, y_test = train_test_split(new_X_scaled, y_encoded.astype(np.int32), test_size=0.25)"
   ]
  },
  {
   "cell_type": "markdown",
   "metadata": {},
   "source": [
    "#### Creamos un nuevo Clasificador (usando los parametros de GridSearch)"
   ]
  },
  {
   "cell_type": "code",
   "execution_count": null,
   "metadata": {
    "collapsed": true
   },
   "outputs": [],
   "source": [
    "etc_4 = ExtraTreesClassifier(max_features=0.42, n_estimators=400, n_jobs=2)\n",
    "etc_4.fit(X_train, y_train)\n",
    "y_pred_etc_4 = etc_4.predict(X_test)"
   ]
  },
  {
   "cell_type": "markdown",
   "metadata": {},
   "source": [
    "#### Analizamos su performance"
   ]
  },
  {
   "cell_type": "code",
   "execution_count": null,
   "metadata": {
    "collapsed": false
   },
   "outputs": [],
   "source": [
    "print classification_report(y_pred_etc_4, y_test)\n",
    "print etc_4.score(X_test, y_test)\n",
    "plot_matrix(etc_4, X_test, y_test)"
   ]
  }
 ],
 "metadata": {
  "kernelspec": {
   "display_name": "Python 2",
   "language": "python2",
   "name": "python2"
  },
  "language_info": {
   "codemirror_mode": {
    "name": "ipython",
    "version": 2
   },
   "file_extension": ".py",
   "mimetype": "text/x-python",
   "name": "python",
   "nbconvert_exporter": "python",
   "pygments_lexer": "ipython2",
   "version": "2.7.10"
  }
 },
 "nbformat": 4,
 "nbformat_minor": 0
}
