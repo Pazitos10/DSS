{
 "cells": [
  {
   "cell_type": "code",
   "execution_count": 1,
   "metadata": {
    "collapsed": true
   },
   "outputs": [],
   "source": [
    "% matplotlib inline\n",
    "from sklearn import preprocessing\n",
    "from sklearn.cross_validation import train_test_split\n",
    "import pandas as pd\n",
    "from sklearn.ensemble import ExtraTreesClassifier\n",
    "from sklearn.metrics import classification_report, confusion_matrix\n",
    "from sklearn.grid_search import GridSearchCV\n",
    "import numpy as np\n",
    "import matplotlib.pyplot as plt\n",
    "from sklearn.decomposition import RandomizedPCA as PCA\n",
    "from sklearn.dummy import DummyClassifier\n",
    "\n",
    "def plot_matrix(clf, X_test, y_test):\n",
    "    \"\"\"Plot Confussion Matrix from a given classifier\"\"\"\n",
    "    plt.clf()\n",
    "    plt.imshow(confusion_matrix(y_test, clf.predict(X_test)),\n",
    "               interpolation='nearest', cmap=plt.cm.binary)\n",
    "    plt.colorbar()\n",
    "    plt.xlabel(\"true label\")\n",
    "    plt.ylabel(\"predicted label\")\n",
    "    plt.show()\n",
    "\n",
    "def get_n_comp_expl_var(variance):\n",
    "    \"\"\"Returns PCA components needed to explain given percentage of variance\"\"\"\n",
    "    for i in range(100):\n",
    "        pca = PCA(n_components=i)\n",
    "        pca.fit(X)\n",
    "        suma = pca.explained_variance_ratio_.sum()\n",
    "        if suma >= variance:\n",
    "            return i, pca\n"
   ]
  },
  {
   "cell_type": "code",
   "execution_count": 2,
   "metadata": {
    "collapsed": false
   },
   "outputs": [],
   "source": [
    "df = pd.read_csv('../TP5/data/train.csv')\n",
    "\n",
    "X = df.ix[:,1:-1].values\n",
    "y = df['target']\n",
    "\n",
    "le = preprocessing.LabelEncoder()\n",
    "y_encoded = le.fit_transform(y)\n",
    "\n",
    "X_train, X_test, y_train, y_test = train_test_split(X, y_encoded, test_size=0.25)"
   ]
  },
  {
   "cell_type": "markdown",
   "metadata": {},
   "source": [
    "#### Establecemos un baseline con un DummyClassifier (performance pobre)"
   ]
  },
  {
   "cell_type": "code",
   "execution_count": 3,
   "metadata": {
    "collapsed": false
   },
   "outputs": [
    {
     "name": "stdout",
     "output_type": "stream",
     "text": [
      "             precision    recall  f1-score   support\n",
      "\n",
      "          0       0.00      0.00      0.00       473\n",
      "          1       0.26      1.00      0.42      4099\n",
      "          2       0.00      0.00      0.00      2007\n",
      "          3       0.00      0.00      0.00       689\n",
      "          4       0.00      0.00      0.00       669\n",
      "          5       0.00      0.00      0.00      3521\n",
      "          6       0.00      0.00      0.00       725\n",
      "          7       0.00      0.00      0.00      2077\n",
      "          8       0.00      0.00      0.00      1210\n",
      "\n",
      "avg / total       0.07      0.26      0.11     15470\n",
      "\n",
      "0.264964447317\n"
     ]
    },
    {
     "name": "stderr",
     "output_type": "stream",
     "text": [
      "/home/bruno/.virtualenvs/dss/lib/python2.7/site-packages/sklearn/metrics/classification.py:958: UndefinedMetricWarning: Precision and F-score are ill-defined and being set to 0.0 in labels with no predicted samples.\n",
      "  'precision', 'predicted', average, warn_for)\n"
     ]
    },
    {
     "data": {
      "image/png": "[encoded data removed]",
      "text/plain": [
       "<matplotlib.figure.Figure at 0x7f8a547ebfd0>"
      ]
     },
     "metadata": {},
     "output_type": "display_data"
    }
   ],
   "source": [
    "dummy = DummyClassifier(strategy='most_frequent',random_state=0).fit(X_train, y_train)\n",
    "y_pred_dummy = dummy.predict(X_test)\n",
    "print classification_report(y_test, y_pred_dummy)\n",
    "print dummy.score(X_test, y_test)\n",
    "plot_matrix(dummy, X_test, y_test)"
   ]
  },
  {
   "cell_type": "markdown",
   "metadata": {},
   "source": [
    "#### Probamos un Árbol (ETC) sin personalizar parámetros"
   ]
  },
  {
   "cell_type": "code",
   "execution_count": null,
   "metadata": {
    "collapsed": false
   },
   "outputs": [],
   "source": [
    "etc_1 = ExtraTreesClassifier(n_estimators=100, max_features=0.2, n_jobs=2)\n",
    "etc_1.fit(X_train, y_train)\n",
    "y_pred_etc_1 = etc_1.predict(X_test) "
   ]
  },
  {
   "cell_type": "code",
   "execution_count": null,
   "metadata": {
    "collapsed": false
   },
   "outputs": [],
   "source": [
    "print classification_report(y_test, y_pred_etc_1)\n",
    "print etc_1.score(X_test, y_test)\n",
    "plot_matrix(etc_1, X_test, y_test)"
   ]
  },
  {
   "cell_type": "markdown",
   "metadata": {},
   "source": [
    "#### Hacemos un GridSearch para buscar los mejores parámetros para nuestro clasificador"
   ]
  },
  {
   "cell_type": "code",
   "execution_count": null,
   "metadata": {
    "collapsed": false
   },
   "outputs": [],
   "source": [
    "parameters = {'max_features':np.arange(0.02,0.5,0.1), 'n_estimators':[100,400]}\n",
    "#clf = ExtraTreesClassifier()\n",
    "#clf = GridSearchCV(clf, parameters)\n",
    "#clf.fit(X_train, y_train)\n",
    "#print clf.best_score_\n",
    "#print clf.best_params_"
   ]
  },
  {
   "cell_type": "markdown",
   "metadata": {},
   "source": [
    "#### Creamos un clasificador con los parámetros indicados por el GridSearch \n",
    "#### {'max_features': 0.42000000000000004, 'n_estimators': 400}"
   ]
  },
  {
   "cell_type": "code",
   "execution_count": null,
   "metadata": {
    "collapsed": false
   },
   "outputs": [],
   "source": [
    "#This one takes a while\n",
    "#etc_2 = ExtraTreesClassifier(max_features=0.42, n_estimators=400, n_jobs=2) # score = 0.82 - Mas tiempo de proc.\n",
    "etc_2 = ExtraTreesClassifier(max_features=0.42, n_estimators=100, n_jobs=2) # score = 0.81 - Menos tiempo de proc.\n",
    "etc_2.fit(X_train, y_train)\n",
    "y_pred_etc_2 = etc_2.predict(X_test)"
   ]
  },
  {
   "cell_type": "code",
   "execution_count": null,
   "metadata": {
    "collapsed": false
   },
   "outputs": [],
   "source": [
    "print classification_report(y_pred_etc_2, y_test)\n",
    "print etc_2.score(X_test, y_test)\n",
    "plot_matrix(etc_2, X_test, y_test)"
   ]
  },
  {
   "cell_type": "markdown",
   "metadata": {},
   "source": [
    "#### Features más relevantes"
   ]
  },
  {
   "cell_type": "code",
   "execution_count": 5,
   "metadata": {
    "collapsed": false,
    "scrolled": true
   },
   "outputs": [
    {
     "name": "stdout",
     "output_type": "stream",
     "text": [
      "             precision    recall  f1-score   support\n",
      "\n",
      "          0       0.40      0.71      0.51       273\n",
      "          1       0.88      0.68      0.77      5264\n",
      "          2       0.43      0.60      0.50      1453\n",
      "          3       0.29      0.89      0.43       219\n",
      "          4       0.96      0.97      0.96       678\n",
      "          5       0.94      0.93      0.93      3443\n",
      "          6       0.62      0.77      0.69       572\n",
      "          7       0.93      0.87      0.90      2284\n",
      "          8       0.86      0.85      0.85      1284\n",
      "\n",
      "avg / total       0.83      0.79      0.80     15470\n",
      "\n",
      "0.79127343245\n"
     ]
    },
    {
     "data": {
      "image/png": "[encoded data removed]",
      "text/plain": [
       "<matplotlib.figure.Figure at 0x7f8a23f741d0>"
      ]
     },
     "metadata": {},
     "output_type": "display_data"
    }
   ],
   "source": [
    "#n_components = 27 #explicamos el 80% de la variabilidad\n",
    "#n_components = 43 #explicamos el 90% de la variabilidad\n",
    "n_components = 57 #explicamos el 95,2287597498% de la variabilidad\n",
    "pca = PCA(n_components=n_components)\n",
    "pca.fit(X)\n",
    "X_pca = pca.transform(X)\n",
    "\n",
    "X_pca_scaler = preprocessing.MinMaxScaler()\n",
    "X_pca_scaled = X_pca_scaler.fit_transform(X_pca)\n",
    "\n",
    "X_train, X_test, y_train, y_test = train_test_split(X_pca_scaled.astype(np.float32), \n",
    "                                                    y_encoded, test_size=0.25)\n",
    "\n",
    "etc_3 = ExtraTreesClassifier(max_features=0.42, n_estimators=400, n_jobs=2)\n",
    "etc_3.fit(X_train, y_train)\n",
    "y_pred_etc_3 = etc_3.predict(X_test)\n",
    "    \n",
    "print classification_report(y_pred_etc_3, y_test)\n",
    "print etc_3.score(X_test, y_test) #100 estimadores = 0.793148028442 - 400 estimadores = 0.79127343245\n",
    "plot_matrix(etc_3, X_test, y_test)"
   ]
  },
  {
   "cell_type": "markdown",
   "metadata": {},
   "source": [
    "#### Los siguientes features explican el 90% de la variabilidad"
   ]
  },
  {
   "cell_type": "code",
   "execution_count": 6,
   "metadata": {
    "collapsed": false
   },
   "outputs": [
    {
     "data": {
      "image/png": "[encoded data removed]",
      "text/plain": [
       "<matplotlib.figure.Figure at 0x7f8a4c1ac350>"
      ]
     },
     "metadata": {},
     "output_type": "display_data"
    },
    {
     "name": "stdout",
     "output_type": "stream",
     "text": [
      "0.071384239604 feat_2\n",
      "0.0449766066111 feat_1\n",
      "0.0417126163328 feat_7\n",
      "0.0400561159175 feat_5\n",
      "0.0396259050342 feat_13\n",
      "0.034224540406 feat_17\n",
      "0.0340558873748 feat_6\n",
      "0.0284388301229 feat_8\n",
      "0.0279981213942 feat_3\n",
      "0.0257795621099 feat_12\n",
      "0.0249767435946 feat_11\n",
      "0.0243980349653 feat_14\n",
      "0.0241556479177 feat_35\n",
      "0.0238794547378 feat_9\n",
      "0.0222735783807 feat_10\n",
      "0.0218834083636 feat_16\n",
      "0.0217831922805 feat_15\n",
      "0.0209100752587 feat_4\n",
      "0.0207920343132 feat_18\n",
      "0.0197218752649 feat_19\n",
      "0.0161559061506 feat_21\n",
      "0.0151651886713 feat_43\n",
      "0.0151115012985 feat_33\n",
      "0.0138302471516 feat_20\n",
      "0.0125836938739 feat_31\n",
      "0.0122925446117 feat_24\n",
      "0.0118722891092 feat_22\n",
      "0.0117347342232 feat_32\n",
      "0.0113894500228 feat_44\n",
      "0.0113545284322 feat_28\n",
      "0.0112617948795 feat_39\n",
      "0.0112281507804 feat_36\n",
      "0.0107781043108 feat_23\n",
      "0.0107732915043 feat_34\n",
      "0.010213112912 feat_37\n",
      "0.010082861396 feat_25\n",
      "0.0100254635522 feat_29\n",
      "0.0100220302451 feat_38\n",
      "0.0100173392902 feat_53\n",
      "0.00985171847575 feat_30\n",
      "0.00974104808274 feat_47\n",
      "0.00966211652657 feat_41\n",
      "0.00964446241234 feat_42\n",
      "0.00946282697778 feat_52\n",
      "0.00929622016472 feat_27\n",
      "0.00906330452707 feat_26\n",
      "0.00889503387295 feat_57\n",
      "0.00888451171648 feat_50\n",
      "0.0088112653544 feat_54\n",
      "0.00877964709924 feat_55\n",
      "0.00870997637372 feat_40\n",
      "0.00862351920791 feat_56\n",
      "0.00857317897764 feat_45\n",
      "0.00853735991584 feat_49\n",
      "0.00834590077686 feat_51\n",
      "0.0081029249699 feat_46\n",
      "0.00809628216815 feat_48\n"
     ]
    }
   ],
   "source": [
    "importances = etc_3.feature_importances_\n",
    "\n",
    "text = map(lambda i: df.columns[1:-1][i], range(n_components))\n",
    "plt.figure(figsize=(20, 6))\n",
    "plt.bar(range(n_components), height=importances,  width=1.)\n",
    "plt.xticks(np.arange(0.5, n_components, 1.), text, rotation=90)\n",
    "plt.xlim((0, n_components))\n",
    "plt.show()\n",
    "\n",
    "indices = np.argsort(importances)[::-1]\n",
    "for i in range(n_components):\n",
    "    print importances[indices[i]], df.columns[1:-1][indices[i]]"
   ]
  }
 ],
 "metadata": {
  "kernelspec": {
   "display_name": "Python 2",
   "language": "python2",
   "name": "python2"
  },
  "language_info": {
   "codemirror_mode": {
    "name": "ipython",
    "version": 2
   },
   "file_extension": ".py",
   "mimetype": "text/x-python",
   "name": "python",
   "nbconvert_exporter": "python",
   "pygments_lexer": "ipython2",
   "version": "2.7.10"
  }
 },
 "nbformat": 4,
 "nbformat_minor": 0
}
