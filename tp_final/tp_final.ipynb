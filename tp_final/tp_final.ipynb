{
 "cells": [
  {
   "cell_type": "code",
   "execution_count": 1,
   "metadata": {
    "collapsed": true
   },
   "outputs": [],
   "source": [
    "% matplotlib inline\n",
    "from sklearn import preprocessing\n",
    "from sklearn.cross_validation import train_test_split\n",
    "import pandas as pd\n",
    "from sklearn.ensemble import ExtraTreesClassifier\n",
    "from sklearn.metrics import classification_report, confusion_matrix\n",
    "from sklearn.grid_search import GridSearchCV\n",
    "import numpy as np\n",
    "import matplotlib.pyplot as plt"
   ]
  },
  {
   "cell_type": "code",
   "execution_count": 2,
   "metadata": {
    "collapsed": false
   },
   "outputs": [],
   "source": [
    "df = pd.read_csv('../TP5/data/train.csv')\n",
    "\n",
    "X = df.ix[:,1:-1].values\n",
    "y = df['target']\n",
    "\n",
    "le = preprocessing.LabelEncoder()\n",
    "y_encoded = le.fit_transform(y)\n",
    "\n",
    "X_train, X_test, y_train, y_test = train_test_split(X, y_encoded)"
   ]
  },
  {
   "cell_type": "markdown",
   "metadata": {},
   "source": [
    "#### Probamos un Árbol (ETC) sin personalizar parámetros"
   ]
  },
  {
   "cell_type": "code",
   "execution_count": 3,
   "metadata": {
    "collapsed": false
   },
   "outputs": [],
   "source": [
    "clf = ExtraTreesClassifier(n_estimators=100, max_features=0.2, n_jobs=2)\n",
    "clf.fit(X_train, y_train)\n",
    "y_pred = clf.predict(X_test) "
   ]
  },
  {
   "cell_type": "code",
   "execution_count": 4,
   "metadata": {
    "collapsed": false
   },
   "outputs": [
    {
     "name": "stdout",
     "output_type": "stream",
     "text": [
      "             precision    recall  f1-score   support\n",
      "\n",
      "          0       0.75      0.42      0.54       469\n",
      "          1       0.71      0.88      0.79      3988\n",
      "          2       0.64      0.49      0.56      2034\n",
      "          3       0.83      0.46      0.60       655\n",
      "          4       0.98      0.97      0.97       701\n",
      "          5       0.93      0.96      0.94      3556\n",
      "          6       0.80      0.58      0.67       734\n",
      "          7       0.88      0.93      0.90      2059\n",
      "          8       0.87      0.87      0.87      1274\n",
      "\n",
      "avg / total       0.81      0.81      0.80     15470\n",
      "\n"
     ]
    }
   ],
   "source": [
    "scores = classification_report(y_test, y_pred)\n",
    "print scores"
   ]
  },
  {
   "cell_type": "markdown",
   "metadata": {},
   "source": [
    "#### Hacemos un GridSearch para buscar los mejores parámetros para nuestro clasificador"
   ]
  },
  {
   "cell_type": "code",
   "execution_count": 5,
   "metadata": {
    "collapsed": false
   },
   "outputs": [],
   "source": [
    "parameters = {'max_features':np.arange(0.02,0.5,0.1), 'n_estimators':[100,400]}\n",
    "#clf = ExtraTreesClassifier()\n",
    "#clf = GridSearchCV(clf, parameters)\n",
    "#clf.fit(X_train, y_train)\n",
    "#print clf.best_score_\n",
    "#print clf.best_params_"
   ]
  },
  {
   "cell_type": "markdown",
   "metadata": {},
   "source": [
    "#### Creamos un clasificador con los parámetros indicados por el GridSearch \n",
    "#### {'max_features': 0.42000000000000004, 'n_estimators': 400}"
   ]
  },
  {
   "cell_type": "code",
   "execution_count": 6,
   "metadata": {
    "collapsed": false
   },
   "outputs": [],
   "source": [
    "clf = ExtraTreesClassifier(max_features=0.42, n_estimators=400, n_jobs=2, max_depth=8)\n",
    "clf.fit(X_train, y_train)\n",
    "y_pred = clf.predict(X_test)"
   ]
  },
  {
   "cell_type": "markdown",
   "metadata": {},
   "source": [
    "#### Features más relevantes"
   ]
  },
  {
   "cell_type": "code",
   "execution_count": 7,
   "metadata": {
    "collapsed": false
   },
   "outputs": [
    {
     "name": "stdout",
     "output_type": "stream",
     "text": [
      "(93,)\n"
     ]
    },
    {
     "data": {
      "image/png": "[encoded data removed]",
      "text/plain": [
       "<matplotlib.figure.Figure at 0x7fc0e1a523d0>"
      ]
     },
     "metadata": {},
     "output_type": "display_data"
    },
    {
     "name": "stdout",
     "output_type": "stream",
     "text": [
      "0.126448357318 feat_11\n",
      "0.119012633757 feat_60\n",
      "0.0652835227741 feat_34\n",
      "0.0558063746428 feat_14\n",
      "0.0406038421566 feat_69\n",
      "0.0391675132484 feat_26\n",
      "0.0331573467854 feat_40\n",
      "0.0317803398423 feat_3\n",
      "0.0306883082721 feat_25\n",
      "0.0286711512967 feat_46\n"
     ]
    }
   ],
   "source": [
    "importances = clf.feature_importances_\n",
    "\n",
    "text = map(lambda i: df.columns[1:-1][i], range(93))\n",
    "plt.figure(figsize=(20, 6))\n",
    "print importances[::-1].shape\n",
    "plt.bar(range(93),height=importances,  width=1.)\n",
    "plt.xticks(np.arange(0.5, 93, 1.), text, rotation=90)\n",
    "plt.xlim((0, 93))\n",
    "plt.show()\n",
    "# Top 10\n",
    "indices = np.argsort(importances)[::-1]\n",
    "for i in range(10):\n",
    "    print importances[indices[i]], df.columns[1:-1][indices[i]]"
   ]
  },
  {
   "cell_type": "code",
   "execution_count": null,
   "metadata": {
    "collapsed": true
   },
   "outputs": [],
   "source": []
  },
  {
   "cell_type": "markdown",
   "metadata": {
    "collapsed": true
   },
   "source": [
    "### Scores obtenidos"
   ]
  },
  {
   "cell_type": "markdown",
   "metadata": {},
   "source": [
    "#### Confussion Matrix y Classification Report"
   ]
  },
  {
   "cell_type": "code",
   "execution_count": 8,
   "metadata": {
    "collapsed": false
   },
   "outputs": [
    {
     "name": "stdout",
     "output_type": "stream",
     "text": [
      "             precision    recall  f1-score   support\n",
      "\n",
      "          0       0.00      0.00      0.00         0\n",
      "          1       1.00      0.46      0.63      8707\n",
      "          2       0.00      0.80      0.00         5\n",
      "          3       0.01      1.00      0.02         5\n",
      "          4       0.84      0.99      0.91       598\n",
      "          5       0.92      0.90      0.91      3665\n",
      "          6       0.04      0.96      0.07        28\n",
      "          7       0.76      0.81      0.78      1923\n",
      "          8       0.38      0.91      0.54       539\n",
      "\n",
      "avg / total       0.92      0.64      0.72     15470\n",
      "\n",
      "0.641822882999\n"
     ]
    },
    {
     "name": "stderr",
     "output_type": "stream",
     "text": [
      "/home/bruno/.virtualenvs/dss/lib/python2.7/site-packages/sklearn/metrics/classification.py:960: UndefinedMetricWarning: Recall and F-score are ill-defined and being set to 0.0 in labels with no true samples.\n",
      "  'recall', 'true', average, warn_for)\n"
     ]
    },
    {
     "data": {
      "image/png": "[encoded data removed]",
      "text/plain": [
       "<matplotlib.figure.Figure at 0x7fc0d10c7190>"
      ]
     },
     "metadata": {},
     "output_type": "display_data"
    }
   ],
   "source": [
    "def plot_matrix(clf, X_test, y_test):\n",
    "    plt.clf()\n",
    "    plt.imshow(confusion_matrix(clf.predict(X_test), y_test),\n",
    "               interpolation='nearest', cmap=plt.cm.binary)\n",
    "    plt.colorbar()\n",
    "    plt.xlabel(\"true label\")\n",
    "    plt.ylabel(\"predicted label\")\n",
    "    plt.show()\n",
    "\n",
    "print classification_report(y_pred, y_test)\n",
    "print clf.score(X_test, y_test)\n",
    "plot_matrix(clf, X_test, y_test)"
   ]
  },
  {
   "cell_type": "code",
   "execution_count": 9,
   "metadata": {
    "collapsed": false
   },
   "outputs": [
    {
     "name": "stdout",
     "output_type": "stream",
     "text": [
      "0.257789269554\n"
     ]
    },
    {
     "data": {
      "image/png": "[encoded data removed]",
      "text/plain": [
       "<matplotlib.figure.Figure at 0x7fc0d298f050>"
      ]
     },
     "metadata": {},
     "output_type": "display_data"
    }
   ],
   "source": [
    "from sklearn.dummy import DummyClassifier\n",
    "clf = DummyClassifier(strategy='most_frequent',random_state=0).fit(X_train, y_train)\n",
    "print clf.score(X_test, y_test)\n",
    "plot_matrix(clf, X_test, y_test)"
   ]
  }
 ],
 "metadata": {
  "kernelspec": {
   "display_name": "Python 2",
   "language": "python2",
   "name": "python2"
  },
  "language_info": {
   "codemirror_mode": {
    "name": "ipython",
    "version": 2
   },
   "file_extension": ".py",
   "mimetype": "text/x-python",
   "name": "python",
   "nbconvert_exporter": "python",
   "pygments_lexer": "ipython2",
   "version": "2.7.10"
  }
 },
 "nbformat": 4,
 "nbformat_minor": 0
}
