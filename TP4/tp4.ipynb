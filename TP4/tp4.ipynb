{
 "cells": [
  {
   "cell_type": "markdown",
   "metadata": {},
   "source": [
    "### 1. Mineria de Datos sobre Redes Sociales y Sitios Web"
   ]
  },
  {
   "cell_type": "markdown",
   "metadata": {},
   "source": [
    "#### 1.1. Tomando datos de la red social Twitter, al menos 200 tweets, realice un script que recolecte, procese y vizualice los datos con las siguientes restricciones:"
   ]
  },
  {
   "cell_type": "markdown",
   "metadata": {},
   "source": [
    "##### a)Los tres trends más RT del momento."
   ]
  },
  {
   "cell_type": "code",
   "execution_count": 1,
   "metadata": {
    "collapsed": false,
    "scrolled": true
   },
   "outputs": [],
   "source": [
    "#Cargamos los paquetes necesarios para entrar a la API de Twitter\n",
    "import twitter\n",
    "import json\n",
    "from prettytable import PrettyTable\n",
    "from collections import Counter\n",
    "import pandas as pd\n",
    "\n",
    "keys = pd.read_json('keys.json')['KEYS']\n",
    "CONSUMER_KEY = keys['CONSUMER_KEY']\n",
    "CONSUMER_SECRET = keys['CONSUMER_SECRET']\n",
    "OAUTH_TOKEN = keys['OAUTH_TOKEN']\n",
    "OAUTH_TOKEN_SECRET = keys['OAUTH_TOKEN_SECRET']\n",
    "\n",
    "auth = twitter.oauth.OAuth(OAUTH_TOKEN, OAUTH_TOKEN_SECRET, CONSUMER_KEY, CONSUMER_SECRET)\n",
    "twitter_api = twitter.Twitter(auth=auth)"
   ]
  },
  {
   "cell_type": "markdown",
   "metadata": {},
   "source": [
    "#### Seteamos los WOEID para obtener los resultados "
   ]
  },
  {
   "cell_type": "code",
   "execution_count": 2,
   "metadata": {
    "collapsed": false
   },
   "outputs": [
    {
     "name": "stdout",
     "output_type": "stream",
     "text": [
      "+----------------------------+\n",
      "|        Spain Trends        |\n",
      "+----------------------------+\n",
      "| #PropónUnBotónParaFacebook |\n",
      "|         #acentúate         |\n",
      "|        #cambiame68         |\n",
      "+----------------------------+\n"
     ]
    }
   ],
   "source": [
    "SPAIN_WOE_ID = 23424950\n",
    "spain_trends = twitter_api.trends.place(_id=SPAIN_WOE_ID)\n",
    "hashtags = spain_trends[0]['trends']\n",
    "trends = map(lambda i: hashtags[i]['name'], range(len(hashtags)))[:3]\n",
    "pt = PrettyTable()\n",
    "pt.add_column('Spain Trends', trends)\n",
    "print pt"
   ]
  },
  {
   "cell_type": "markdown",
   "metadata": {},
   "source": [
    "#### b )   Listar nombres de usuarios que publicaron con los hashtag de los trends del punto anterior."
   ]
  },
  {
   "cell_type": "code",
   "execution_count": 3,
   "metadata": {
    "collapsed": false
   },
   "outputs": [
    {
     "name": "stdout",
     "output_type": "stream",
     "text": [
      "+-----------------+\n",
      "|      Users      |\n",
      "+-----------------+\n",
      "|   unaextraterr  |\n",
      "|      fap_fp     |\n",
      "|  carmen_cortiz  |\n",
      "|   Nazaretceci   |\n",
      "|   FiloInglesUA  |\n",
      "| Unachicanormal3 |\n",
      "| FirstMostWanted |\n",
      "|  SamueBoomBang  |\n",
      "|     Quirohe     |\n",
      "|     Libre_FM    |\n",
      "|    IreneGamiz   |\n",
      "|    DCDMmusic    |\n",
      "|    lobotwit84   |\n",
      "|    eduariasGC   |\n",
      "|   mor_almudena  |\n",
      "| rezetasdecarmen |\n",
      "|  lavecinarubia  |\n",
      "|    elchony69    |\n",
      "|  asier_triguero |\n",
      "|     yiyi_md     |\n",
      "|  iTranslations  |\n",
      "|     ImVestro    |\n",
      "|   Diez_Bambola  |\n",
      "|    Selena_Ch8   |\n",
      "|     SexingUp    |\n",
      "+-----------------+\n"
     ]
    }
   ],
   "source": [
    "# Obtenemos los tweets\n",
    "CANT = 10\n",
    "in_spain = set(trends)\n",
    "\n",
    "tweets = []\n",
    "for i in range(len(in_spain)):\n",
    "    results = twitter_api.search.tweets(q=in_spain.pop() , count=CANT)\n",
    "    tweets += results['statuses']\n",
    "\n",
    "# Obtenemos los nombres de los users\n",
    "screen_name = map( lambda i: tweets[i]['user']['screen_name'], range(len(tweets)))\n",
    "screen_name = list(set(screen_name)) #sin repetidos\n",
    "pt = PrettyTable()\n",
    "pt.add_column('Users', screen_name )\n",
    "\n",
    "#mostramos los resultados en una tabla\n",
    "print pt"
   ]
  },
  {
   "cell_type": "markdown",
   "metadata": {},
   "source": [
    "#### c) Cuales son las cinco palabras más utilizadas en los tweets del primer item."
   ]
  },
  {
   "cell_type": "code",
   "execution_count": 4,
   "metadata": {
    "collapsed": false
   },
   "outputs": [
    {
     "name": "stdout",
     "output_type": "stream",
     "text": [
      "+----------------------------+-------+\n",
      "|           Words            | Count |\n",
      "+----------------------------+-------+\n",
      "|             de             |   15  |\n",
      "|             RT             |   13  |\n",
      "|             a              |   10  |\n",
      "|         #acentúate         |   9   |\n",
      "| #PropónUnBotónParaFacebook |   9   |\n",
      "+----------------------------+-------+\n"
     ]
    }
   ],
   "source": [
    "text = map( lambda i: tweets[i]['text'], range(len(tweets)))\n",
    "words = [ word for twt in text for word in twt.split() ]\n",
    "c = Counter(words)\n",
    "#print c.most_common()\n",
    "\n",
    "pt = PrettyTable(field_names=['Words', 'Count'])\n",
    "map(lambda r: pt.add_row(r), c.most_common()[:5])\n",
    "print pt"
   ]
  },
  {
   "cell_type": "markdown",
   "metadata": {},
   "source": [
    "#### d) Listar los primeros 10 usuarios con mayor cantidad de seguidores"
   ]
  },
  {
   "cell_type": "code",
   "execution_count": 5,
   "metadata": {
    "collapsed": false
   },
   "outputs": [
    {
     "name": "stdout",
     "output_type": "stream",
     "text": [
      "+-----------------+-----------------+\n",
      "|   screen_name   | followers_count |\n",
      "+-----------------+-----------------+\n",
      "|  lavecinarubia  |       7661      |\n",
      "| rezetasdecarmen |       5774      |\n",
      "|     Libre_FM    |       2935      |\n",
      "|     SexingUp    |       1261      |\n",
      "|     Quirohe     |       898       |\n",
      "|   Nazaretceci   |       840       |\n",
      "|   Diez_Bambola  |       650       |\n",
      "|   FiloInglesUA  |       586       |\n",
      "|    IreneGamiz   |       538       |\n",
      "|    DCDMmusic    |       351       |\n",
      "+-----------------+-----------------+\n"
     ]
    }
   ],
   "source": [
    "lista_users_followers = map( lambda i: (tweets[i]['user']['screen_name'],tweets[i]['user']['followers_count']), range(len(tweets)))\n",
    "\n",
    "lista_users_followers = sorted(lista_users_followers, key=lambda x: x[1], reverse=True)[:10]\n",
    "users = map((lambda x: x[0]), lista_users_followers)\n",
    "followers = map((lambda x: x[1]), lista_users_followers)\n",
    "\n",
    "\n",
    "pt = PrettyTable()\n",
    "pt.add_column('screen_name', users)\n",
    "pt.add_column('followers_count', followers)\n",
    "print pt"
   ]
  },
  {
   "cell_type": "markdown",
   "metadata": {},
   "source": [
    "#### e) Listar la ubicación (o en su defecto time-zone ) del tweet."
   ]
  },
  {
   "cell_type": "code",
   "execution_count": 6,
   "metadata": {
    "collapsed": false
   },
   "outputs": [
    {
     "name": "stdout",
     "output_type": "stream",
     "text": [
      "+-----------------+-----------------------------+\n",
      "|       User      |        Location or TZ       |\n",
      "+-----------------+-----------------------------+\n",
      "|   mor_almudena  |             None            |\n",
      "|  carmen_cortiz  |        Madrid, España       |\n",
      "|   Nazaretceci   |             None            |\n",
      "|   unaextraterr  |          Guayaquil          |\n",
      "| rezetasdecarmen |            Madrid           |\n",
      "|  iTranslations  |             None            |\n",
      "|  asier_triguero |        Desperdigado.        |\n",
      "|   FiloInglesUA  |          Campus UA          |\n",
      "|     Quirohe     | Asturies, paraiso natural.  |\n",
      "|    eduariasGC   |       Gijón, Asturias       |\n",
      "|     yiyi_md     |            españa           |\n",
      "|     Libre_FM    |             None            |\n",
      "|   Diez_Bambola  |           SEVILLA           |\n",
      "|     ImVestro    |           Girona.           |\n",
      "|    elchony69    |        Madrid, Spain        |\n",
      "| FirstMostWanted |          Amsterdam          |\n",
      "|  lavecinarubia  |    en un país multicolor    |\n",
      "|    lobotwit84   |        Getafe, Madrid       |\n",
      "|  SamueBoomBang  |           BoomBang          |\n",
      "|     SexingUp    |             None            |\n",
      "|    DCDMmusic    |        Naples, Italy        |\n",
      "|    DCDMmusic    |        Naples, Italy        |\n",
      "|    DCDMmusic    |        Naples, Italy        |\n",
      "|    DCDMmusic    |        Naples, Italy        |\n",
      "|    IreneGamiz   |       Lucena (Córdoba)      |\n",
      "|    DCDMmusic    |        Naples, Italy        |\n",
      "|      fap_fp     |           Navarro           |\n",
      "|    Selena_Ch8   |             None            |\n",
      "|    Selena_Ch8   |             None            |\n",
      "| Unachicanormal3 |      Andalucía, España      |\n",
      "+-----------------+-----------------------------+\n"
     ]
    }
   ],
   "source": [
    "users = map( lambda i: tweets[i]['user']['screen_name'], range(len(tweets)))\n",
    "location_or_tz = map( lambda i: tweets[i]['user']['location'] or tweets[i]['user']['time_zone'], range(len(tweets)))\n",
    "\n",
    "pt = PrettyTable()\n",
    "pt.add_column('User', users)\n",
    "pt.add_column('Location or TZ', location_or_tz)\n",
    "print pt"
   ]
  },
  {
   "cell_type": "markdown",
   "metadata": {},
   "source": [
    "#### f) Listar los cinco tweets más populares.\n"
   ]
  },
  {
   "cell_type": "code",
   "execution_count": 7,
   "metadata": {
    "collapsed": false
   },
   "outputs": [
    {
     "name": "stdout",
     "output_type": "stream",
     "text": [
      "+----------------------------------------------------------------------------------+----------+\n",
      "| Tweet                                                                            | Retweets |\n",
      "+----------------------------------------------------------------------------------+----------+\n",
      "| RT @Fundeu: ¿Nos ayudas a promover el buen uso del español en las redes? Tuitea  | 1446     |\n",
      "| con la etiqueta #acentúate http://t.co/hhuDCDZbKx http://t.…                     |          |\n",
      "| RT @RAEinforma: Campaña de @Fundeu, entidad asesorada por la @RAEinforma, en     | 159      |\n",
      "| favor de las tildes en @twitter | https://t.co/PUyuAsJOJW | #a…                  |          |\n",
      "| RT @MonicaCarrillo: #acentúate                                                   | 158      |\n",
      "|                                                                                  |          |\n",
      "| http://t.co/sbKFM4dcLU                                                           |          |\n",
      "| RT @GilaTwits: #PropónUnBotónParaFacebook este botón ya debería estar activo     | 74       |\n",
      "| hace años. http://t.co/hIxpHPG01b                                                |          |\n",
      "| RT @cdelamor_: #acentúate es una estupenda iniciativa de @Fundeu .El tema de la  | 49       |\n",
      "| campaña son las tildes en los hashtags.                                          |          |\n",
      "+----------------------------------------------------------------------------------+----------+\n"
     ]
    }
   ],
   "source": [
    "texto_y_rt = map( lambda i: (tweets[i]['text'], tweets[i]['retweet_count'], tweets[i]['user']['id']), range(len(tweets)))\n",
    "\n",
    "texto_y_rt = sorted(texto_y_rt, key=lambda x: x[1], reverse=True)[:5]\n",
    "popular_tw = texto_y_rt[0]\n",
    "texto = map((lambda x: x[0]), texto_y_rt)\n",
    "rts = map((lambda x: x[1]), texto_y_rt)\n",
    "\n",
    "\n",
    "pt = PrettyTable()\n",
    "pt.add_column('Tweet', texto)\n",
    "pt.max_width['Tweet'] = 80\n",
    "pt.add_column('Retweets', rts)\n",
    "pt.align = 'l'\n",
    "print pt"
   ]
  },
  {
   "cell_type": "markdown",
   "metadata": {},
   "source": [
    "#### g) Listar a los seguidores del autor del tweet más popular"
   ]
  },
  {
   "cell_type": "code",
   "execution_count": 8,
   "metadata": {
    "collapsed": false
   },
   "outputs": [
    {
     "name": "stdout",
     "output_type": "stream",
     "text": [
      "+--------------------------+\n",
      "| Nazaretceci's followers: |\n",
      "+--------------------------+\n",
      "|       BaylinaMarta       |\n",
      "|        educaINTEF        |\n",
      "|      Chenelchinito       |\n",
      "|       tedfujimoto        |\n",
      "|      Frannrealejos       |\n",
      "|     Auxi_rodriguezs      |\n",
      "|       Dianaaaaaa28       |\n",
      "|         afreeque         |\n",
      "|          mirei2          |\n",
      "|       MAPlanelles        |\n",
      "|       efmorales16        |\n",
      "|       BeatrizBoop        |\n",
      "|       PsicologoABT       |\n",
      "|        wingow_14         |\n",
      "|        estherezes        |\n",
      "|       olivero_toni       |\n",
      "|        _angelesgg        |\n",
      "|        manolyf45         |\n",
      "|        jorgelabu         |\n",
      "|      FranciscoFndez      |\n",
      "|     sombradelcipres      |\n",
      "|        maya_valen        |\n",
      "|        crisbaez76        |\n",
      "|     Jo54460452Maria      |\n",
      "|       aliciamarrib       |\n",
      "|       HoyTeMotivo        |\n",
      "|      puigvert_rosa       |\n",
      "|        PiliYusta         |\n",
      "|        smjcarrion        |\n",
      "|       ncostacabre        |\n",
      "|      VanessaCusola       |\n",
      "|         monje_ma         |\n",
      "|       GanetGloria        |\n",
      "|      CarmenRDavila       |\n",
      "|         KustraD          |\n",
      "|     enciendeconmigo      |\n",
      "|       ManubensAnna       |\n",
      "|       lujan_lujan        |\n",
      "|         EducWeb          |\n",
      "|      arturito_1995       |\n",
      "|         jjuanper         |\n",
      "|        jmtaulats         |\n",
      "|         manogor          |\n",
      "|       CSF_EMSILOS        |\n",
      "|      alejandro33345      |\n",
      "|        IIramirezg        |\n",
      "|     doloresacuaborg      |\n",
      "|        disgustavo        |\n",
      "|      Meteo_Tenerife      |\n",
      "|      ManuMagdaleno       |\n",
      "|        jolcortes         |\n",
      "|      escolanazarecg      |\n",
      "|     EderHoyosGiral2      |\n",
      "|     SandraBarreraGm      |\n",
      "|      NAZARETEnde15       |\n",
      "|      fatimapazetto       |\n",
      "|     edwuindrums2015      |\n",
      "|       IdeasyExito        |\n",
      "|        Alex_Escot        |\n",
      "|        Escribir20        |\n",
      "|      EducacionFtef       |\n",
      "|        RuthPlanas        |\n",
      "|      juditsanchezmn      |\n",
      "|      IsabelNarbona       |\n",
      "|        GuipaMJOSE        |\n",
      "|         yalocin          |\n",
      "|     MayteOrtizVelez      |\n",
      "|         luzeire          |\n",
      "|       FrancoDueas        |\n",
      "|        nuriadeulo        |\n",
      "|      PelotonGaruru       |\n",
      "|        olga993658        |\n",
      "|       v15tazmania        |\n",
      "|      agirregabiria       |\n",
      "|         inmahr79         |\n",
      "|      ColeLaSalleBur      |\n",
      "|        mjhidalgob        |\n",
      "|      JesusJesusymd       |\n",
      "|        SMPensando        |\n",
      "|       MariaMerinoN       |\n",
      "|      MariCarmenJim       |\n",
      "|        evaelias76        |\n",
      "|       irenersrs_99       |\n",
      "|      DayannaDoming       |\n",
      "|       danadridori        |\n",
      "|       eduardboada        |\n",
      "|        analistaya        |\n",
      "|        DiazSastre        |\n",
      "|     angelicaastrid2      |\n",
      "|     anabelenalmendr      |\n",
      "|        linadiazp1        |\n",
      "|         neuetes6         |\n",
      "|         Elsita76         |\n",
      "|       adjuntarosa        |\n",
      "|         ICOT2015         |\n",
      "|     manuelj88765757      |\n",
      "|     david_hiperbyte      |\n",
      "|       sanz_ricardo       |\n",
      "|     Carlydomingue12      |\n",
      "|          orl_gg          |\n",
      "+--------------------------+\n"
     ]
    }
   ],
   "source": [
    "import tweepy\n",
    "auth_tweepy = tweepy.OAuthHandler(CONSUMER_KEY, CONSUMER_SECRET)\n",
    "auth_tweepy.set_access_token(OAUTH_TOKEN, OAUTH_TOKEN_SECRET)\n",
    "\n",
    "api = tweepy.API(auth_tweepy)\n",
    "user = api.get_user(popular_tw[2])\n",
    "title = \"%s's followers:\" % (user.screen_name)\n",
    "followers = map((lambda f: f.screen_name), user.followers(count=100))\n",
    "\n",
    "pt = PrettyTable()\n",
    "pt.add_column(title, followers)\n",
    "print pt"
   ]
  },
  {
   "cell_type": "markdown",
   "metadata": {},
   "source": [
    "### 2. Tomando datos de la red Social Google+, recolecte, procese y vizualice los datos con las siguientes restricciones:"
   ]
  },
  {
   "cell_type": "markdown",
   "metadata": {},
   "source": [
    "#### a) Obtener las tres últimas actividades de X usuario."
   ]
  },
  {
   "cell_type": "code",
   "execution_count": 99,
   "metadata": {
    "collapsed": false
   },
   "outputs": [
    {
     "ename": "KeyError",
     "evalue": "'google+'",
     "output_type": "error",
     "traceback": [
      "\u001b[1;31m---------------------------------------------------------------------------\u001b[0m",
      "\u001b[1;31mKeyError\u001b[0m                                  Traceback (most recent call last)",
      "\u001b[1;32m<ipython-input-99-64b2b5a2bf06>\u001b[0m in \u001b[0;36m<module>\u001b[1;34m()\u001b[0m\n\u001b[0;32m      3\u001b[0m \u001b[1;33m\u001b[0m\u001b[0m\n\u001b[0;32m      4\u001b[0m \u001b[1;31m#Accedemos a la api de google+ con la clave correspondiente\u001b[0m\u001b[1;33m\u001b[0m\u001b[1;33m\u001b[0m\u001b[0m\n\u001b[1;32m----> 5\u001b[1;33m \u001b[0mAPI_KEY\u001b[0m \u001b[1;33m=\u001b[0m \u001b[0mkeys\u001b[0m\u001b[1;33m[\u001b[0m\u001b[1;34m'google+'\u001b[0m\u001b[1;33m]\u001b[0m\u001b[1;33m\u001b[0m\u001b[0m\n\u001b[0m\u001b[0;32m      6\u001b[0m service = apiclient.discovery.build('plus', 'v1', \n\u001b[0;32m      7\u001b[0m                                     \u001b[0mhttp\u001b[0m\u001b[1;33m=\u001b[0m\u001b[0mhttplib2\u001b[0m\u001b[1;33m.\u001b[0m\u001b[0mHttp\u001b[0m\u001b[1;33m(\u001b[0m\u001b[1;33m)\u001b[0m\u001b[1;33m,\u001b[0m\u001b[1;33m\u001b[0m\u001b[0m\n",
      "\u001b[1;32m/home/m337up5/.virtualenvs/dss/local/lib/python2.7/site-packages/pandas/core/series.pyc\u001b[0m in \u001b[0;36m__getitem__\u001b[1;34m(self, key)\u001b[0m\n\u001b[0;32m    519\u001b[0m     \u001b[1;32mdef\u001b[0m \u001b[0m__getitem__\u001b[0m\u001b[1;33m(\u001b[0m\u001b[0mself\u001b[0m\u001b[1;33m,\u001b[0m \u001b[0mkey\u001b[0m\u001b[1;33m)\u001b[0m\u001b[1;33m:\u001b[0m\u001b[1;33m\u001b[0m\u001b[0m\n\u001b[0;32m    520\u001b[0m         \u001b[1;32mtry\u001b[0m\u001b[1;33m:\u001b[0m\u001b[1;33m\u001b[0m\u001b[0m\n\u001b[1;32m--> 521\u001b[1;33m             \u001b[0mresult\u001b[0m \u001b[1;33m=\u001b[0m \u001b[0mself\u001b[0m\u001b[1;33m.\u001b[0m\u001b[0mindex\u001b[0m\u001b[1;33m.\u001b[0m\u001b[0mget_value\u001b[0m\u001b[1;33m(\u001b[0m\u001b[0mself\u001b[0m\u001b[1;33m,\u001b[0m \u001b[0mkey\u001b[0m\u001b[1;33m)\u001b[0m\u001b[1;33m\u001b[0m\u001b[0m\n\u001b[0m\u001b[0;32m    522\u001b[0m \u001b[1;33m\u001b[0m\u001b[0m\n\u001b[0;32m    523\u001b[0m             \u001b[1;32mif\u001b[0m \u001b[1;32mnot\u001b[0m \u001b[0mnp\u001b[0m\u001b[1;33m.\u001b[0m\u001b[0misscalar\u001b[0m\u001b[1;33m(\u001b[0m\u001b[0mresult\u001b[0m\u001b[1;33m)\u001b[0m\u001b[1;33m:\u001b[0m\u001b[1;33m\u001b[0m\u001b[0m\n",
      "\u001b[1;32m/home/m337up5/.virtualenvs/dss/local/lib/python2.7/site-packages/pandas/core/index.pyc\u001b[0m in \u001b[0;36mget_value\u001b[1;34m(self, series, key)\u001b[0m\n\u001b[0;32m   1607\u001b[0m                     \u001b[1;32mraise\u001b[0m \u001b[0mInvalidIndexError\u001b[0m\u001b[1;33m(\u001b[0m\u001b[0mkey\u001b[0m\u001b[1;33m)\u001b[0m\u001b[1;33m\u001b[0m\u001b[0m\n\u001b[0;32m   1608\u001b[0m                 \u001b[1;32melse\u001b[0m\u001b[1;33m:\u001b[0m\u001b[1;33m\u001b[0m\u001b[0m\n\u001b[1;32m-> 1609\u001b[1;33m                     \u001b[1;32mraise\u001b[0m \u001b[0me1\u001b[0m\u001b[1;33m\u001b[0m\u001b[0m\n\u001b[0m\u001b[0;32m   1610\u001b[0m             \u001b[1;32mexcept\u001b[0m \u001b[0mException\u001b[0m\u001b[1;33m:\u001b[0m  \u001b[1;31m# pragma: no cover\u001b[0m\u001b[1;33m\u001b[0m\u001b[0m\n\u001b[0;32m   1611\u001b[0m                 \u001b[1;32mraise\u001b[0m \u001b[0me1\u001b[0m\u001b[1;33m\u001b[0m\u001b[0m\n",
      "\u001b[1;31mKeyError\u001b[0m: 'google+'"
     ]
    }
   ],
   "source": [
    "import apiclient.discovery\n",
    "import httplib2\n",
    "\n",
    "#Accedemos a la api de google+ con la clave correspondiente\n",
    "API_KEY = keys['G+'] \n",
    "service = apiclient.discovery.build('plus', 'v1', \n",
    "                                    http=httplib2.Http(), \n",
    "                                    developerKey=API_KEY)\n",
    "\n",
    "people_feed = service.people().search(query='Linus Torvalds').execute()\n",
    "#print json.dumps(people_feed['items'], indent=1)\n",
    "\n",
    "#El usuario elegido en este caso es: Linus Torvalds\n",
    "id_linus = people_feed['items'][0]['id']\n",
    "activity_feed = service.activities().list(\n",
    "  userId= id_linus,\n",
    "  collection='public',\n",
    "  maxResults='3'\n",
    ").execute()\n",
    "\n",
    "print json.dumps(activity_feed, indent=1)"
   ]
  },
  {
   "cell_type": "markdown",
   "metadata": {},
   "source": [
    "#### b) Analizar el texto de una de estas actividades. (Palabras utilizadas, cantidad de veces, etc)"
   ]
  },
  {
   "cell_type": "code",
   "execution_count": 71,
   "metadata": {
    "collapsed": false,
    "scrolled": true
   },
   "outputs": [
    {
     "name": "stdout",
     "output_type": "stream",
     "text": [
      "[u'Today&#39;s poll is in honor of the homeopathy conference attendees tripping balls in Germany. Apparently they weren&#39;t very <b>good</b> at what they do, and didn&#39;t dilute their drugs enough.<br /><br />So in honor of these people finally having drugs that did something, please fill in the blank:<br /><br />&quot;I believe in homeopathy, because I&#39;m ..&quot;\\ufeff', u'Poor Samsung.<br /><br />Even when they make a watch that is clearly better looking than the Apple thing, and get good reviews for how their bezel works well and is really functional and intuitive, they can&#39;t seem to catch a break.<br /><br />Most of the reviews I&#39;ve seen tippy-toe around the &quot;better looking than Apple&quot;. I think my favorite euphemism so far is that the Gear S2 &quot;compares favorably&quot; with the Apple offerings.\\ufeff', u'This one is possibly titled<br /><br />   &quot;Dang, my laptop is slow to compile&quot;<br /><br />but that&#39;s maybe a bit unfair - I got that laptop because it&#39;s thin and light, not because it&#39;s the speediest thing ever.\\ufeff']\n"
     ]
    }
   ],
   "source": [
    "feeds_content = []\n",
    "feeds = activity_feed['items'] \n",
    "for i in range(len(feeds)):\n",
    "    feeds_content.append(feeds[i]['object']['content'])\n",
    "print(feeds_content)"
   ]
  },
  {
   "cell_type": "code",
   "execution_count": 73,
   "metadata": {
    "collapsed": false
   },
   "outputs": [
    {
     "name": "stdout",
     "output_type": "stream",
     "text": [
      "+----------+-------+\n",
      "|  Words   | Count |\n",
      "+----------+-------+\n",
      "|   the    |   8   |\n",
      "|  /><br   |   6   |\n",
      "|    is    |   6   |\n",
      "|   and    |   5   |\n",
      "|    in    |   5   |\n",
      "|   they   |   4   |\n",
      "|   that   |   4   |\n",
      "|    of    |   3   |\n",
      "| because  |   3   |\n",
      "|    a     |   3   |\n",
      "|  laptop  |   2   |\n",
      "|    to    |   2   |\n",
      "| looking  |   2   |\n",
      "| it&#39;s |   2   |\n",
      "|  their   |   2   |\n",
      "+----------+-------+\n"
     ]
    }
   ],
   "source": [
    "words = [ word for twt in feeds_content for word in twt.split() ]\n",
    "c = Counter(words)\n",
    "\n",
    "pt = PrettyTable(field_names=['Words', 'Count'])\n",
    "map(lambda r: pt.add_row(r), c.most_common()[:15])\n",
    "print pt"
   ]
  },
  {
   "cell_type": "markdown",
   "metadata": {},
   "source": [
    "#### c) Visualizar el avatar de tres individuos a seleccionar."
   ]
  },
  {
   "cell_type": "code",
   "execution_count": 98,
   "metadata": {
    "collapsed": false
   },
   "outputs": [
    {
     "data": {
      "text/html": [
       "<img src=\"https://lh4.googleusercontent.com/-Y_ESIDYRHpk/AAAAAAAAAAI/AAAAAAAAUx0/xfvZ-ipEUDw/photo.jpg\" width=\"150\" height=\"150\"/>"
      ],
      "text/plain": [
       "<IPython.core.display.Image object>"
      ]
     },
     "metadata": {},
     "output_type": "display_data"
    },
    {
     "data": {
      "text/html": [
       "<img src=\"https://lh4.googleusercontent.com/-sTmobuvrAJQ/AAAAAAAAAAI/AAAAAAAANcc/_5W7tl0A9mg/photo.jpg\" width=\"150\" height=\"150\"/>"
      ],
      "text/plain": [
       "<IPython.core.display.Image object>"
      ]
     },
     "metadata": {},
     "output_type": "display_data"
    },
    {
     "data": {
      "text/html": [
       "<img src=\"https://lh3.googleusercontent.com/-Y86IN-vEObo/AAAAAAAAAAI/AAAAAAADO1I/QzjOGHq5kNQ/photo.jpg\" width=\"150\" height=\"150\"/>"
      ],
      "text/plain": [
       "<IPython.core.display.Image object>"
      ]
     },
     "metadata": {},
     "output_type": "display_data"
    }
   ],
   "source": [
    "from IPython.display import Image, display\n",
    "\n",
    "def get_user_avatar(username,width, height):\n",
    "    people_feed = service.people().search(query=username).execute()\n",
    "    if len(people_feed['items']) > 0:    \n",
    "        url = (people_feed['items'][0]['image']['url']).split('?')[0] \n",
    "    else:\n",
    "        url = 'http://placehold.it/{}x{}'.format(width, height)\n",
    "    return Image(url = url, width = width, height = height )\n",
    "\n",
    "users = ['Linus Torvalds', 'Guido Van Rossum', 'Larry Page' ]\n",
    "imgs = map((lambda user: get_user_avatar(user, 150, 150)), users)\n",
    "_ = map((lambda img: display(img)), imgs)"
   ]
  }
 ],
 "metadata": {
  "kernelspec": {
   "display_name": "Python 2",
   "language": "python",
   "name": "python2"
  },
  "language_info": {
   "codemirror_mode": {
    "name": "ipython",
    "version": 2
   },
   "file_extension": ".py",
   "mimetype": "text/x-python",
   "name": "python",
   "nbconvert_exporter": "python",
   "pygments_lexer": "ipython2",
   "version": "2.7.9"
  }
 },
 "nbformat": 4,
 "nbformat_minor": 0
}
