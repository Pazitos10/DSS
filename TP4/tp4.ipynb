{
 "cells": [
  {
   "cell_type": "markdown",
   "metadata": {},
   "source": [
    "### 1. Mineria de Datos sobre Redes Sociales y Sitios Web"
   ]
  },
  {
   "cell_type": "markdown",
   "metadata": {},
   "source": [
    "#### 1.1. Tomando datos de la red social Twitter, al menos 200 tweets, realice un script que recolecte, procese y vizualice los datos con las siguientes restricciones:"
   ]
  },
  {
   "cell_type": "markdown",
   "metadata": {},
   "source": [
    "##### a)Los tres trends más RT del momento."
   ]
  },
  {
   "cell_type": "code",
   "execution_count": 1,
   "metadata": {
    "collapsed": false,
    "scrolled": true
   },
   "outputs": [],
   "source": [
    "#Cargamos los paquetes necesarios para entrar a la API de Twitter\n",
    "import twitter\n",
    "import json\n",
    "from prettytable import PrettyTable\n",
    "from collections import Counter\n",
    "import pandas as pd\n",
    "\n",
    "keys = pd.read_json('keys.json')['KEYS']\n",
    "CONSUMER_KEY = keys['CONSUMER_KEY']\n",
    "CONSUMER_SECRET = keys['CONSUMER_SECRET']\n",
    "OAUTH_TOKEN = keys['OAUTH_TOKEN']\n",
    "OAUTH_TOKEN_SECRET = keys['OAUTH_TOKEN_SECRET']\n",
    "\n",
    "auth = twitter.oauth.OAuth(OAUTH_TOKEN, OAUTH_TOKEN_SECRET, CONSUMER_KEY, CONSUMER_SECRET)\n",
    "twitter_api = twitter.Twitter(auth=auth)"
   ]
  },
  {
   "cell_type": "markdown",
   "metadata": {},
   "source": [
    "#### Seteamos los WOEID para obtener los resultados "
   ]
  },
  {
   "cell_type": "code",
   "execution_count": 2,
   "metadata": {
    "collapsed": false
   },
   "outputs": [
    {
     "name": "stdout",
     "output_type": "stream",
     "text": [
      "+--------------------------+\n",
      "|       Spain Trends       |\n",
      "+--------------------------+\n",
      "|     Felipe González      |\n",
      "| #VotarNaranjaEsVotarAzul |\n",
      "|           Luke           |\n",
      "+--------------------------+\n"
     ]
    }
   ],
   "source": [
    "SPAIN_WOE_ID = 23424950\n",
    "spain_trends = twitter_api.trends.place(_id=SPAIN_WOE_ID)\n",
    "hashtags = spain_trends[0]['trends']\n",
    "trends = map(lambda i: hashtags[i]['name'], range(len(hashtags)))[:3]\n",
    "pt = PrettyTable()\n",
    "pt.add_column('Spain Trends', trends)\n",
    "print pt"
   ]
  },
  {
   "cell_type": "markdown",
   "metadata": {},
   "source": [
    "#### b )   Listar nombres de usuarios que publicaron con los hashtag de los trends del punto anterior."
   ]
  },
  {
   "cell_type": "code",
   "execution_count": 3,
   "metadata": {
    "collapsed": false
   },
   "outputs": [
    {
     "name": "stdout",
     "output_type": "stream",
     "text": [
      "+-----------------+\n",
      "|      Users      |\n",
      "+-----------------+\n",
      "|    marquesqt    |\n",
      "|     djanguez    |\n",
      "|   protestona1   |\n",
      "|    zambustrio   |\n",
      "|    colladov61   |\n",
      "|     jmpugae     |\n",
      "| PennacchiGiulia |\n",
      "|     anagsr1     |\n",
      "|  albertomilanes |\n",
      "|   Guaje_Dulce   |\n",
      "|   Jaysaysheyyy  |\n",
      "|   GonZaLoMBGE   |\n",
      "|     nueydora    |\n",
      "|   PabloMNaran   |\n",
      "|  Nancy_Lescano  |\n",
      "|  elgordomarian  |\n",
      "|   NelebaBalene  |\n",
      "|   SebasPodemos  |\n",
      "|   rubyhoran_1D  |\n",
      "|     caloi007    |\n",
      "|      SM5sos     |\n",
      "|  Yourmycutiepie |\n",
      "|     0utcastx    |\n",
      "|  abbraccjamiash |\n",
      "|   joannacantos  |\n",
      "|    jcalvodiaz   |\n",
      "|    IKaliayev    |\n",
      "|  rainbowhemmo_  |\n",
      "|    Manolimon    |\n",
      "+-----------------+\n"
     ]
    }
   ],
   "source": [
    "# Obtenemos los tweets\n",
    "CANT = 10\n",
    "in_spain = set(trends)\n",
    "\n",
    "tweets = []\n",
    "for i in range(len(in_spain)):\n",
    "    results = twitter_api.search.tweets(q=in_spain.pop() , count=CANT)\n",
    "    tweets += results['statuses']\n",
    "\n",
    "# Obtenemos los nombres de los users\n",
    "screen_name = map( lambda i: tweets[i]['user']['screen_name'], range(len(tweets)))\n",
    "screen_name = list(set(screen_name)) #sin repetidos\n",
    "pt = PrettyTable()\n",
    "pt.add_column('Users', screen_name )\n",
    "\n",
    "#mostramos los resultados en una tabla\n",
    "print pt"
   ]
  },
  {
   "cell_type": "markdown",
   "metadata": {},
   "source": [
    "#### c) Cuales son las cinco palabras más utilizadas en los tweets del primer item."
   ]
  },
  {
   "cell_type": "code",
   "execution_count": 4,
   "metadata": {
    "collapsed": false
   },
   "outputs": [
    {
     "name": "stdout",
     "output_type": "stream",
     "text": [
      "+--------------------------+-------+\n",
      "|          Words           | Count |\n",
      "+--------------------------+-------+\n",
      "|            RT            |   23  |\n",
      "|            de            |   10  |\n",
      "|          Felipe          |   10  |\n",
      "| #VotarNaranjaEsVotarAzul |   9   |\n",
      "|           que            |   7   |\n",
      "+--------------------------+-------+\n"
     ]
    }
   ],
   "source": [
    "text = map( lambda i: tweets[i]['text'], range(len(tweets)))\n",
    "words = [ word for twt in text for word in twt.split() ]\n",
    "c = Counter(words)\n",
    "#print c.most_common()\n",
    "\n",
    "pt = PrettyTable(field_names=['Words', 'Count'])\n",
    "map(lambda r: pt.add_row(r), c.most_common()[:5])\n",
    "print pt"
   ]
  },
  {
   "cell_type": "markdown",
   "metadata": {},
   "source": [
    "#### d) Listar los primeros 10 usuarios con mayor cantidad de seguidores"
   ]
  },
  {
   "cell_type": "code",
   "execution_count": 5,
   "metadata": {
    "collapsed": false
   },
   "outputs": [
    {
     "name": "stdout",
     "output_type": "stream",
     "text": [
      "+----------------+-----------------+\n",
      "|  screen_name   | followers_count |\n",
      "+----------------+-----------------+\n",
      "|  protestona1   |      11333      |\n",
      "|  Guaje_Dulce   |       6853      |\n",
      "|   marquesqt    |       3939      |\n",
      "|  rubyhoran_1D  |       3556      |\n",
      "| rainbowhemmo_  |       3111      |\n",
      "|  joannacantos  |       2549      |\n",
      "| abbraccjamiash |       2382      |\n",
      "|     SM5sos     |       1823      |\n",
      "|   jcalvodiaz   |       1754      |\n",
      "| Nancy_Lescano  |       1510      |\n",
      "+----------------+-----------------+\n"
     ]
    }
   ],
   "source": [
    "lista_users_followers = map( lambda i: (tweets[i]['user']['screen_name'],tweets[i]['user']['followers_count']), range(len(tweets)))\n",
    "\n",
    "lista_users_followers = sorted(lista_users_followers, key=lambda x: x[1], reverse=True)[:10]\n",
    "users = map((lambda x: x[0]), lista_users_followers)\n",
    "followers = map((lambda x: x[1]), lista_users_followers)\n",
    "\n",
    "\n",
    "pt = PrettyTable()\n",
    "pt.add_column('screen_name', users)\n",
    "pt.add_column('followers_count', followers)\n",
    "print pt"
   ]
  },
  {
   "cell_type": "markdown",
   "metadata": {},
   "source": [
    "#### e) Listar la ubicación (o en su defecto time-zone ) del tweet."
   ]
  },
  {
   "cell_type": "code",
   "execution_count": 6,
   "metadata": {
    "collapsed": false
   },
   "outputs": [
    {
     "name": "stdout",
     "output_type": "stream",
     "text": [
      "+-----------------+----------------------------+\n",
      "|       User      |       Location or TZ       |\n",
      "+-----------------+----------------------------+\n",
      "|  Nancy_Lescano  |    Arrecife, Lanzarote     |\n",
      "|    colladov61   |            None            |\n",
      "|    zambustrio   |     Lleida, CAT, ESP.      |\n",
      "|   SebasPodemos  |         Ljubljana          |\n",
      "|   protestona1   |          Sevilla           |\n",
      "|   NelebaBalene  |         Carpe Diem         |\n",
      "|     anagsr1     |         Casablanca         |\n",
      "|    jcalvodiaz   |           Madrid           |\n",
      "|   Guaje_Dulce   |       Madrid-Oviedo        |\n",
      "|   SebasPodemos  |         Ljubljana          |\n",
      "|   joannacantos  |        Philippines         |\n",
      "| PennacchiGiulia |      Sydney,Australia      |\n",
      "|   Jaysaysheyyy  |      A teenage vessel      |\n",
      "|      SM5sos     |            None            |\n",
      "|  rainbowhemmo_  | Pacific Time (US & Canada) |\n",
      "|  Yourmycutiepie |            None            |\n",
      "|   rubyhoran_1D  |  Los Angeles California    |\n",
      "|  abbraccjamiash |  Hogwarts || Miranda/4 ✨   |\n",
      "|     0utcastx    |            None            |\n",
      "|     nueydora    |          my heart          |\n",
      "|     caloi007    |          Caracas           |\n",
      "|  albertomilanes |           ESPAÑA           |\n",
      "|     djanguez    |       Madrid, España       |\n",
      "|  elgordomarian  |    SANTA TERESITA BEACH    |\n",
      "|     jmpugae     |           España           |\n",
      "|    marquesqt    |     CANARIAS. TIXARAFE     |\n",
      "|   GonZaLoMBGE   |            None            |\n",
      "|    IKaliayev    |            None            |\n",
      "|   PabloMNaran   |            None            |\n",
      "|    Manolimon    |            None            |\n",
      "+-----------------+----------------------------+\n"
     ]
    }
   ],
   "source": [
    "users = map( lambda i: tweets[i]['user']['screen_name'], range(len(tweets)))\n",
    "location_or_tz = map( lambda i: tweets[i]['user']['location'] or tweets[i]['user']['time_zone'], range(len(tweets)))\n",
    "\n",
    "pt = PrettyTable()\n",
    "pt.add_column('User', users)\n",
    "pt.add_column('Location or TZ', location_or_tz)\n",
    "print pt"
   ]
  },
  {
   "cell_type": "markdown",
   "metadata": {},
   "source": [
    "#### f) Listar los cinco tweets más populares.\n"
   ]
  },
  {
   "cell_type": "code",
   "execution_count": 7,
   "metadata": {
    "collapsed": false
   },
   "outputs": [
    {
     "name": "stdout",
     "output_type": "stream",
     "text": [
      "+----------------------------------------------------------------------------------+----------+\n",
      "| Tweet                                                                            | Retweets |\n",
      "+----------------------------------------------------------------------------------+----------+\n",
      "| RT @itsmexamm: กูนี่ไม่ได้เฮิร์ทอะไรกับแฟนดอม 5SOS เลย แค่เห็นคนที่ Luke               | 68       |\n",
      "| จูงมือแล้วนึกถึง Briana ขึ้นมาแค่นั้นเอง ปิดหน้า แต่ยิ้ม สเต็ปเดีย…                      |          |\n",
      "| RT @most5sosfanfics: i will legit only like this relationship if luke is happy   | 54       |\n",
      "| that's all that matters to me                                                    |          |\n",
      "| RT @NODOticias: Felipe Gonzalez, no haga el ridículo..                           | 43       |\n",
      "| Pinochet no encarcelaba a los \"opositores\" los aseninaba.                        |          |\n",
      "| Fueron 40.000. http://t.co…                                                      |          |\n",
      "| RT @ForretsGump: Se ve que Felipe González ha tenido siempre \"amigos\"            | 37       |\n",
      "| socialistas . Para cuando defenderá a los refugiados Justiciero? http…           |          |\n",
      "| RT @Cazatalentos: Venezuela único país del mundo donde la revolución la hacen    | 36       |\n",
      "| los ricos y no los pobres... Felipe González http://t.co/g9Ss…                   |          |\n",
      "+----------------------------------------------------------------------------------+----------+\n"
     ]
    }
   ],
   "source": [
    "texto_y_rt = map( lambda i: (tweets[i]['text'], tweets[i]['retweet_count'], tweets[i]['user']['id']), range(len(tweets)))\n",
    "\n",
    "texto_y_rt = sorted(texto_y_rt, key=lambda x: x[1], reverse=True)[:5]\n",
    "popular_tw = texto_y_rt[0]\n",
    "texto = map((lambda x: x[0]), texto_y_rt)\n",
    "rts = map((lambda x: x[1]), texto_y_rt)\n",
    "\n",
    "\n",
    "pt = PrettyTable()\n",
    "pt.add_column('Tweet', texto)\n",
    "pt.max_width['Tweet'] = 80\n",
    "pt.add_column('Retweets', rts)\n",
    "pt.align = 'l'\n",
    "print pt"
   ]
  },
  {
   "cell_type": "markdown",
   "metadata": {},
   "source": [
    "#### g) Listar a los seguidores del autor del tweet más popular"
   ]
  },
  {
   "cell_type": "code",
   "execution_count": 8,
   "metadata": {
    "collapsed": false
   },
   "outputs": [
    {
     "name": "stdout",
     "output_type": "stream",
     "text": [
      "+-----------------------+\n",
      "| nueydora's followers: |\n",
      "+-----------------------+\n",
      "|      FamousNature     |\n",
      "|     DiversifyBand     |\n",
      "|      HotOrNot_USA     |\n",
      "|      chibisovar2      |\n",
      "|         psonar        |\n",
      "|        kppppkk        |\n",
      "|     CaltotheRescue    |\n",
      "|     Waran23574231     |\n",
      "|      NateMaingard     |\n",
      "|       chi2chill_      |\n",
      "|       jarukitmm       |\n",
      "|      playabit162      |\n",
      "|       BillBillTW      |\n",
      "|       SwanseaApp      |\n",
      "|     Patarapron_009    |\n",
      "|     Kimberelysieve    |\n",
      "|     rootbeertommo     |\n",
      "|       gimenaa60       |\n",
      "|      minimeanmean     |\n",
      "|      NichayananF      |\n",
      "|    MercuryGirlshop    |\n",
      "|      thatcha1636      |\n",
      "|      pann2844786      |\n",
      "|       BoatBiBi_       |\n",
      "|        JaYLhIsM       |\n",
      "|        rdnwang        |\n",
      "|      paynenaconda     |\n",
      "|        lwtspxrk       |\n",
      "|       KR_Kurenai      |\n",
      "|     E_flowerTataR     |\n",
      "|      Nancy_sition     |\n",
      "|     Matt_Dominguez    |\n",
      "|        miwmaeww       |\n",
      "|    JonRoweOfficial    |\n",
      "|        ppheats        |\n",
      "|       tuntunna10      |\n",
      "|    Universalrevi3w    |\n",
      "|     JudyHarthart1     |\n",
      "|       Aumbanana       |\n",
      "|       hydradayo       |\n",
      "|        KKL_Lita       |\n",
      "|    ShaunaBurrissML    |\n",
      "|       JuraratMai      |\n",
      "|       luffymizu       |\n",
      "|    BudsabaChamkram    |\n",
      "|      Elverojaguar     |\n",
      "|      Vill_kaowat      |\n",
      "|       tongdeang       |\n",
      "|    TAYLORSMEREDlTH    |\n",
      "|       mazzratazz      |\n",
      "|       peerawadee      |\n",
      "|     itsFoodPornnn     |\n",
      "|     TaeTae82407284    |\n",
      "|        freememy       |\n",
      "|       A_Notezio       |\n",
      "|       tubtimtubb      |\n",
      "|    Jennaro29412582    |\n",
      "|        Za_Perth       |\n",
      "|       gningnion       |\n",
      "|     WichitPenkrue     |\n",
      "|       Melonxoxo2      |\n",
      "|        mingukaf       |\n",
      "|        juu25390       |\n",
      "|    ourloveforjacks    |\n",
      "|        WTF_Phir       |\n",
      "|       heymerida       |\n",
      "|     Awwww_Animals     |\n",
      "|     theartistisart    |\n",
      "|      vee_sha_ape      |\n",
      "|       bbestsprt       |\n",
      "|     TheSneakerTeam    |\n",
      "|      Louislwt123      |\n",
      "|       shibesbot       |\n",
      "|      godmanuel707     |\n",
      "|    TonyStarkPotter    |\n",
      "|       emina_omm       |\n",
      "|      N3SOofficial     |\n",
      "|    DjHardwellOnAir    |\n",
      "|       jutamath_       |\n",
      "|      haydnblower      |\n",
      "|       endless412      |\n",
      "|      lrhcthbabes      |\n",
      "|        Aron_Lov       |\n",
      "|       oop_peace       |\n",
      "|     dinah74613975     |\n",
      "|       JasSynergy      |\n",
      "|       elavie161       |\n",
      "|      dream1467422     |\n",
      "|    lifeadventuress    |\n",
      "|       Tian_Me_mi      |\n",
      "|       SornStars       |\n",
      "|    7b249784915140b    |\n",
      "|       Kantiya08       |\n",
      "|    UniversltyHumor    |\n",
      "|    1taZcXEnvRC5VVx    |\n",
      "|     ohziallcrew57     |\n",
      "|    followsunrised8    |\n",
      "|     mckaylagourley    |\n",
      "|    iamDolanGrayson    |\n",
      "|      handhandbook     |\n",
      "+-----------------------+\n"
     ]
    }
   ],
   "source": [
    "import tweepy\n",
    "auth_tweepy = tweepy.OAuthHandler(CONSUMER_KEY, CONSUMER_SECRET)\n",
    "auth_tweepy.set_access_token(OAUTH_TOKEN, OAUTH_TOKEN_SECRET)\n",
    "\n",
    "api = tweepy.API(auth_tweepy)\n",
    "user = api.get_user(popular_tw[2])\n",
    "title = \"%s's followers:\" % (user.screen_name)\n",
    "followers = map((lambda f: f.screen_name), user.followers(count=100))\n",
    "\n",
    "pt = PrettyTable()\n",
    "pt.add_column(title, followers)\n",
    "print pt"
   ]
  },
  {
   "cell_type": "markdown",
   "metadata": {},
   "source": [
    "### 2. Tomando datos de la red Social Google+, recolecte, procese y vizualice los datos con las siguientes restricciones:"
   ]
  },
  {
   "cell_type": "markdown",
   "metadata": {},
   "source": [
    "#### a) Obtener las tres últimas actividades de X usuario."
   ]
  },
  {
   "cell_type": "code",
   "execution_count": 9,
   "metadata": {
    "collapsed": false,
    "scrolled": false
   },
   "outputs": [
    {
     "ename": "KeyError",
     "evalue": "'G+'",
     "output_type": "error",
     "traceback": [
      "\u001b[0;31m---------------------------------------------------------------------------\u001b[0m",
      "\u001b[0;31mKeyError\u001b[0m                                  Traceback (most recent call last)",
      "\u001b[0;32m<ipython-input-9-0df0ed9a89d8>\u001b[0m in \u001b[0;36m<module>\u001b[0;34m()\u001b[0m\n\u001b[1;32m      3\u001b[0m \u001b[0;34m\u001b[0m\u001b[0m\n\u001b[1;32m      4\u001b[0m \u001b[0;31m#Accedemos a la api de google+ con la clave correspondiente\u001b[0m\u001b[0;34m\u001b[0m\u001b[0;34m\u001b[0m\u001b[0m\n\u001b[0;32m----> 5\u001b[0;31m \u001b[0mAPI_KEY\u001b[0m \u001b[0;34m=\u001b[0m \u001b[0mkeys\u001b[0m\u001b[0;34m[\u001b[0m\u001b[0;34m'G+'\u001b[0m\u001b[0;34m]\u001b[0m\u001b[0;34m\u001b[0m\u001b[0m\n\u001b[0m\u001b[1;32m      6\u001b[0m service = apiclient.discovery.build('plus', 'v1', \n\u001b[1;32m      7\u001b[0m                                     \u001b[0mhttp\u001b[0m\u001b[0;34m=\u001b[0m\u001b[0mhttplib2\u001b[0m\u001b[0;34m.\u001b[0m\u001b[0mHttp\u001b[0m\u001b[0;34m(\u001b[0m\u001b[0;34m)\u001b[0m\u001b[0;34m,\u001b[0m\u001b[0;34m\u001b[0m\u001b[0m\n",
      "\u001b[0;32m/Library/Python/2.7/site-packages/pandas/core/series.pyc\u001b[0m in \u001b[0;36m__getitem__\u001b[0;34m(self, key)\u001b[0m\n\u001b[1;32m    519\u001b[0m     \u001b[0;32mdef\u001b[0m \u001b[0m__getitem__\u001b[0m\u001b[0;34m(\u001b[0m\u001b[0mself\u001b[0m\u001b[0;34m,\u001b[0m \u001b[0mkey\u001b[0m\u001b[0;34m)\u001b[0m\u001b[0;34m:\u001b[0m\u001b[0;34m\u001b[0m\u001b[0m\n\u001b[1;32m    520\u001b[0m         \u001b[0;32mtry\u001b[0m\u001b[0;34m:\u001b[0m\u001b[0;34m\u001b[0m\u001b[0m\n\u001b[0;32m--> 521\u001b[0;31m             \u001b[0mresult\u001b[0m \u001b[0;34m=\u001b[0m \u001b[0mself\u001b[0m\u001b[0;34m.\u001b[0m\u001b[0mindex\u001b[0m\u001b[0;34m.\u001b[0m\u001b[0mget_value\u001b[0m\u001b[0;34m(\u001b[0m\u001b[0mself\u001b[0m\u001b[0;34m,\u001b[0m \u001b[0mkey\u001b[0m\u001b[0;34m)\u001b[0m\u001b[0;34m\u001b[0m\u001b[0m\n\u001b[0m\u001b[1;32m    522\u001b[0m \u001b[0;34m\u001b[0m\u001b[0m\n\u001b[1;32m    523\u001b[0m             \u001b[0;32mif\u001b[0m \u001b[0;32mnot\u001b[0m \u001b[0mnp\u001b[0m\u001b[0;34m.\u001b[0m\u001b[0misscalar\u001b[0m\u001b[0;34m(\u001b[0m\u001b[0mresult\u001b[0m\u001b[0;34m)\u001b[0m\u001b[0;34m:\u001b[0m\u001b[0;34m\u001b[0m\u001b[0m\n",
      "\u001b[0;32m/Library/Python/2.7/site-packages/pandas/core/index.pyc\u001b[0m in \u001b[0;36mget_value\u001b[0;34m(self, series, key)\u001b[0m\n\u001b[1;32m   1607\u001b[0m                     \u001b[0;32mraise\u001b[0m \u001b[0mInvalidIndexError\u001b[0m\u001b[0;34m(\u001b[0m\u001b[0mkey\u001b[0m\u001b[0;34m)\u001b[0m\u001b[0;34m\u001b[0m\u001b[0m\n\u001b[1;32m   1608\u001b[0m                 \u001b[0;32melse\u001b[0m\u001b[0;34m:\u001b[0m\u001b[0;34m\u001b[0m\u001b[0m\n\u001b[0;32m-> 1609\u001b[0;31m                     \u001b[0;32mraise\u001b[0m \u001b[0me1\u001b[0m\u001b[0;34m\u001b[0m\u001b[0m\n\u001b[0m\u001b[1;32m   1610\u001b[0m             \u001b[0;32mexcept\u001b[0m \u001b[0mException\u001b[0m\u001b[0;34m:\u001b[0m  \u001b[0;31m# pragma: no cover\u001b[0m\u001b[0;34m\u001b[0m\u001b[0m\n\u001b[1;32m   1611\u001b[0m                 \u001b[0;32mraise\u001b[0m \u001b[0me1\u001b[0m\u001b[0;34m\u001b[0m\u001b[0m\n",
      "\u001b[0;31mKeyError\u001b[0m: 'G+'"
     ]
    }
   ],
   "source": [
    "import apiclient.discovery\n",
    "import httplib2\n",
    "\n",
    "#Accedemos a la api de google+ con la clave correspondiente\n",
    "API_KEY = keys['G+'] \n",
    "service = apiclient.discovery.build('plus', 'v1', \n",
    "                                    http=httplib2.Http(), \n",
    "                                    developerKey=API_KEY)\n",
    "\n",
    "people_feed = service.people().search(query='Linus Torvalds').execute()\n",
    "#print json.dumps(people_feed['items'], indent=1)\n",
    "\n",
    "#El usuario elegido en este caso es: Linus Torvalds\n",
    "id_linus = people_feed['items'][0]['id']\n",
    "activity_feed = service.activities().list(\n",
    "  userId= id_linus,\n",
    "  collection='public',\n",
    "  maxResults='3'\n",
    ").execute()\n",
    "\n",
    "print json.dumps(activity_feed, indent=1)"
   ]
  },
  {
   "cell_type": "markdown",
   "metadata": {},
   "source": [
    "#### b) Analizar el texto de una de estas actividades. (Palabras utilizadas, cantidad de veces, etc)"
   ]
  },
  {
   "cell_type": "code",
   "execution_count": null,
   "metadata": {
    "collapsed": false,
    "scrolled": true
   },
   "outputs": [],
   "source": [
    "feeds_content = []\n",
    "feeds = activity_feed['items'] \n",
    "for i in range(len(feeds)):\n",
    "    feeds_content.append(feeds[i]['object']['content'])\n",
    "print(feeds_content)"
   ]
  },
  {
   "cell_type": "code",
   "execution_count": null,
   "metadata": {
    "collapsed": false
   },
   "outputs": [],
   "source": [
    "words = [ word for twt in feeds_content for word in twt.split() ]\n",
    "c = Counter(words)\n",
    "\n",
    "pt = PrettyTable(field_names=['Words', 'Count'])\n",
    "map(lambda r: pt.add_row(r), c.most_common()[:15])\n",
    "print pt"
   ]
  },
  {
   "cell_type": "markdown",
   "metadata": {},
   "source": [
    "#### c) Visualizar el avatar de tres individuos a seleccionar."
   ]
  },
  {
   "cell_type": "code",
   "execution_count": null,
   "metadata": {
    "collapsed": false
   },
   "outputs": [],
   "source": [
    "from IPython.display import Image, display\n",
    "\n",
    "def get_user_avatar(username,width, height):\n",
    "    people_feed = service.people().search(query=username).execute()\n",
    "    if len(people_feed['items']) > 0:    \n",
    "        url = (people_feed['items'][0]['image']['url']).split('?')[0] \n",
    "    else:\n",
    "        url = 'http://placehold.it/{}x{}'.format(width, height)\n",
    "    return Image(url = url, width = width, height = height )\n",
    "\n",
    "users = ['Linus Torvalds', 'Guido Van Rossum', 'Larry Page' ]\n",
    "imgs = map((lambda user: get_user_avatar(user, 150, 150)), users)\n",
    "_ = map((lambda img: display(img)), imgs)"
   ]
  },
  {
   "cell_type": "markdown",
   "metadata": {},
   "source": [
    "### 3. Sacando información de Microformatos en la Web"
   ]
  },
  {
   "cell_type": "markdown",
   "metadata": {},
   "source": [
    "#### a) Obtener y visualizar coordenadas geográficas."
   ]
  },
  {
   "cell_type": "markdown",
   "metadata": {},
   "source": [
    "Obtengo la Página de el edificio Cirque Apartments Dallas, TX"
   ]
  },
  {
   "cell_type": "code",
   "execution_count": 10,
   "metadata": {
    "collapsed": false
   },
   "outputs": [],
   "source": [
    "import urllib2\n",
    "from bs4 import BeautifulSoup\n",
    "\n",
    "page = urllib2.urlopen('http://www.umovefree.com/Apartment/cirque-apartments-dallas-tx/')\n",
    "soup = BeautifulSoup(page, \"lxml\")"
   ]
  },
  {
   "cell_type": "code",
   "execution_count": null,
   "metadata": {
    "collapsed": false
   },
   "outputs": [],
   "source": [
    "#soup.prettify"
   ]
  },
  {
   "cell_type": "markdown",
   "metadata": {},
   "source": [
    "Parseo y Obtengo latitud y longitud"
   ]
  },
  {
   "cell_type": "code",
   "execution_count": 11,
   "metadata": {
    "collapsed": false
   },
   "outputs": [
    {
     "name": "stdout",
     "output_type": "stream",
     "text": [
      "Las Coordenadas son: 32.7900778 -96.8086546 12\n"
     ]
    }
   ],
   "source": [
    "longitude = soup.find('meta', itemprop='longitude')['content']\n",
    "latitude = soup.find('meta', itemprop='latitude')['content']\n",
    "zoom=12\n",
    "print \"Las Coordenadas son: \" + latitude,longitude,zoom"
   ]
  },
  {
   "cell_type": "code",
   "execution_count": 12,
   "metadata": {
    "collapsed": false
   },
   "outputs": [
    {
     "name": "stdout",
     "output_type": "stream",
     "text": [
      "http://maps.google.com/maps?z=12&t=m&q=loc:32.7900778+-96.8086546\n"
     ]
    }
   ],
   "source": [
    "url = \"http://maps.google.com/maps?z=12&t=m&q=loc:%s+%s\" % (latitude,longitude)\n",
    "print url"
   ]
  },
  {
   "cell_type": "code",
   "execution_count": 13,
   "metadata": {
    "collapsed": false
   },
   "outputs": [
    {
     "data": {
      "text/html": [
       "\n",
       "        <iframe\n",
       "            width=\"425px\"\n",
       "            height=\"350px\"\n",
       "            src=\"http://maps.google.com/maps?z=12&t=m&q=loc:32.7900778+-96.8086546&output=embed\"\n",
       "            frameborder=\"0\"\n",
       "            allowfullscreen\n",
       "        ></iframe>\n",
       "        "
      ],
      "text/plain": [
       "<IPython.lib.display.IFrame at 0x10ae42510>"
      ]
     },
     "metadata": {},
     "output_type": "display_data"
    }
   ],
   "source": [
    "from IPython.display import IFrame\n",
    "from IPython.core.display import display\n",
    "\n",
    "#Muestro el resultado\n",
    "display(IFrame(url + \"&output=embed\", '425px', '350px'))"
   ]
  },
  {
   "cell_type": "markdown",
   "metadata": {},
   "source": [
    "#### b) Listar calendario de eventos."
   ]
  },
  {
   "cell_type": "markdown",
   "metadata": {},
   "source": [
    "Obtengo listado de Eventos Populares en la ciudad de Los Angeles"
   ]
  },
  {
   "cell_type": "code",
   "execution_count": 14,
   "metadata": {
    "collapsed": true
   },
   "outputs": [],
   "source": [
    "import feedparser\n",
    "fp = feedparser.parse('http://www.experiencela.com/rss/feeds/xlaevents.aspx?id=whatshot')"
   ]
  },
  {
   "cell_type": "code",
   "execution_count": 15,
   "metadata": {
    "collapsed": false
   },
   "outputs": [],
   "source": [
    "fechas = map(lambda e: fp.entries[e].datetime, range(len(fp.entries)))\n",
    "resumenes = map(lambda e: fp.entries[e].title, range(len(fp.entries)))\n",
    "#print fechas"
   ]
  },
  {
   "cell_type": "code",
   "execution_count": 16,
   "metadata": {
    "collapsed": false
   },
   "outputs": [
    {
     "name": "stdout",
     "output_type": "stream",
     "text": [
      "+-----------------------------------------+-------------------------------------------------+\n",
      "|                  Fecha                  |                     Resumen                     |\n",
      "+-----------------------------------------+-------------------------------------------------+\n",
      "|  September 18, 2015; 6:00 PM - 7:00 PM  |    Sunset Ocean Swim Workout at Hermosa Beach   |\n",
      "|       September 19, 2015; 2:30 PM       |              He-Man and She-Ra Day!             |\n",
      "|  September 19, 2015; 2:00 PM - 4:30 PM  |  L.A. Conservancy's Modern Skyline Walking Tour |\n",
      "| September 20, 2015; 10:30 AM - 12:00 PM |      Skirball Playdate: A Recipe for Family     |\n",
      "|  September 23, 2015; 7:00 PM - 10:00 PM |              Rooftop Concert Series             |\n",
      "|  September 24, 2015; 5:00 PM - 9:00 PM  |                    Beach Eats                   |\n",
      "|  September 25, 2015; 6:00 PM - 8:00 PM  |         Robotic Cartography - Scale Up!         |\n",
      "|  September 25, 2015; 6:00 PM - 7:00 PM  | Sunset Ocean Swim Workout at Santa Monica Beach |\n",
      "|       September 26, 2015; 12:00 PM      |     Barbie Rock N Royals Concert Experience     |\n",
      "|  September 27, 2015; 8:00 AM - 1:00 PM  |          17th Annual Wiggle Waggle Walk         |\n",
      "+-----------------------------------------+-------------------------------------------------+\n"
     ]
    }
   ],
   "source": [
    "from prettytable import PrettyTable\n",
    "pt = PrettyTable()\n",
    "pt.add_column('Fecha', fechas)\n",
    "pt.add_column('Resumen', resumenes)\n",
    "print pt"
   ]
  }
 ],
 "metadata": {
  "kernelspec": {
   "display_name": "Python 2",
   "language": "python",
   "name": "python2"
  },
  "language_info": {
   "codemirror_mode": {
    "name": "ipython",
    "version": 2
   },
   "file_extension": ".py",
   "mimetype": "text/x-python",
   "name": "python",
   "nbconvert_exporter": "python",
   "pygments_lexer": "ipython2",
   "version": "2.7.10"
  }
 },
 "nbformat": 4,
 "nbformat_minor": 0
}
