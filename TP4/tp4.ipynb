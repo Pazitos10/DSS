{
 "cells": [
  {
   "cell_type": "markdown",
   "metadata": {},
   "source": [
    "### 1. Mineria de Datos sobre Redes Sociales y Sitios Web"
   ]
  },
  {
   "cell_type": "markdown",
   "metadata": {},
   "source": [
    "#### 1.1. Tomando datos de la red social Twitter, al menos 200 tweets, realice un script que recolecte, procese y vizualice los datos con las siguientes restricciones:"
   ]
  },
  {
   "cell_type": "markdown",
   "metadata": {},
   "source": [
    "##### a)Los tres trends más RT del momento."
   ]
  },
  {
   "cell_type": "code",
   "execution_count": 1,
   "metadata": {
    "collapsed": false,
    "scrolled": true
   },
   "outputs": [],
   "source": [
    "#Cargamos los paquetes necesarios para entrar a la API de Twitter\n",
    "import twitter\n",
    "import json\n",
    "from prettytable import PrettyTable\n",
    "from collections import Counter\n",
    "import pandas as pd\n",
    "\n",
    "keys = pd.read_json('keys.json')['KEYS']\n",
    "CONSUMER_KEY = keys['CONSUMER_KEY']\n",
    "CONSUMER_SECRET = keys['CONSUMER_SECRET']\n",
    "OAUTH_TOKEN = keys['OAUTH_TOKEN']\n",
    "OAUTH_TOKEN_SECRET = keys['OAUTH_TOKEN_SECRET']\n",
    "\n",
    "auth = twitter.oauth.OAuth(OAUTH_TOKEN, OAUTH_TOKEN_SECRET, CONSUMER_KEY, CONSUMER_SECRET)\n",
    "twitter_api = twitter.Twitter(auth=auth)"
   ]
  },
  {
   "cell_type": "markdown",
   "metadata": {},
   "source": [
    "#### Seteamos los WOEID para obtener los resultados "
   ]
  },
  {
   "cell_type": "code",
   "execution_count": 2,
   "metadata": {
    "collapsed": false
   },
   "outputs": [
    {
     "name": "stdout",
     "output_type": "stream",
     "text": [
      "+--------------+\n",
      "| Spain Trends |\n",
      "+--------------+\n",
      "|  #TopChef2   |\n",
      "|    Chile     |\n",
      "|  #LlegaByb   |\n",
      "+--------------+\n"
     ]
    }
   ],
   "source": [
    "SPAIN_WOE_ID = 23424950\n",
    "spain_trends = twitter_api.trends.place(_id=SPAIN_WOE_ID)\n",
    "hashtags = spain_trends[0]['trends']\n",
    "trends = map(lambda i: hashtags[i]['name'], range(len(hashtags)))[:3]\n",
    "pt = PrettyTable()\n",
    "pt.add_column('Spain Trends', trends)\n",
    "print pt"
   ]
  },
  {
   "cell_type": "markdown",
   "metadata": {},
   "source": [
    "#### b )   Listar nombres de usuarios que publicaron con los hashtag de los trends del punto anterior."
   ]
  },
  {
   "cell_type": "code",
   "execution_count": 3,
   "metadata": {
    "collapsed": false
   },
   "outputs": [
    {
     "name": "stdout",
     "output_type": "stream",
     "text": [
      "+-----------------+\n",
      "|      Users      |\n",
      "+-----------------+\n",
      "|     madgjmi     |\n",
      "|     mesa1996    |\n",
      "|   aries13music  |\n",
      "|  SalarioVirtual |\n",
      "|    mistak3btr   |\n",
      "|    mjanemann    |\n",
      "|  ElObjetivista  |\n",
      "|    RubiMarinL   |\n",
      "|   MadaMorenita  |\n",
      "|     QuiquiR     |\n",
      "|     ttesbot     |\n",
      "|     MasiolE     |\n",
      "| aureliosanchez6 |\n",
      "| marcosruffo3231 |\n",
      "|  gumerealmadrid |\n",
      "| ConyMiniBadGirl |\n",
      "|  blanca_maybri  |\n",
      "|     ReVale24    |\n",
      "|     ducksel     |\n",
      "| GalitobandaGalo |\n",
      "|   Valriberas97  |\n",
      "|  el_gran_rodri  |\n",
      "|  laiacasanovas  |\n",
      "+-----------------+\n"
     ]
    }
   ],
   "source": [
    "# Obtenemos los tweets\n",
    "CANT = 10\n",
    "in_spain = set(trends)\n",
    "\n",
    "tweets = []\n",
    "for i in range(len(in_spain)):\n",
    "    results = twitter_api.search.tweets(q=in_spain.pop() , count=CANT)\n",
    "    tweets += results['statuses']\n",
    "\n",
    "# Obtenemos los nombres de los users\n",
    "screen_name = map( lambda i: tweets[i]['user']['screen_name'], range(len(tweets)))\n",
    "screen_name = list(set(screen_name)) #sin repetidos\n",
    "pt = PrettyTable()\n",
    "pt.add_column('Users', screen_name )\n",
    "\n",
    "#mostramos los resultados en una tabla\n",
    "print pt"
   ]
  },
  {
   "cell_type": "markdown",
   "metadata": {},
   "source": [
    "#### c) Cuales son las cinco palabras más utilizadas en los tweets del primer item."
   ]
  },
  {
   "cell_type": "code",
   "execution_count": 4,
   "metadata": {
    "collapsed": false
   },
   "outputs": [
    {
     "name": "stdout",
     "output_type": "stream",
     "text": [
      "+-----------+-------+\n",
      "|   Words   | Count |\n",
      "+-----------+-------+\n",
      "|     RT    |   16  |\n",
      "|     de    |   13  |\n",
      "| #TopChef2 |   10  |\n",
      "|     y     |   10  |\n",
      "|   Chile   |   8   |\n",
      "+-----------+-------+\n"
     ]
    }
   ],
   "source": [
    "text = map( lambda i: tweets[i]['text'], range(len(tweets)))\n",
    "words = [ word for twt in text for word in twt.split() ]\n",
    "c = Counter(words)\n",
    "#print c.most_common()\n",
    "\n",
    "pt = PrettyTable(field_names=['Words', 'Count'])\n",
    "map(lambda r: pt.add_row(r), c.most_common()[:5])\n",
    "print pt"
   ]
  },
  {
   "cell_type": "markdown",
   "metadata": {},
   "source": [
    "#### d) Listar los primeros 10 usuarios con mayor cantidad de seguidores"
   ]
  },
  {
   "cell_type": "code",
   "execution_count": 5,
   "metadata": {
    "collapsed": false
   },
   "outputs": [
    {
     "name": "stdout",
     "output_type": "stream",
     "text": [
      "+-----------------+-----------------+\n",
      "|   screen_name   | followers_count |\n",
      "+-----------------+-----------------+\n",
      "|  gumerealmadrid |      26629      |\n",
      "|     ttesbot     |       9929      |\n",
      "|   aries13music  |       3015      |\n",
      "|   aries13music  |       3015      |\n",
      "|    RubiMarinL   |       1113      |\n",
      "|     ReVale24    |       993       |\n",
      "|  ElObjetivista  |       782       |\n",
      "|     MasiolE     |       769       |\n",
      "|   Valriberas97  |       713       |\n",
      "| aureliosanchez6 |       676       |\n",
      "+-----------------+-----------------+\n"
     ]
    }
   ],
   "source": [
    "lista_users_followers = map( lambda i: (tweets[i]['user']['screen_name'],tweets[i]['user']['followers_count']), range(len(tweets)))\n",
    "\n",
    "lista_users_followers = sorted(lista_users_followers, key=lambda x: x[1], reverse=True)[:10]\n",
    "users = map((lambda x: x[0]), lista_users_followers)\n",
    "followers = map((lambda x: x[1]), lista_users_followers)\n",
    "\n",
    "\n",
    "pt = PrettyTable()\n",
    "pt.add_column('screen_name', users)\n",
    "pt.add_column('followers_count', followers)\n",
    "print pt"
   ]
  },
  {
   "cell_type": "markdown",
   "metadata": {},
   "source": [
    "#### e) Listar la ubicación (o en su defecto time-zone ) del tweet."
   ]
  },
  {
   "cell_type": "code",
   "execution_count": 6,
   "metadata": {
    "collapsed": false
   },
   "outputs": [
    {
     "name": "stdout",
     "output_type": "stream",
     "text": [
      "+-----------------+--------------------------------+\n",
      "|       User      |         Location or TZ         |\n",
      "+-----------------+--------------------------------+\n",
      "|  SalarioVirtual |              None              |\n",
      "|     QuiquiR     |              None              |\n",
      "|   Valriberas97  |        Sevilla y Ceuta         |\n",
      "|   MadaMorenita  |          Mancha real           |\n",
      "|     MasiolE     |       En mi espacio...         |\n",
      "|  ElObjetivista  |             Spain              |\n",
      "|     ttesbot     |             Madrid             |\n",
      "|    mjanemann    |              None              |\n",
      "|    mistak3btr   |           Argentina            |\n",
      "|     ReVale24    |   Central Time (US & Canada)   |\n",
      "| aureliosanchez6 |        Ocaña  colombia         |\n",
      "|     ducksel     |   Christchurch, New Zealand    |\n",
      "| GalitobandaGalo |              None              |\n",
      "| marcosruffo3231 |             Bogota             |\n",
      "| ConyMiniBadGirl |        Que te importa❤️        |\n",
      "|  gumerealmadrid |        Isla Margarita          |\n",
      "|    RubiMarinL   | Los Angeles, CA. / México, DF. |\n",
      "|     mesa1996    |    La Rinconada, Andalucía     |\n",
      "|  SalarioVirtual |              None              |\n",
      "|     mesa1996    |    La Rinconada, Andalucía     |\n",
      "|  laiacasanovas  |           barcelona            |\n",
      "|  blanca_maybri  |              None              |\n",
      "|  el_gran_rodri  |          Nowhereland           |\n",
      "|   aries13music  |         Madrid, España         |\n",
      "|     madgjmi     |   Piedras Blancas , Asturias   |\n",
      "|   aries13music  |         Madrid, España         |\n",
      "+-----------------+--------------------------------+\n"
     ]
    }
   ],
   "source": [
    "users = map( lambda i: tweets[i]['user']['screen_name'], range(len(tweets)))\n",
    "location_or_tz = map( lambda i: tweets[i]['user']['location'] or tweets[i]['user']['time_zone'], range(len(tweets)))\n",
    "\n",
    "pt = PrettyTable()\n",
    "pt.add_column('User', users)\n",
    "pt.add_column('Location or TZ', location_or_tz)\n",
    "print pt"
   ]
  },
  {
   "cell_type": "markdown",
   "metadata": {},
   "source": [
    "#### f) Listar los cinco tweets más populares.\n"
   ]
  },
  {
   "cell_type": "code",
   "execution_count": 7,
   "metadata": {
    "collapsed": false
   },
   "outputs": [
    {
     "name": "stdout",
     "output_type": "stream",
     "text": [
      "+----------------------------------------------------------------------------------+----------+\n",
      "| Tweet                                                                            | Retweets |\n",
      "+----------------------------------------------------------------------------------+----------+\n",
      "| RT @teleaudiencias: #LlegaBYB: ¿Te ha gustado el capítulo? ¿Tenías ganas de su   | 217      |\n",
      "| regreso?                                                                         |          |\n",
      "| RT: SI                                                                           |          |\n",
      "| FAV: NO http://t.co/rJg8uoFPyA                                                   |          |\n",
      "| RT @NTN24: #EnVivo El Centro Sismológico de la Universidad de Chile eleva a 8.4  | 116      |\n",
      "| la magnitud del terremoto http://t.co/XEEr95y03t http://t.c…                     |          |\n",
      "| RT @Sr_Rembrandt: Ir a un BurgerKing y preguntarle al chaval \"Qué has querido    | 37       |\n",
      "| transmitir poniendo pepinillo en el Whopper?\". #TopChef2 #fur…                   |          |\n",
      "| RT @ArrabalTopChef: Con la seta come gambas no hubiera pasado!! #TopChef2        | 21       |\n",
      "| #risotto2.0                                                                      |          |\n",
      "| RT @NoticiasCaracol: #ENDESARROLLO Chile reporta el primer muerto tras fuerte    | 20       |\n",
      "| sismo http://t.co/Q7qzh8l8Ms http://t.co/rvHELmAzrB                              |          |\n",
      "+----------------------------------------------------------------------------------+----------+\n"
     ]
    }
   ],
   "source": [
    "texto_y_rt = map( lambda i: (tweets[i]['text'], tweets[i]['retweet_count'], tweets[i]['user']['id']), range(len(tweets)))\n",
    "\n",
    "texto_y_rt = sorted(texto_y_rt, key=lambda x: x[1], reverse=True)[:5]\n",
    "popular_tw = texto_y_rt[0]\n",
    "texto = map((lambda x: x[0]), texto_y_rt)\n",
    "rts = map((lambda x: x[1]), texto_y_rt)\n",
    "\n",
    "\n",
    "pt = PrettyTable()\n",
    "pt.add_column('Tweet', texto)\n",
    "pt.max_width['Tweet'] = 80\n",
    "pt.add_column('Retweets', rts)\n",
    "pt.align = 'l'\n",
    "print pt"
   ]
  },
  {
   "cell_type": "markdown",
   "metadata": {},
   "source": [
    "#### g) Listar a los seguidores del autor del tweet más popular"
   ]
  },
  {
   "cell_type": "code",
   "execution_count": 8,
   "metadata": {
    "collapsed": false
   },
   "outputs": [
    {
     "name": "stdout",
     "output_type": "stream",
     "text": [
      "+---------------------------+\n",
      "| MadaMorenita's followers: |\n",
      "+---------------------------+\n",
      "|        MeteoAndujar       |\n",
      "|       Gabrielbarrosm      |\n",
      "|        arieldpoint        |\n",
      "|       guccipaloma988      |\n",
      "|      FunKittyGiggles      |\n",
      "|       arianaloveya3       |\n",
      "|      Yasminita_17594      |\n",
      "|       OfficialMartin      |\n",
      "|         coselcomsa        |\n",
      "|       reflexionesrc       |\n",
      "|        susanarj_74        |\n",
      "|          Simo_RL          |\n",
      "|         mrsemueve         |\n",
      "|        3MariasBaeza       |\n",
      "|          AdassaER         |\n",
      "|          prices_k         |\n",
      "|       Xristinaki_Arg      |\n",
      "|        ortiztere69        |\n",
      "|         lorse1980         |\n",
      "|       MamenGallilla       |\n",
      "|      MariMorillas_96      |\n",
      "|        macarenacobo       |\n",
      "|         framdavila        |\n",
      "|       upimanchareal       |\n",
      "|       FrasesOdiosas       |\n",
      "|        espaguetiis        |\n",
      "|        atreveteYAmr       |\n",
      "|          kiskofmp         |\n",
      "|       amaliabadajoz       |\n",
      "|       ronnieonslow12      |\n",
      "|         eva_illana        |\n",
      "|       IsraelRivenkov      |\n",
      "|         pacotrino         |\n",
      "|       alfonsobeteta       |\n",
      "|         maikayloli        |\n",
      "|       nosencantalatv      |\n",
      "|         Bureauleau        |\n",
      "|        Tonilr41Toy        |\n",
      "|        Mister_Vines       |\n",
      "|         MIPERUJA1         |\n",
      "|       Mari_Gutierre       |\n",
      "|      RosaMartineez19      |\n",
      "|        alexRuiz234        |\n",
      "|      bar_El_amanecer      |\n",
      "|       MCJhonnyDancy       |\n",
      "|          juncal85         |\n",
      "|       Rayita50Pedro       |\n",
      "|       aramy_gonzalez      |\n",
      "|         _UnaJodida        |\n",
      "|       MisterSonrisa_      |\n",
      "|         martaokeis        |\n",
      "|       raul_miniturbo      |\n",
      "|        quedefutbol        |\n",
      "|       AmorEnUnTexto       |\n",
      "|        JonyIbiza28        |\n",
      "|        PedroJesusFG       |\n",
      "|         javiiliyo         |\n",
      "|       maitegonzalita      |\n",
      "|       SabiasUnDat0_o      |\n",
      "|      yasiralbagdadi9      |\n",
      "|       TuitReflexion       |\n",
      "|          mc_tofu          |\n",
      "|        ElDesplante        |\n",
      "|        NalexJettay        |\n",
      "|         Gifdegatos        |\n",
      "|         97Amezcua         |\n",
      "|       Wario97garcia       |\n",
      "|      silviasanchezss      |\n",
      "|        KinoMorenoh        |\n",
      "|        inmitaRubiaa       |\n",
      "|          dsivan24         |\n",
      "|          wtfgaboo         |\n",
      "|       Aguelo_OldBBoy      |\n",
      "|       DatoFilosofia       |\n",
      "|         AticoCopas        |\n",
      "|         mori45555         |\n",
      "|       LaSuperTwitera      |\n",
      "|        pijita_rocio       |\n",
      "|         estreyatc         |\n",
      "|         coQuetTa18        |\n",
      "|      pakillobeteta90      |\n",
      "|       PoetaProhibida      |\n",
      "|       JuliaAntunez9       |\n",
      "|      ManuelLombardo1      |\n",
      "|       alfonsoyjudith      |\n",
      "|       franelmejor91       |\n",
      "|         mireiamo80        |\n",
      "|        mcarmencobo        |\n",
      "|         Pakoprofe         |\n",
      "|         marytrino         |\n",
      "|          ACampiis         |\n",
      "|      AlvaroM36845054      |\n",
      "|       fabianvelez13       |\n",
      "|        mimosin1992        |\n",
      "|       RocioRomartin       |\n",
      "|       humordelarisa       |\n",
      "|          QuejasMR         |\n",
      "|      ReproduciendoOk      |\n",
      "|       josecorrea1999      |\n",
      "|       popianasureda       |\n",
      "+---------------------------+\n"
     ]
    }
   ],
   "source": [
    "import tweepy\n",
    "auth_tweepy = tweepy.OAuthHandler(CONSUMER_KEY, CONSUMER_SECRET)\n",
    "auth_tweepy.set_access_token(OAUTH_TOKEN, OAUTH_TOKEN_SECRET)\n",
    "\n",
    "api = tweepy.API(auth_tweepy)\n",
    "user = api.get_user(popular_tw[2])\n",
    "title = \"%s's followers:\" % (user.screen_name)\n",
    "followers = map((lambda f: f.screen_name), user.followers(count=100))\n",
    "\n",
    "pt = PrettyTable()\n",
    "pt.add_column(title, followers)\n",
    "print pt"
   ]
  },
  {
   "cell_type": "markdown",
   "metadata": {},
   "source": [
    "### 2. Tomando datos de la red Social Google+, recolecte, procese y vizualice los datos con las siguientes restricciones:"
   ]
  },
  {
   "cell_type": "markdown",
   "metadata": {},
   "source": [
    "#### a) Obtener las tres últimas actividades de X usuario."
   ]
  },
  {
   "cell_type": "code",
   "execution_count": 9,
   "metadata": {
    "collapsed": false
   },
   "outputs": [
    {
     "name": "stdout",
     "output_type": "stream",
     "text": [
      "{\n",
      " \"nextPageToken\": \"Cg0Qhefojen8xwIgACgBEhQIABDA1pvNlejHAhjAyITS8pXHAhgCIAMo7uuMpf73se-WAQ\", \n",
      " \"kind\": \"plus#activityFeed\", \n",
      " \"title\": \"Google+ List of Activities for Collection PUBLIC\", \n",
      " \"items\": [\n",
      "  {\n",
      "   \"kind\": \"plus#activity\", \n",
      "   \"provider\": {\n",
      "    \"title\": \"Google+\"\n",
      "   }, \n",
      "   \"title\": \"Today's poll is in honor of the homeopathy conference attendees tripping balls in Germany. Apparently...\", \n",
      "   \"url\": \"https://plus.google.com/+LinusTorvalds/posts/gRJpZhuQM6c\", \n",
      "   \"object\": {\n",
      "    \"resharers\": {\n",
      "     \"totalItems\": 224, \n",
      "     \"selfLink\": \"https://www.googleapis.com/plus/v1/activities/z13qzlf50uemjjpjf04cj1yx1py4xrsb1ps0k/people/resharers\"\n",
      "    }, \n",
      "    \"url\": \"https://plus.google.com/+LinusTorvalds/posts/gRJpZhuQM6c\", \n",
      "    \"actor\": {\n",
      "     \"verification\": {\n",
      "      \"adHocVerified\": \"PASSED\"\n",
      "     }\n",
      "    }, \n",
      "    \"content\": \"Today&#39;s poll is in honor of the homeopathy conference attendees tripping balls in Germany. Apparently they weren&#39;t very <b>good</b> at what they do, and didn&#39;t dilute their drugs enough.<br /><br />So in honor of these people finally having drugs that did something, please fill in the blank:<br /><br />&quot;I believe in homeopathy, because I&#39;m ..&quot;\\ufeff\", \n",
      "    \"plusoners\": {\n",
      "     \"totalItems\": 905, \n",
      "     \"selfLink\": \"https://www.googleapis.com/plus/v1/activities/z13qzlf50uemjjpjf04cj1yx1py4xrsb1ps0k/people/plusoners\"\n",
      "    }, \n",
      "    \"replies\": {\n",
      "     \"totalItems\": 210, \n",
      "     \"selfLink\": \"https://www.googleapis.com/plus/v1/activities/z13qzlf50uemjjpjf04cj1yx1py4xrsb1ps0k/comments\"\n",
      "    }, \n",
      "    \"objectType\": \"note\"\n",
      "   }, \n",
      "   \"updated\": \"2015-09-08T19:31:07.000Z\", \n",
      "   \"actor\": {\n",
      "    \"url\": \"https://plus.google.com/102150693225130002912\", \n",
      "    \"image\": {\n",
      "     \"url\": \"https://lh4.googleusercontent.com/-Y_ESIDYRHpk/AAAAAAAAAAI/AAAAAAAAUx0/xfvZ-ipEUDw/photo.jpg?sz=50\"\n",
      "    }, \n",
      "    \"displayName\": \"Linus Torvalds\", \n",
      "    \"id\": \"102150693225130002912\", \n",
      "    \"verification\": {\n",
      "     \"adHocVerified\": \"PASSED\"\n",
      "    }\n",
      "   }, \n",
      "   \"access\": {\n",
      "    \"items\": [\n",
      "     {\n",
      "      \"type\": \"public\"\n",
      "     }\n",
      "    ], \n",
      "    \"kind\": \"plus#acl\", \n",
      "    \"description\": \"Public\"\n",
      "   }, \n",
      "   \"verb\": \"post\", \n",
      "   \"etag\": \"\\\"gLJf7LwN3wOpLHXk4IeQ9ES9mEc/2Kr9aVkricyjb6PqIucwE_8sHE0\\\"\", \n",
      "   \"published\": \"2015-09-08T19:27:01.000Z\", \n",
      "   \"id\": \"z13qzlf50uemjjpjf04cj1yx1py4xrsb1ps0k\"\n",
      "  }, \n",
      "  {\n",
      "   \"kind\": \"plus#activity\", \n",
      "   \"provider\": {\n",
      "    \"title\": \"Google+\"\n",
      "   }, \n",
      "   \"title\": \"Poor Samsung.\\n\\nEven when they make a watch that is clearly better looking than the Apple thing, and ...\", \n",
      "   \"url\": \"https://plus.google.com/+LinusTorvalds/posts/4x6D712wkCB\", \n",
      "   \"object\": {\n",
      "    \"resharers\": {\n",
      "     \"totalItems\": 89, \n",
      "     \"selfLink\": \"https://www.googleapis.com/plus/v1/activities/z12eejewvxijxbnkr23sjrchjlbhy1shi04/people/resharers\"\n",
      "    }, \n",
      "    \"url\": \"https://plus.google.com/+LinusTorvalds/posts/4x6D712wkCB\", \n",
      "    \"actor\": {\n",
      "     \"verification\": {\n",
      "      \"adHocVerified\": \"PASSED\"\n",
      "     }\n",
      "    }, \n",
      "    \"content\": \"Poor Samsung.<br /><br />Even when they make a watch that is clearly better looking than the Apple thing, and get good reviews for how their bezel works well and is really functional and intuitive, they can&#39;t seem to catch a break.<br /><br />Most of the reviews I&#39;ve seen tippy-toe around the &quot;better looking than Apple&quot;. I think my favorite euphemism so far is that the Gear S2 &quot;compares favorably&quot; with the Apple offerings.\\ufeff\", \n",
      "    \"plusoners\": {\n",
      "     \"totalItems\": 878, \n",
      "     \"selfLink\": \"https://www.googleapis.com/plus/v1/activities/z12eejewvxijxbnkr23sjrchjlbhy1shi04/people/plusoners\"\n",
      "    }, \n",
      "    \"replies\": {\n",
      "     \"totalItems\": 125, \n",
      "     \"selfLink\": \"https://www.googleapis.com/plus/v1/activities/z12eejewvxijxbnkr23sjrchjlbhy1shi04/comments\"\n",
      "    }, \n",
      "    \"objectType\": \"note\"\n",
      "   }, \n",
      "   \"updated\": \"2015-09-04T17:06:26.953Z\", \n",
      "   \"actor\": {\n",
      "    \"url\": \"https://plus.google.com/102150693225130002912\", \n",
      "    \"image\": {\n",
      "     \"url\": \"https://lh4.googleusercontent.com/-Y_ESIDYRHpk/AAAAAAAAAAI/AAAAAAAAUx0/xfvZ-ipEUDw/photo.jpg?sz=50\"\n",
      "    }, \n",
      "    \"displayName\": \"Linus Torvalds\", \n",
      "    \"id\": \"102150693225130002912\", \n",
      "    \"verification\": {\n",
      "     \"adHocVerified\": \"PASSED\"\n",
      "    }\n",
      "   }, \n",
      "   \"access\": {\n",
      "    \"items\": [\n",
      "     {\n",
      "      \"type\": \"public\"\n",
      "     }\n",
      "    ], \n",
      "    \"kind\": \"plus#acl\", \n",
      "    \"description\": \"Public\"\n",
      "   }, \n",
      "   \"verb\": \"post\", \n",
      "   \"etag\": \"\\\"gLJf7LwN3wOpLHXk4IeQ9ES9mEc/YFDijLhtdDQHKihFV78ju4v3no8\\\"\", \n",
      "   \"published\": \"2015-09-04T17:06:26.953Z\", \n",
      "   \"id\": \"z12eejewvxijxbnkr23sjrchjlbhy1shi04\"\n",
      "  }, \n",
      "  {\n",
      "   \"kind\": \"plus#activity\", \n",
      "   \"provider\": {\n",
      "    \"title\": \"Google+\"\n",
      "   }, \n",
      "   \"title\": \"This one is possibly titled\\n\\n\\\"Dang, my laptop is slow to compile\\\"\\n\\nbut that's maybe a bit unfair - I...\", \n",
      "   \"url\": \"https://plus.google.com/+LinusTorvalds/posts/hUxNFJ9V67q\", \n",
      "   \"object\": {\n",
      "    \"resharers\": {\n",
      "     \"totalItems\": 13, \n",
      "     \"selfLink\": \"https://www.googleapis.com/plus/v1/activities/z130c3awexbeel0zm04cj1yx1py4xrsb1ps0k/people/resharers\"\n",
      "    }, \n",
      "    \"attachments\": [\n",
      "     {\n",
      "      \"displayName\": \"This one is possibly titled\\n\\n\\\"Dang, my laptop is slow to compile\\\"\\n\\nbut that's maybe a bit unfair - I got that laptop because it's thin and light, not because it's the speediest thing ever.\", \n",
      "      \"fullImage\": {\n",
      "       \"url\": \"https://lh3.googleusercontent.com/-8NnvfOpuPOs/VcQT_gFFQ3I/AAAAAAAAU_g/SqIprZXX5os/w4160-h3120/15%2B-%2B1\", \n",
      "       \"width\": 4160, \n",
      "       \"type\": \"image/jpeg\", \n",
      "       \"height\": 3120\n",
      "      }, \n",
      "      \"url\": \"https://plus.google.com/photos/102150693225130002912/albums/6180086570918125857/6180086570323100530\", \n",
      "      \"image\": {\n",
      "       \"url\": \"https://lh3.googleusercontent.com/-8NnvfOpuPOs/VcQT_gFFQ3I/AAAAAAAAU_g/SqIprZXX5os/w506-h750/15%2B-%2B1\", \n",
      "       \"type\": \"image/jpeg\"\n",
      "      }, \n",
      "      \"content\": \"8/7/15 - 1\", \n",
      "      \"id\": \"102150693225130002912.6180086570323100530\", \n",
      "      \"objectType\": \"photo\"\n",
      "     }\n",
      "    ], \n",
      "    \"url\": \"https://plus.google.com/+LinusTorvalds/posts/hUxNFJ9V67q\", \n",
      "    \"actor\": {\n",
      "     \"verification\": {\n",
      "      \"adHocVerified\": \"PASSED\"\n",
      "     }\n",
      "    }, \n",
      "    \"content\": \"This one is possibly titled<br /><br />   &quot;Dang, my laptop is slow to compile&quot;<br /><br />but that&#39;s maybe a bit unfair - I got that laptop because it&#39;s thin and light, not because it&#39;s the speediest thing ever.\\ufeff\", \n",
      "    \"plusoners\": {\n",
      "     \"totalItems\": 734, \n",
      "     \"selfLink\": \"https://www.googleapis.com/plus/v1/activities/z130c3awexbeel0zm04cj1yx1py4xrsb1ps0k/people/plusoners\"\n",
      "    }, \n",
      "    \"replies\": {\n",
      "     \"totalItems\": 55, \n",
      "     \"selfLink\": \"https://www.googleapis.com/plus/v1/activities/z130c3awexbeel0zm04cj1yx1py4xrsb1ps0k/comments\"\n",
      "    }, \n",
      "    \"objectType\": \"note\"\n",
      "   }, \n",
      "   \"updated\": \"2015-08-07T02:12:17.320Z\", \n",
      "   \"actor\": {\n",
      "    \"url\": \"https://plus.google.com/102150693225130002912\", \n",
      "    \"image\": {\n",
      "     \"url\": \"https://lh4.googleusercontent.com/-Y_ESIDYRHpk/AAAAAAAAAAI/AAAAAAAAUx0/xfvZ-ipEUDw/photo.jpg?sz=50\"\n",
      "    }, \n",
      "    \"displayName\": \"Linus Torvalds\", \n",
      "    \"id\": \"102150693225130002912\", \n",
      "    \"verification\": {\n",
      "     \"adHocVerified\": \"PASSED\"\n",
      "    }\n",
      "   }, \n",
      "   \"access\": {\n",
      "    \"items\": [\n",
      "     {\n",
      "      \"type\": \"public\"\n",
      "     }\n",
      "    ], \n",
      "    \"kind\": \"plus#acl\", \n",
      "    \"description\": \"Public\"\n",
      "   }, \n",
      "   \"verb\": \"post\", \n",
      "   \"etag\": \"\\\"gLJf7LwN3wOpLHXk4IeQ9ES9mEc/XYrMDZWnOrdIfTKg8UTPyOVPBVw\\\"\", \n",
      "   \"published\": \"2015-08-07T02:12:17.320Z\", \n",
      "   \"id\": \"z130c3awexbeel0zm04cj1yx1py4xrsb1ps0k\"\n",
      "  }\n",
      " ], \n",
      " \"updated\": \"2015-09-08T19:31:07.000Z\", \n",
      " \"etag\": \"\\\"gLJf7LwN3wOpLHXk4IeQ9ES9mEc/3CEUbVCPItraIfKsGuoixiDxNtw\\\"\"\n",
      "}\n"
     ]
    }
   ],
   "source": [
    "import apiclient.discovery\n",
    "import httplib2\n",
    "\n",
    "#Accedemos a la api de google+ con la clave correspondiente\n",
    "API_KEY = keys['G+'] \n",
    "service = apiclient.discovery.build('plus', 'v1', \n",
    "                                    http=httplib2.Http(), \n",
    "                                    developerKey=API_KEY)\n",
    "\n",
    "people_feed = service.people().search(query='Linus Torvalds').execute()\n",
    "#print json.dumps(people_feed['items'], indent=1)\n",
    "\n",
    "#El usuario elegido en este caso es: Linus Torvalds\n",
    "id_linus = people_feed['items'][0]['id']\n",
    "activity_feed = service.activities().list(\n",
    "  userId= id_linus,\n",
    "  collection='public',\n",
    "  maxResults='3'\n",
    ").execute()\n",
    "\n",
    "print json.dumps(activity_feed, indent=1)"
   ]
  },
  {
   "cell_type": "markdown",
   "metadata": {},
   "source": [
    "#### b) Analizar el texto de una de estas actividades. (Palabras utilizadas, cantidad de veces, etc)"
   ]
  },
  {
   "cell_type": "code",
   "execution_count": 10,
   "metadata": {
    "collapsed": false,
    "scrolled": true
   },
   "outputs": [
    {
     "name": "stdout",
     "output_type": "stream",
     "text": [
      "[u'Today&#39;s poll is in honor of the homeopathy conference attendees tripping balls in Germany. Apparently they weren&#39;t very <b>good</b> at what they do, and didn&#39;t dilute their drugs enough.<br /><br />So in honor of these people finally having drugs that did something, please fill in the blank:<br /><br />&quot;I believe in homeopathy, because I&#39;m ..&quot;\\ufeff', u'Poor Samsung.<br /><br />Even when they make a watch that is clearly better looking than the Apple thing, and get good reviews for how their bezel works well and is really functional and intuitive, they can&#39;t seem to catch a break.<br /><br />Most of the reviews I&#39;ve seen tippy-toe around the &quot;better looking than Apple&quot;. I think my favorite euphemism so far is that the Gear S2 &quot;compares favorably&quot; with the Apple offerings.\\ufeff', u'This one is possibly titled<br /><br />   &quot;Dang, my laptop is slow to compile&quot;<br /><br />but that&#39;s maybe a bit unfair - I got that laptop because it&#39;s thin and light, not because it&#39;s the speediest thing ever.\\ufeff']\n"
     ]
    }
   ],
   "source": [
    "feeds_content = []\n",
    "feeds = activity_feed['items'] \n",
    "for i in range(len(feeds)):\n",
    "    feeds_content.append(feeds[i]['object']['content'])\n",
    "print(feeds_content)"
   ]
  },
  {
   "cell_type": "code",
   "execution_count": 11,
   "metadata": {
    "collapsed": false
   },
   "outputs": [
    {
     "name": "stdout",
     "output_type": "stream",
     "text": [
      "+----------+-------+\n",
      "|  Words   | Count |\n",
      "+----------+-------+\n",
      "|   the    |   8   |\n",
      "|  /><br   |   6   |\n",
      "|    is    |   6   |\n",
      "|   and    |   5   |\n",
      "|    in    |   5   |\n",
      "|   they   |   4   |\n",
      "|   that   |   4   |\n",
      "|    of    |   3   |\n",
      "| because  |   3   |\n",
      "|    a     |   3   |\n",
      "|  laptop  |   2   |\n",
      "|    to    |   2   |\n",
      "| looking  |   2   |\n",
      "| it&#39;s |   2   |\n",
      "|  their   |   2   |\n",
      "+----------+-------+\n"
     ]
    }
   ],
   "source": [
    "words = [ word for twt in feeds_content for word in twt.split() ]\n",
    "c = Counter(words)\n",
    "\n",
    "pt = PrettyTable(field_names=['Words', 'Count'])\n",
    "map(lambda r: pt.add_row(r), c.most_common()[:15])\n",
    "print pt"
   ]
  },
  {
   "cell_type": "markdown",
   "metadata": {},
   "source": [
    "#### c) Visualizar el avatar de tres individuos a seleccionar."
   ]
  },
  {
   "cell_type": "code",
   "execution_count": 1,
   "metadata": {
    "collapsed": false
   },
   "outputs": [
    {
     "ename": "NameError",
     "evalue": "global name 'service' is not defined",
     "output_type": "error",
     "traceback": [
      "\u001b[0;31m---------------------------------------------------------------------------\u001b[0m",
      "\u001b[0;31mNameError\u001b[0m                                 Traceback (most recent call last)",
      "\u001b[0;32m<ipython-input-1-74c07f779a89>\u001b[0m in \u001b[0;36m<module>\u001b[0;34m()\u001b[0m\n\u001b[1;32m     10\u001b[0m \u001b[0;34m\u001b[0m\u001b[0m\n\u001b[1;32m     11\u001b[0m \u001b[0musers\u001b[0m \u001b[0;34m=\u001b[0m \u001b[0;34m[\u001b[0m\u001b[0;34m'Linus Torvalds'\u001b[0m\u001b[0;34m,\u001b[0m \u001b[0;34m'Guido Van Rossum'\u001b[0m\u001b[0;34m,\u001b[0m \u001b[0;34m'Larry Page'\u001b[0m \u001b[0;34m]\u001b[0m\u001b[0;34m\u001b[0m\u001b[0m\n\u001b[0;32m---> 12\u001b[0;31m \u001b[0mimgs\u001b[0m \u001b[0;34m=\u001b[0m \u001b[0mmap\u001b[0m\u001b[0;34m(\u001b[0m\u001b[0;34m(\u001b[0m\u001b[0;32mlambda\u001b[0m \u001b[0muser\u001b[0m\u001b[0;34m:\u001b[0m \u001b[0mget_user_avatar\u001b[0m\u001b[0;34m(\u001b[0m\u001b[0muser\u001b[0m\u001b[0;34m,\u001b[0m \u001b[0;36m150\u001b[0m\u001b[0;34m,\u001b[0m \u001b[0;36m150\u001b[0m\u001b[0;34m)\u001b[0m\u001b[0;34m)\u001b[0m\u001b[0;34m,\u001b[0m \u001b[0musers\u001b[0m\u001b[0;34m)\u001b[0m\u001b[0;34m\u001b[0m\u001b[0m\n\u001b[0m\u001b[1;32m     13\u001b[0m \u001b[0m_\u001b[0m \u001b[0;34m=\u001b[0m \u001b[0mmap\u001b[0m\u001b[0;34m(\u001b[0m\u001b[0;34m(\u001b[0m\u001b[0;32mlambda\u001b[0m \u001b[0mimg\u001b[0m\u001b[0;34m:\u001b[0m \u001b[0mdisplay\u001b[0m\u001b[0;34m(\u001b[0m\u001b[0mimg\u001b[0m\u001b[0;34m)\u001b[0m\u001b[0;34m)\u001b[0m\u001b[0;34m,\u001b[0m \u001b[0mimgs\u001b[0m\u001b[0;34m)\u001b[0m\u001b[0;34m\u001b[0m\u001b[0m\n",
      "\u001b[0;32m<ipython-input-1-74c07f779a89>\u001b[0m in \u001b[0;36m<lambda>\u001b[0;34m(user)\u001b[0m\n\u001b[1;32m     10\u001b[0m \u001b[0;34m\u001b[0m\u001b[0m\n\u001b[1;32m     11\u001b[0m \u001b[0musers\u001b[0m \u001b[0;34m=\u001b[0m \u001b[0;34m[\u001b[0m\u001b[0;34m'Linus Torvalds'\u001b[0m\u001b[0;34m,\u001b[0m \u001b[0;34m'Guido Van Rossum'\u001b[0m\u001b[0;34m,\u001b[0m \u001b[0;34m'Larry Page'\u001b[0m \u001b[0;34m]\u001b[0m\u001b[0;34m\u001b[0m\u001b[0m\n\u001b[0;32m---> 12\u001b[0;31m \u001b[0mimgs\u001b[0m \u001b[0;34m=\u001b[0m \u001b[0mmap\u001b[0m\u001b[0;34m(\u001b[0m\u001b[0;34m(\u001b[0m\u001b[0;32mlambda\u001b[0m \u001b[0muser\u001b[0m\u001b[0;34m:\u001b[0m \u001b[0mget_user_avatar\u001b[0m\u001b[0;34m(\u001b[0m\u001b[0muser\u001b[0m\u001b[0;34m,\u001b[0m \u001b[0;36m150\u001b[0m\u001b[0;34m,\u001b[0m \u001b[0;36m150\u001b[0m\u001b[0;34m)\u001b[0m\u001b[0;34m)\u001b[0m\u001b[0;34m,\u001b[0m \u001b[0musers\u001b[0m\u001b[0;34m)\u001b[0m\u001b[0;34m\u001b[0m\u001b[0m\n\u001b[0m\u001b[1;32m     13\u001b[0m \u001b[0m_\u001b[0m \u001b[0;34m=\u001b[0m \u001b[0mmap\u001b[0m\u001b[0;34m(\u001b[0m\u001b[0;34m(\u001b[0m\u001b[0;32mlambda\u001b[0m \u001b[0mimg\u001b[0m\u001b[0;34m:\u001b[0m \u001b[0mdisplay\u001b[0m\u001b[0;34m(\u001b[0m\u001b[0mimg\u001b[0m\u001b[0;34m)\u001b[0m\u001b[0;34m)\u001b[0m\u001b[0;34m,\u001b[0m \u001b[0mimgs\u001b[0m\u001b[0;34m)\u001b[0m\u001b[0;34m\u001b[0m\u001b[0m\n",
      "\u001b[0;32m<ipython-input-1-74c07f779a89>\u001b[0m in \u001b[0;36mget_user_avatar\u001b[0;34m(username, width, height)\u001b[0m\n\u001b[1;32m      2\u001b[0m \u001b[0;34m\u001b[0m\u001b[0m\n\u001b[1;32m      3\u001b[0m \u001b[0;32mdef\u001b[0m \u001b[0mget_user_avatar\u001b[0m\u001b[0;34m(\u001b[0m\u001b[0musername\u001b[0m\u001b[0;34m,\u001b[0m\u001b[0mwidth\u001b[0m\u001b[0;34m,\u001b[0m \u001b[0mheight\u001b[0m\u001b[0;34m)\u001b[0m\u001b[0;34m:\u001b[0m\u001b[0;34m\u001b[0m\u001b[0m\n\u001b[0;32m----> 4\u001b[0;31m     \u001b[0mpeople_feed\u001b[0m \u001b[0;34m=\u001b[0m \u001b[0mservice\u001b[0m\u001b[0;34m.\u001b[0m\u001b[0mpeople\u001b[0m\u001b[0;34m(\u001b[0m\u001b[0;34m)\u001b[0m\u001b[0;34m.\u001b[0m\u001b[0msearch\u001b[0m\u001b[0;34m(\u001b[0m\u001b[0mquery\u001b[0m\u001b[0;34m=\u001b[0m\u001b[0musername\u001b[0m\u001b[0;34m)\u001b[0m\u001b[0;34m.\u001b[0m\u001b[0mexecute\u001b[0m\u001b[0;34m(\u001b[0m\u001b[0;34m)\u001b[0m\u001b[0;34m\u001b[0m\u001b[0m\n\u001b[0m\u001b[1;32m      5\u001b[0m     \u001b[0;32mif\u001b[0m \u001b[0mlen\u001b[0m\u001b[0;34m(\u001b[0m\u001b[0mpeople_feed\u001b[0m\u001b[0;34m[\u001b[0m\u001b[0;34m'items'\u001b[0m\u001b[0;34m]\u001b[0m\u001b[0;34m)\u001b[0m \u001b[0;34m>\u001b[0m \u001b[0;36m0\u001b[0m\u001b[0;34m:\u001b[0m\u001b[0;34m\u001b[0m\u001b[0m\n\u001b[1;32m      6\u001b[0m         \u001b[0murl\u001b[0m \u001b[0;34m=\u001b[0m \u001b[0;34m(\u001b[0m\u001b[0mpeople_feed\u001b[0m\u001b[0;34m[\u001b[0m\u001b[0;34m'items'\u001b[0m\u001b[0;34m]\u001b[0m\u001b[0;34m[\u001b[0m\u001b[0;36m0\u001b[0m\u001b[0;34m]\u001b[0m\u001b[0;34m[\u001b[0m\u001b[0;34m'image'\u001b[0m\u001b[0;34m]\u001b[0m\u001b[0;34m[\u001b[0m\u001b[0;34m'url'\u001b[0m\u001b[0;34m]\u001b[0m\u001b[0;34m)\u001b[0m\u001b[0;34m.\u001b[0m\u001b[0msplit\u001b[0m\u001b[0;34m(\u001b[0m\u001b[0;34m'?'\u001b[0m\u001b[0;34m)\u001b[0m\u001b[0;34m[\u001b[0m\u001b[0;36m0\u001b[0m\u001b[0;34m]\u001b[0m\u001b[0;34m\u001b[0m\u001b[0m\n",
      "\u001b[0;31mNameError\u001b[0m: global name 'service' is not defined"
     ]
    }
   ],
   "source": [
    "from IPython.display import Image, display\n",
    "\n",
    "def get_user_avatar(username,width, height):\n",
    "    people_feed = service.people().search(query=username).execute()\n",
    "    if len(people_feed['items']) > 0:    \n",
    "        url = (people_feed['items'][0]['image']['url']).split('?')[0] \n",
    "    else:\n",
    "        url = 'http://placehold.it/{}x{}'.format(width, height)\n",
    "    return Image(url = url, width = width, height = height )\n",
    "\n",
    "users = ['Linus Torvalds', 'Guido Van Rossum', 'Larry Page' ]\n",
    "imgs = map((lambda user: get_user_avatar(user, 150, 150)), users)\n",
    "_ = map((lambda img: display(img)), imgs)"
   ]
  },
  {
   "cell_type": "markdown",
   "metadata": {},
   "source": [
    "### 3. Sacando información de Microformatos en la Web"
   ]
  },
  {
   "cell_type": "code",
   "execution_count": 48,
   "metadata": {
    "collapsed": true
   },
   "outputs": [],
   "source": [
    "import feedparser"
   ]
  },
  {
   "cell_type": "markdown",
   "metadata": {},
   "source": [
    "#### a) Obtener y visualizar coordenadas geográficas."
   ]
  },
  {
   "cell_type": "code",
   "execution_count": null,
   "metadata": {
    "collapsed": false
   },
   "outputs": [],
   "source": []
  },
  {
   "cell_type": "markdown",
   "metadata": {},
   "source": [
    "#### b) Listar calendario de eventos."
   ]
  },
  {
   "cell_type": "markdown",
   "metadata": {},
   "source": [
    "Obtengo listado de Eventos Populares en la ciudad de Los Angeles"
   ]
  },
  {
   "cell_type": "code",
   "execution_count": 49,
   "metadata": {
    "collapsed": true
   },
   "outputs": [],
   "source": [
    "fp = feedparser.parse('http://www.experiencela.com/rss/feeds/xlaevents.aspx?id=whatshot')"
   ]
  },
  {
   "cell_type": "code",
   "execution_count": 50,
   "metadata": {
    "collapsed": false
   },
   "outputs": [],
   "source": [
    "fechas = map(lambda e: fp.entries[e].datetime, range(len(fp.entries)))\n",
    "resumenes = map(lambda e: fp.entries[e].title, range(len(fp.entries)))\n",
    "#print fechas"
   ]
  },
  {
   "cell_type": "code",
   "execution_count": 51,
   "metadata": {
    "collapsed": false
   },
   "outputs": [
    {
     "name": "stdout",
     "output_type": "stream",
     "text": [
      "+-----------------------------------------+-------------------------------------------------+\n",
      "|                  Fecha                  |                     Resumen                     |\n",
      "+-----------------------------------------+-------------------------------------------------+\n",
      "|  September 18, 2015; 6:00 PM - 7:00 PM  |    Sunset Ocean Swim Workout at Hermosa Beach   |\n",
      "|       September 19, 2015; 2:30 PM       |              He-Man and She-Ra Day!             |\n",
      "|  September 19, 2015; 2:00 PM - 4:30 PM  |  L.A. Conservancy's Modern Skyline Walking Tour |\n",
      "| September 20, 2015; 10:30 AM - 12:00 PM |      Skirball Playdate: A Recipe for Family     |\n",
      "|  September 23, 2015; 7:00 PM - 10:00 PM |              Rooftop Concert Series             |\n",
      "|  September 24, 2015; 5:00 PM - 9:00 PM  |                    Beach Eats                   |\n",
      "|  September 25, 2015; 6:00 PM - 8:00 PM  |         Robotic Cartography - Scale Up!         |\n",
      "|  September 25, 2015; 6:00 PM - 7:00 PM  | Sunset Ocean Swim Workout at Santa Monica Beach |\n",
      "|       September 26, 2015; 12:00 PM      |     Barbie Rock N Royals Concert Experience     |\n",
      "|  September 27, 2015; 8:00 AM - 1:00 PM  |          17th Annual Wiggle Waggle Walk         |\n",
      "+-----------------------------------------+-------------------------------------------------+\n"
     ]
    }
   ],
   "source": [
    "from prettytable import PrettyTable\n",
    "pt = PrettyTable()\n",
    "pt.add_column('Fecha', fechas)\n",
    "pt.add_column('Resumen', resumenes)\n",
    "print pt"
   ]
  }
 ],
 "metadata": {
  "kernelspec": {
   "display_name": "Python 2",
   "language": "python",
   "name": "python2"
  },
  "language_info": {
   "codemirror_mode": {
    "name": "ipython",
    "version": 2
   },
   "file_extension": ".py",
   "mimetype": "text/x-python",
   "name": "python",
   "nbconvert_exporter": "python",
   "pygments_lexer": "ipython2",
   "version": "2.7.10"
  }
 },
 "nbformat": 4,
 "nbformat_minor": 0
}
