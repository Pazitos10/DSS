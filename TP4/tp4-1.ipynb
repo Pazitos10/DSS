{
 "cells": [
  {
   "cell_type": "markdown",
   "metadata": {},
   "source": [
    "### 1) Mineria de Datos sobre Redes Sociales y Sitios Web\n",
    "#### 1.1)   Tomando datos de la red social Twitter, al menos 200 tweets, realice un script que recolecte, procese y visualice los datos con las siguientes restricciones:"
   ]
  },
  {
   "cell_type": "markdown",
   "metadata": {},
   "source": [
    "##### a)Los tres trends más RT del momento."
   ]
  },
  {
   "cell_type": "code",
   "execution_count": 66,
   "metadata": {
    "collapsed": false,
    "scrolled": true
   },
   "outputs": [],
   "source": [
    "#Cargamos los paquetes necesarios para entrar a la API de Twitter\n",
    "import twitter\n",
    "import json\n",
    "from prettytable import PrettyTable\n",
    "from collections import Counter\n",
    "import pandas as pd\n",
    "\n",
    "keys = pd.read_json('keys.json')['KEYS']\n",
    "CONSUMER_KEY = keys['CONSUMER_KEY']\n",
    "CONSUMER_SECRET = keys['CONSUMER_SECRET']\n",
    "OAUTH_TOKEN = keys['OAUTH_TOKEN']\n",
    "OAUTH_TOKEN_SECRET = keys['OAUTH_TOKEN_SECRET']\n",
    "\n",
    "auth = twitter.oauth.OAuth(OAUTH_TOKEN, OAUTH_TOKEN_SECRET, CONSUMER_KEY, CONSUMER_SECRET)\n",
    "twitter_api = twitter.Twitter(auth=auth)"
   ]
  },
  {
   "cell_type": "markdown",
   "metadata": {},
   "source": [
    "#### Seteamos los WOEID para obtener los resultados "
   ]
  },
  {
   "cell_type": "code",
   "execution_count": 67,
   "metadata": {
    "collapsed": false
   },
   "outputs": [
    {
     "name": "stdout",
     "output_type": "stream",
     "text": [
      "+-----------------+\n",
      "|   Spain Trends  |\n",
      "+-----------------+\n",
      "|    #GHDirecto   |\n",
      "| #ToroDeLaVegaEP |\n",
      "|   #meinteresa   |\n",
      "+-----------------+\n"
     ]
    }
   ],
   "source": [
    "SPAIN_WOE_ID = 23424950\n",
    "spain_trends = twitter_api.trends.place(_id=SPAIN_WOE_ID)\n",
    "hashtags = spain_trends[0]['trends']\n",
    "trends = map(lambda i: hashtags[i]['name'], range(len(hashtags)))[:3]\n",
    "pt = PrettyTable()\n",
    "pt.add_column('Spain Trends', trends)\n",
    "print pt"
   ]
  },
  {
   "cell_type": "markdown",
   "metadata": {},
   "source": [
    "#### b )   Listar nombres de usuarios que publicaron con los hashtag de los trends del punto anterior."
   ]
  },
  {
   "cell_type": "code",
   "execution_count": 68,
   "metadata": {
    "collapsed": false
   },
   "outputs": [
    {
     "name": "stdout",
     "output_type": "stream",
     "text": [
      "+-----------------+\n",
      "|      Users      |\n",
      "+-----------------+\n",
      "|  AnuskaNewYork  |\n",
      "|  MarianoRapJoy  |\n",
      "|     lolasnga    |\n",
      "|  ComentaFamosos |\n",
      "|     geanny83    |\n",
      "|    fandelat3    |\n",
      "|      atmacg     |\n",
      "|     JaskiATS    |\n",
      "|  caprichoreal15 |\n",
      "|  NachoBassPerez |\n",
      "|   marsolina56   |\n",
      "|      fanega     |\n",
      "|    DharmaValo   |\n",
      "|   DannyAndara   |\n",
      "|  alexmaria9906  |\n",
      "| carmen_maria_19 |\n",
      "|   lorexana106   |\n",
      "|    JSACROSOFT   |\n",
      "|    bentorivan   |\n",
      "|   haztedenotar  |\n",
      "| CFMariahb_Myhyv |\n",
      "| milagrospenagos |\n",
      "| GurruGHChrislet |\n",
      "|    LenaLenama   |\n",
      "|   Jaime_lacon   |\n",
      "|    paquialma    |\n",
      "|  isidrotoledo1  |\n",
      "+-----------------+\n"
     ]
    }
   ],
   "source": [
    "# Obtenemos los tweets\n",
    "CANT = 10\n",
    "in_spain = set(trends)\n",
    "\n",
    "tweets = []\n",
    "for i in range(len(in_spain)):\n",
    "    results = twitter_api.search.tweets(q=in_spain.pop() , count=CANT)\n",
    "    tweets += results['statuses']\n",
    "\n",
    "# Obtenemos los nombres de los users\n",
    "screen_name = map( lambda i: tweets[i]['user']['screen_name'], range(len(tweets)))\n",
    "screen_name = list(set(screen_name)) #sin repetidos\n",
    "pt = PrettyTable()\n",
    "pt.add_column('Users', screen_name )\n",
    "\n",
    "#mostramos los resultados en una tabla\n",
    "print pt"
   ]
  },
  {
   "cell_type": "markdown",
   "metadata": {},
   "source": [
    "#### c) Cuales son las cinco palabras más utilizadas en los tweets del primer item."
   ]
  },
  {
   "cell_type": "code",
   "execution_count": 69,
   "metadata": {
    "collapsed": false
   },
   "outputs": [
    {
     "name": "stdout",
     "output_type": "stream",
     "text": [
      "+-------+-------+\n",
      "| Words | Count |\n",
      "+-------+-------+\n",
      "|   RT  |   19  |\n",
      "|   el  |   14  |\n",
      "|  que  |   12  |\n",
      "|   de  |   12  |\n",
      "|   a   |   11  |\n",
      "+-------+-------+\n"
     ]
    }
   ],
   "source": [
    "text = map( lambda i: tweets[i]['text'], range(len(tweets)))\n",
    "words = [ word for twt in text for word in twt.split() ]\n",
    "c = Counter(words)\n",
    "#print c.most_common()\n",
    "\n",
    "pt = PrettyTable(field_names=['Words', 'Count'])\n",
    "map(lambda r: pt.add_row(r), c.most_common()[:5])\n",
    "print pt"
   ]
  },
  {
   "cell_type": "markdown",
   "metadata": {},
   "source": [
    "#### d) Listar los primeros 10 usuarios con mayor cantidad de seguidores"
   ]
  },
  {
   "cell_type": "code",
   "execution_count": 70,
   "metadata": {
    "collapsed": false
   },
   "outputs": [
    {
     "name": "stdout",
     "output_type": "stream",
     "text": [
      "+-----------------+-----------------+\n",
      "|   screen_name   | followers_count |\n",
      "+-----------------+-----------------+\n",
      "|      fanega     |       2929      |\n",
      "|      fanega     |       2929      |\n",
      "| CFMariahb_Myhyv |       2618      |\n",
      "|    JSACROSOFT   |       2328      |\n",
      "|     geanny83    |       2169      |\n",
      "|   lorexana106   |       1963      |\n",
      "| carmen_maria_19 |       1378      |\n",
      "|     lolasnga    |       1007      |\n",
      "|    fandelat3    |       839       |\n",
      "|  MarianoRapJoy  |       824       |\n",
      "+-----------------+-----------------+\n"
     ]
    }
   ],
   "source": [
    "lista_users_followers = map( lambda i: (tweets[i]['user']['screen_name'],tweets[i]['user']['followers_count']), range(len(tweets)))\n",
    "\n",
    "lista_users_followers = sorted(lista_users_followers, key=lambda x: x[1], reverse=True)[:10]\n",
    "users = map((lambda x: x[0]), lista_users_followers)\n",
    "followers = map((lambda x: x[1]), lista_users_followers)\n",
    "\n",
    "\n",
    "pt = PrettyTable()\n",
    "pt.add_column('screen_name', users)\n",
    "pt.add_column('followers_count', followers)\n",
    "print pt"
   ]
  },
  {
   "cell_type": "markdown",
   "metadata": {},
   "source": [
    "#### e) Listar la ubicación (o en su defecto time-zone ) del tweet."
   ]
  },
  {
   "cell_type": "code",
   "execution_count": 71,
   "metadata": {
    "collapsed": false
   },
   "outputs": [
    {
     "name": "stdout",
     "output_type": "stream",
     "text": [
      "+-----------------+--------------------------------+\n",
      "|       User      |         Location or TZ         |\n",
      "+-----------------+--------------------------------+\n",
      "| milagrospenagos |              None              |\n",
      "|   DannyAndara   |    ÜT: 10.496789,-66.846729    |\n",
      "|   haztedenotar  |              None              |\n",
      "|  isidrotoledo1  |         GANDIA ESPAÑA          |\n",
      "|    bentorivan   |   Las Palmas de Gran Canaria   |\n",
      "|    paquialma    |              None              |\n",
      "|    LenaLenama   |            cordoba             |\n",
      "| carmen_maria_19 |   Pacific Time (US & Canada)   |\n",
      "|  MarianoRapJoy  |           Españistan           |\n",
      "|    DharmaValo   |             Málaga             |\n",
      "|  AnuskaNewYork  |             España             |\n",
      "| GurruGHChrislet |             Gh 16              |\n",
      "|     JaskiATS    |            #Enerski            |\n",
      "|   lorexana106   | https://www.facebook.com/friki |\n",
      "|   marsolina56   |       Bilbao, País Vasco       |\n",
      "| CFMariahb_Myhyv |           Casablanca           |\n",
      "|     lolasnga    |             Athens             |\n",
      "|  ComentaFamosos |  Madrid, Comunidad de Madrid   |\n",
      "|      fanega     | Gaza/Baruta/Vzla/Nuestramérica |\n",
      "|   Jaime_lacon   |             Athens             |\n",
      "|  alexmaria9906  |              None              |\n",
      "|      fanega     | Gaza/Baruta/Vzla/Nuestramérica |\n",
      "|      atmacg     |   Fondo Norte del Calderón     |\n",
      "|  caprichoreal15 |              None              |\n",
      "|    fandelat3    |  Perdut als carrers del món.   |\n",
      "|  NachoBassPerez |             Madrid             |\n",
      "|     geanny83    |            România             |\n",
      "|    JSACROSOFT   |    QUITO-PICHINCHA-ECUADOR     |\n",
      "+-----------------+--------------------------------+\n"
     ]
    }
   ],
   "source": [
    "users = map( lambda i: tweets[i]['user']['screen_name'], range(len(tweets)))\n",
    "location_or_tz = map( lambda i: tweets[i]['user']['location'] or tweets[i]['user']['time_zone'], range(len(tweets)))\n",
    "\n",
    "pt = PrettyTable()\n",
    "pt.add_column('User', users)\n",
    "pt.add_column('Location or TZ', location_or_tz)\n",
    "print pt"
   ]
  },
  {
   "cell_type": "markdown",
   "metadata": {},
   "source": [
    "#### f) Listar los cinco tweets más populares.\n"
   ]
  },
  {
   "cell_type": "code",
   "execution_count": 94,
   "metadata": {
    "collapsed": false
   },
   "outputs": [
    {
     "name": "stdout",
     "output_type": "stream",
     "text": [
      "+----------------------------------------------------------------------------------+----------+\n",
      "| Tweet                                                                            | Retweets |\n",
      "+----------------------------------------------------------------------------------+----------+\n",
      "| RT @subversivos_: Y este es el nivel intelectual del Jefe de la tribu de         | 449      |\n",
      "| #Tordesillas el que permite la salvajada                                         |          |\n",
      "| #ToroDeLaVegaEP http://t.…                                                       |          |\n",
      "| RT @EsppeonzAguirre: Los de Tordesillas descubren un nuevo teorema de Pitágoras. | 103      |\n",
      "| Descubre quiénes son los catetos... #ToroDeLaVegaEP http:/…                      |          |\n",
      "| RT @salvameoficial: ¿Queréis que hablemos ya de Gran Hermano y nos dejemos de    | 97       |\n",
      "| historias?                                                                       |          |\n",
      "| RT=SÍ, VAMOS                                                                     |          |\n",
      "| FAV=NO, PASO                                                                     |          |\n",
      "| #meinteresa #yoveosalvam…                                                        |          |\n",
      "| RT @salvameoficial: Os gustó tanto lo de Chayo frente a la tumba de Rocío        | 78       |\n",
      "| Jurado, que la repetimos. ¿Os mola?                                              |          |\n",
      "| RT=QUÉ POCA VERGÜENZA                                                            |          |\n",
      "| FAV=QUÉ…                                                                         |          |\n",
      "| RT @ionbigote: Ese es Aritz, ¿no? #GHDirecto #GH16 http://t.co/5OU2K0wLRA        | 71       |\n",
      "+----------------------------------------------------------------------------------+----------+\n"
     ]
    }
   ],
   "source": [
    "texto_y_rt = map( lambda i: (tweets[i]['text'], tweets[i]['retweet_count'], tweets[i]['user']['id']), range(len(tweets)))\n",
    "\n",
    "texto_y_rt = sorted(texto_y_rt, key=lambda x: x[1], reverse=True)[:5]\n",
    "popular_tw = texto_y_rt[0]\n",
    "texto = map((lambda x: x[0]), texto_y_rt)\n",
    "rts = map((lambda x: x[1]), texto_y_rt)\n",
    "\n",
    "\n",
    "pt = PrettyTable()\n",
    "pt.add_column('Tweet', texto)\n",
    "pt.max_width['Tweet'] = 80\n",
    "pt.add_column('Retweets', rts)\n",
    "pt.align = 'l'\n",
    "print pt"
   ]
  },
  {
   "cell_type": "markdown",
   "metadata": {},
   "source": [
    "#### g) Listar a los seguidores del autor del tweet más popular"
   ]
  },
  {
   "cell_type": "code",
   "execution_count": 109,
   "metadata": {
    "collapsed": false
   },
   "outputs": [
    {
     "name": "stdout",
     "output_type": "stream",
     "text": [
      "+-------------------------+\n",
      "| JSACROSOFT's followers: |\n",
      "+-------------------------+\n",
      "|         DobleVB         |\n",
      "|        fsatriany2       |\n",
      "|     TupaCatedralBqt     |\n",
      "|     1874acc9d05241e     |\n",
      "|      gabriela22ann      |\n",
      "|     miralmiral13482     |\n",
      "|      jorgeamoralesv     |\n",
      "|        lendl_gta        |\n",
      "|       marco_amc89       |\n",
      "|         lemeza47        |\n",
      "|       BalcazarMama      |\n",
      "|      hoychavezvive      |\n",
      "|      jesusherberts      |\n",
      "|         dblancog        |\n",
      "|         cerebro5        |\n",
      "|       NormelysVzla      |\n",
      "|        bucareroja       |\n",
      "|      lagosriederer      |\n",
      "|        rojasjj72        |\n",
      "|         Emilkacb        |\n",
      "|     KarenMikesmall1     |\n",
      "|       RojoYClaro1       |\n",
      "|       AherzAntonio      |\n",
      "|       ines_guayaca      |\n",
      "|         DDu2015         |\n",
      "|      planetarojotv      |\n",
      "|       wperezyanes       |\n",
      "|      NildaGalarraga     |\n",
      "|         karel259        |\n",
      "|      Vallero33oo07      |\n",
      "|      Marlene_Rojas      |\n",
      "|       LuzMarinaft       |\n",
      "|       Rockdirecto       |\n",
      "|       OtroBetaLara      |\n",
      "|     05133a5104404b8     |\n",
      "|     Rescatando_a_MX     |\n",
      "|      ElenaAlberti12     |\n",
      "|        fcorrea436       |\n",
      "|      pedro_tabares      |\n",
      "|       GuerrillaCF       |\n",
      "|      Pueblo_Rebelde     |\n",
      "|     arejulaJUVENTUD     |\n",
      "|      Jesucristo1953     |\n",
      "|      foroptocabello     |\n",
      "|       fornerinojl       |\n",
      "|      ComunaAli_PCP      |\n",
      "|       policarpo521      |\n",
      "|         Pinnman         |\n",
      "|     andressilvas_30     |\n",
      "|       La_nenegaby       |\n",
      "|     josesalazarmppe     |\n",
      "|        teleyradio       |\n",
      "|        CorpDiego        |\n",
      "|     MARILYNQUIJANOM     |\n",
      "|        Empedraera       |\n",
      "|      _ManuelaSaenz      |\n",
      "|       musicajusta       |\n",
      "|       MgtesXElAlba      |\n",
      "|       chechemilano      |\n",
      "|      borgesclaudio      |\n",
      "|      Omar_candanga      |\n",
      "|      patochavista13     |\n",
      "|        conchajua        |\n",
      "|       albertucho23      |\n",
      "|      diazvaleria524     |\n",
      "|     Lepetitmaitrerc     |\n",
      "|         ceoworld        |\n",
      "|        NazRuh6019       |\n",
      "|          4FGrup         |\n",
      "|     leonardoanton67     |\n",
      "|     EuclidesMaduro2     |\n",
      "|        1000pijaos       |\n",
      "|        elkabayo33       |\n",
      "|       ciskomendez       |\n",
      "|      QueHacerMacas      |\n",
      "|       Ecogranjero       |\n",
      "|       CriticaRoja       |\n",
      "|       fundacredesa      |\n",
      "|       iFernando69       |\n",
      "|       PauloTruglio      |\n",
      "|         munrra20        |\n",
      "|     arevalocandanga     |\n",
      "|       tworldgroup       |\n",
      "|         15039417        |\n",
      "|      EagleSports80      |\n",
      "|       venceremos41      |\n",
      "|      ALaBatallaVoy      |\n",
      "|        saezyvega        |\n",
      "|       aleman72psuv      |\n",
      "|         yorasanz        |\n",
      "|          odjchg         |\n",
      "|       Union_Social      |\n",
      "|       dialogamosec      |\n",
      "|         UkAtif1         |\n",
      "|      ArrietaRaibert     |\n",
      "|     stephifernande1     |\n",
      "|       kimberly9090      |\n",
      "|      javiermonagasm     |\n",
      "|       CmdoChavista      |\n",
      "|         subaie_i        |\n",
      "+-------------------------+\n"
     ]
    }
   ],
   "source": [
    "import tweepy\n",
    "auth_tweepy = tweepy.OAuthHandler(CONSUMER_KEY, CONSUMER_SECRET)\n",
    "auth_tweepy.set_access_token(OAUTH_TOKEN, OAUTH_TOKEN_SECRET)\n",
    "\n",
    "api = tweepy.API(auth_tweepy)\n",
    "user = api.get_user(popular_tw[2])\n",
    "title = \"%s's followers:\" % (user.screen_name)\n",
    "followers = map((lambda f: f.screen_name), user.followers(count=100))\n",
    "\n",
    "pt = PrettyTable()\n",
    "pt.add_column(title, followers)\n",
    "print pt\n"
   ]
  }
 ],
 "metadata": {
  "kernelspec": {
   "display_name": "Python 2",
   "language": "python",
   "name": "python2"
  },
  "language_info": {
   "codemirror_mode": {
    "name": "ipython",
    "version": 2
   },
   "file_extension": ".py",
   "mimetype": "text/x-python",
   "name": "python",
   "nbconvert_exporter": "python",
   "pygments_lexer": "ipython2",
   "version": "2.7.9"
  }
 },
 "nbformat": 4,
 "nbformat_minor": 0
}
