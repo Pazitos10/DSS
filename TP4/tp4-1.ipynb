{
 "cells": [
  {
   "cell_type": "markdown",
   "metadata": {},
   "source": [
    "### 1) Mineria de Datos sobre Redes Sociales y Sitios Web\n",
    "#### 1.1)   Tomando datos de la red social Twitter, al menos 200 tweets, realice un script que recolecte, procese y visualice los datos con las siguientes restricciones:"
   ]
  },
  {
   "cell_type": "markdown",
   "metadata": {},
   "source": [
    "##### a)Los tres trends más RT del momento."
   ]
  },
  {
   "cell_type": "code",
   "execution_count": 39,
   "metadata": {
    "collapsed": false,
    "scrolled": true
   },
   "outputs": [],
   "source": [
    "#Cargamos los paquetes necesarios para entrar a la API de Twitter\n",
    "import twitter\n",
    "import json\n",
    "from prettytable import PrettyTable\n",
    "from collections import Counter\n",
    "import pandas as pd\n",
    "\n",
    "keys = pd.read_json('keys.json')['KEYS']\n",
    "CONSUMER_KEY = keys['CONSUMER_KEY']\n",
    "CONSUMER_SECRET = keys['CONSUMER_SECRET']\n",
    "OAUTH_TOKEN = keys['OAUTH_TOKEN']\n",
    "OAUTH_TOKEN_SECRET = keys['OAUTH_TOKEN_SECRET']\n",
    "\n",
    "auth = twitter.oauth.OAuth(OAUTH_TOKEN, OAUTH_TOKEN_SECRET, CONSUMER_KEY, CONSUMER_SECRET)\n",
    "twitter_api = twitter.Twitter(auth=auth)"
   ]
  },
  {
   "cell_type": "markdown",
   "metadata": {},
   "source": [
    "#### Seteamos los WOEID para obtener los resultados "
   ]
  },
  {
   "cell_type": "code",
   "execution_count": 97,
   "metadata": {
    "collapsed": false
   },
   "outputs": [
    {
     "name": "stdout",
     "output_type": "stream",
     "text": [
      "+-----------------+\n",
      "|   Spain Trends  |\n",
      "+-----------------+\n",
      "|      Messi      |\n",
      "|      Atleti     |\n",
      "| #L6Ncataluña27s |\n",
      "+-----------------+\n"
     ]
    }
   ],
   "source": [
    "SPAIN_WOE_ID = 23424950\n",
    "spain_trends = twitter_api.trends.place(_id=SPAIN_WOE_ID)\n",
    "hashtags = spain_trends[0]['trends']\n",
    "trends = map(lambda i: hashtags[i]['name'], range(len(hashtags)))[:3]\n",
    "pt = PrettyTable()\n",
    "pt.add_column('Spain Trends', trends)\n",
    "print pt"
   ]
  },
  {
   "cell_type": "markdown",
   "metadata": {},
   "source": [
    "#### b )   Listar nombres de usuarios que publicaron con los hashtag de los trends del punto anterior."
   ]
  },
  {
   "cell_type": "code",
   "execution_count": 98,
   "metadata": {
    "collapsed": false
   },
   "outputs": [
    {
     "name": "stdout",
     "output_type": "stream",
     "text": [
      "+-----------------+\n",
      "|      Users      |\n",
      "+-----------------+\n",
      "|     sadratak    |\n",
      "|     Mont_Pla    |\n",
      "|   sihorizontal  |\n",
      "|  miquelcasellas |\n",
      "|     mchsccp     |\n",
      "|  matiascampos99 |\n",
      "|     zatsuani    |\n",
      "|   DavidPiri88   |\n",
      "|   CatSobirana   |\n",
      "|    ortiiz117    |\n",
      "|   Meely_Shoue   |\n",
      "|    Mjvfiel45    |\n",
      "|    zugrusina    |\n",
      "|   gerardsoccer  |\n",
      "| SalvaCasablancs |\n",
      "|  Nicotorrescab  |\n",
      "|   JA_Pedraza_   |\n",
      "|      VotaDN     |\n",
      "|   dan_casquito  |\n",
      "|    AnaVeliz92   |\n",
      "|     Ruth_tvz    |\n",
      "| JuanManuelLacr1 |\n",
      "|     femape40    |\n",
      "|  merceditasmar  |\n",
      "|  dan_chaparrog  |\n",
      "|  AgusPedernera6 |\n",
      "|    AgataName    |\n",
      "| FrancisJRHowell |\n",
      "| RahimovKhurshed |\n",
      "|    seaworld8    |\n",
      "+-----------------+\n"
     ]
    }
   ],
   "source": [
    "# Obtenemos los tweets\n",
    "CANT = 10\n",
    "in_spain = set(trends)\n",
    "\n",
    "tweets = []\n",
    "for i in range(len(in_spain)):\n",
    "    results = twitter_api.search.tweets(q=in_spain.pop() , count=CANT)\n",
    "    tweets += results['statuses']\n",
    "\n",
    "# Obtenemos los nombres de los users\n",
    "screen_name = map( lambda i: tweets[i]['user']['screen_name'], range(len(tweets)))\n",
    "screen_name = list(set(screen_name)) #sin repetidos\n",
    "pt = PrettyTable()\n",
    "pt.add_column('Users', screen_name )\n",
    "\n",
    "#mostramos los resultados en una tabla\n",
    "print pt"
   ]
  },
  {
   "cell_type": "markdown",
   "metadata": {},
   "source": [
    "#### c) Cuales son las cinco palabras más utilizadas en los tweets del primer item."
   ]
  },
  {
   "cell_type": "code",
   "execution_count": 99,
   "metadata": {
    "collapsed": false
   },
   "outputs": [
    {
     "name": "stdout",
     "output_type": "stream",
     "text": [
      "+-------+-------+\n",
      "| Words | Count |\n",
      "+-------+-------+\n",
      "|   RT  |   23  |\n",
      "|   de  |   19  |\n",
      "|   la  |   13  |\n",
      "|   y   |   11  |\n",
      "|   el  |   10  |\n",
      "+-------+-------+\n"
     ]
    }
   ],
   "source": [
    "text = map( lambda i: tweets[i]['text'], range(len(tweets)))\n",
    "words = [ word for twt in text for word in twt.split() ]\n",
    "c = Counter(words)\n",
    "#print c.most_common()\n",
    "\n",
    "pt = PrettyTable(field_names=['Words', 'Count'])\n",
    "map(lambda r: pt.add_row(r), c.most_common()[:5])\n",
    "print pt"
   ]
  },
  {
   "cell_type": "markdown",
   "metadata": {},
   "source": [
    "#### d) Listar los primeros 10 usuarios con mayor cantidad de seguidores"
   ]
  },
  {
   "cell_type": "code",
   "execution_count": 100,
   "metadata": {
    "collapsed": false
   },
   "outputs": [
    {
     "name": "stdout",
     "output_type": "stream",
     "text": [
      "+----------------+-----------------+\n",
      "|  screen_name   | followers_count |\n",
      "+----------------+-----------------+\n",
      "|    zatsuani    |       3957      |\n",
      "|   AgataName    |       2762      |\n",
      "|  CatSobirana   |       2449      |\n",
      "| miquelcasellas |       2057      |\n",
      "|     VotaDN     |       1871      |\n",
      "|    mchsccp     |       1812      |\n",
      "|  sihorizontal  |       1137      |\n",
      "|    Ruth_tvz    |       1100      |\n",
      "|  Meely_Shoue   |       985       |\n",
      "|    femape40    |       943       |\n",
      "+----------------+-----------------+\n"
     ]
    }
   ],
   "source": [
    "lista_users_followers = map( lambda i: (tweets[i]['user']['screen_name'],tweets[i]['user']['followers_count']), range(len(tweets)))\n",
    "\n",
    "lista_users_followers = sorted(lista_users_followers, key=lambda x: x[1], reverse=True)[:10]\n",
    "users = map((lambda x: x[0]), lista_users_followers)\n",
    "followers = map((lambda x: x[1]), lista_users_followers)\n",
    "\n",
    "\n",
    "pt = PrettyTable()\n",
    "pt.add_column('screen_name', users)\n",
    "pt.add_column('followers_count', followers)\n",
    "print pt"
   ]
  },
  {
   "cell_type": "markdown",
   "metadata": {},
   "source": [
    "#### e) Listar la ubicación (o en su defecto time-zone ) del tweet."
   ]
  },
  {
   "cell_type": "code",
   "execution_count": 108,
   "metadata": {
    "collapsed": false
   },
   "outputs": [
    {
     "name": "stdout",
     "output_type": "stream",
     "text": [
      "+-----------------+--------------------------------+\n",
      "|       User      |         Location or TZ         |\n",
      "+-----------------+--------------------------------+\n",
      "|  Nicotorrescab  | Santa Marta , Lomas de Zamora  |\n",
      "|  dan_chaparrog  |        Bogotá, Colombia        |\n",
      "|     sadratak    |     Tierra camino de Marte     |\n",
      "|    AgataName    |         Lampung Tengah         |\n",
      "| RahimovKhurshed |              None              |\n",
      "|     mchsccp     |         Hometown Glory         |\n",
      "|  matiascampos99 |            ROSARIO             |\n",
      "|   Meely_Shoue   |             Hawaii             |\n",
      "|  AgusPedernera6 |    Argentina/05-08-15/River    |\n",
      "|   gerardsoccer  |          México, D.F           |\n",
      "|   DavidPiri88   |              None              |\n",
      "|     Mont_Pla    |             arreu              |\n",
      "|      VotaDN     |             España             |\n",
      "| JuanManuelLacr1 |              None              |\n",
      "|    seaworld8    |              None              |\n",
      "|     femape40    |              None              |\n",
      "|   sihorizontal  |  Madrid, Comunidad de Madrid   |\n",
      "|   CatSobirana   |              None              |\n",
      "|  miquelcasellas |          el vendrell           |\n",
      "| SalvaCasablancs |           Barcelona            |\n",
      "|     Ruth_tvz    |    Buenos Aires, Argentina     |\n",
      "|   JA_Pedraza_   |  Madrid, Comunidad de Madrid   |\n",
      "|    AnaVeliz92   |             españa             |\n",
      "|    ortiiz117    |           Greenland            |\n",
      "|     zatsuani    |          カントー地方          |\n",
      "|    Mjvfiel45    |   Pacific Time (US & Canada)   |\n",
      "|  merceditasmar  |             Madrid             |\n",
      "|    zugrusina    |              None              |\n",
      "|   dan_casquito  |              None              |\n",
      "| FrancisJRHowell |              None              |\n",
      "+-----------------+--------------------------------+\n"
     ]
    }
   ],
   "source": [
    "users = map( lambda i: tweets[i]['user']['screen_name'], range(len(tweets)))\n",
    "location_or_tz = map( lambda i: tweets[i]['user']['location'] or tweets[i]['user']['time_zone'], range(len(tweets)))\n",
    "\n",
    "pt = PrettyTable()\n",
    "pt.add_column('User', users)\n",
    "pt.add_column('Location or TZ', location_or_tz)\n",
    "print pt"
   ]
  },
  {
   "cell_type": "markdown",
   "metadata": {},
   "source": [
    "#### f) Listar los cinco tweets más populares.\n"
   ]
  },
  {
   "cell_type": "code",
   "execution_count": 121,
   "metadata": {
    "collapsed": false
   },
   "outputs": [
    {
     "name": "stdout",
     "output_type": "stream",
     "text": [
      "+----------------------------------------------------------------------------------+----------+\n",
      "| Tweet                                                                            | Retweets |\n",
      "+----------------------------------------------------------------------------------+----------+\n",
      "| RT @Rdelavarga: Messi viajó por todo USA, jugó 1 partido y medio con la          | 400      |\n",
      "| Selección, fue papá hace un día, hoy va al banco, ingresa y hace un…             |          |\n",
      "| RT @Rdelavarga: Messi viajó por todo USA, jugó 1 partido y medio con la          | 400      |\n",
      "| Selección, fue papá hace un día, hoy va al banco, ingresa y hace un…             |          |\n",
      "| RT @futmais: GOLAÇO DE FALTA DE NEYMAR! Atléti 1x1 Barça https://t.co/1bInMWZDE1 | 379      |\n",
      "| RT @ActuFoot_: Thiago &amp; Mateo Messi... http://t.co/Fxyg56ldVR                | 317      |\n",
      "| RT @AndreHenning: Desculpem aos que ainda forçam em criar uma polêmica, mas      | 197      |\n",
      "| mesmo com os 5 de hoje, Messi &gt;&gt;&gt; Cristiano. Muuuuuito!                 |          |\n",
      "+----------------------------------------------------------------------------------+----------+\n"
     ]
    }
   ],
   "source": [
    "texto_y_rt = map( lambda i: (tweets[i]['text'], tweets[i]['retweet_count'], tweets[i]['user']['id']), range(len(tweets)))\n",
    "\n",
    "texto_y_rt = sorted(texto_y_rt, key=lambda x: x[1], reverse=True)[:5]\n",
    "texto = map((lambda x: x[0]), texto_y_rt)\n",
    "rts = map((lambda x: x[1]), texto_y_rt)\n",
    "\n",
    "\n",
    "pt = PrettyTable()\n",
    "pt.add_column('Tweet', texto)\n",
    "pt.max_width['Tweet'] = 80\n",
    "pt.add_column('Retweets', rts)\n",
    "pt.align = 'l'\n",
    "print pt"
   ]
  },
  {
   "cell_type": "markdown",
   "metadata": {},
   "source": [
    "#### g) Listar a los seguidores del autor del tweet más popular"
   ]
  },
  {
   "cell_type": "code",
   "execution_count": null,
   "metadata": {
    "collapsed": true
   },
   "outputs": [],
   "source": []
  },
  {
   "cell_type": "code",
   "execution_count": null,
   "metadata": {
    "collapsed": true
   },
   "outputs": [],
   "source": []
  }
 ],
 "metadata": {
  "kernelspec": {
   "display_name": "Python 2",
   "language": "python",
   "name": "python2"
  },
  "language_info": {
   "codemirror_mode": {
    "name": "ipython",
    "version": 2
   },
   "file_extension": ".py",
   "mimetype": "text/x-python",
   "name": "python",
   "nbconvert_exporter": "python",
   "pygments_lexer": "ipython2",
   "version": "2.7.9"
  }
 },
 "nbformat": 4,
 "nbformat_minor": 0
}
